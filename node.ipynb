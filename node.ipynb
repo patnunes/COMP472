{
 "cells": [
  {
   "cell_type": "code",
   "execution_count": null,
   "metadata": {},
   "outputs": [],
   "source": [
    "\n",
    "class Node:\n",
    "    \"\"\"A node. Contains pointer to the parent\"\"\"\n",
    "\n",
    "    def __init__(self, state, parent=None, action=None, g_fxn=0):\n",
    "        self.state = state\n",
    "        self.parent = parent\n",
    "        self.g_fxn = 0  # Distance to start node, cost function\n",
    "        self.h_fxn = 0  # Distance to goal node, heuristic\n",
    "        self.f_fxn = 0  # Total cost, cost function + heuristic\n",
    "        self.action = action\n",
    "        self.depth = 0\n",
    "        if parent:\n",
    "            self.depth = parent.depth + 1\n",
    "\n",
    "    def __repr__(self):\n",
    "        return '{0}(action:{1}, g(node)={2}, h(node)={3}, f(node)={4})'.format(self.state, self.action, self.g_fxn, self.h_fxn, self.f_fxn)\n",
    "    \n",
    "    def less_h_fxn(self, other):\n",
    "        \"\"\"compares h_fxn value for 2 nodes\"\"\"\n",
    "        return self.h_fxn < other.h_fxn\n",
    "    \n",
    "    def less_g_fxn(self, other):\n",
    "        \"\"\"compares g_fxn value for 2 nodes\"\"\"\n",
    "        return self.g_fxn < other.g_fxn\n",
    "    \n",
    "    def __lt__(self, other):\n",
    "        \"\"\"For use with A*, compares f_fxn between two nodes\"\"\"\n",
    "        return self.f_fxn < other.f_fxn\n",
    "\n",
    "    def expand(self, puzzle):\n",
    "        \"\"\"List all states reachable in one step from current state.\"\"\"\n",
    "        return [self.child_node(puzzle, action)\n",
    "                for action in puzzle.actions(self.state)]\n",
    "\n",
    "    def child_node(self, puzzle, action):\n",
    "        next_state = puzzle.result(self.state, action)\n",
    "        next_node = Node(next_state, self, action, puzzle.g_fxn(self.g_fxn, self.state, action, next_state))\n",
    "        return next_node\n",
    "\n",
    "    def solution_path(self):\n",
    "        \"\"\"Return the solution path\"\"\"\n",
    "        node, path_back = self, []\n",
    "        while node:\n",
    "            path_back.append(node)\n",
    "            node = node.parent\n",
    "        return list(reversed(path_back))\n",
    "\n",
    "    def __eq__(self, other):\n",
    "        return isinstance(other, Node) and self.state == other.state\n",
    "\n"
   ]
  }
 ],
 "metadata": {
  "kernelspec": {
   "display_name": "Python 3.7.4 64-bit",
   "language": "python",
   "name": "python37464bitc99208c2f72947c78f1764e1c8b41eee"
  },
  "language_info": {
   "codemirror_mode": {
    "name": "ipython",
    "version": 3
   },
   "file_extension": ".py",
   "mimetype": "text/x-python",
   "name": "python",
   "nbconvert_exporter": "python",
   "pygments_lexer": "ipython3",
   "version": "3.7.4"
  }
 },
 "nbformat": 4,
 "nbformat_minor": 4
}
