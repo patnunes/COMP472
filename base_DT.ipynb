{
 "cells": [
  {
   "cell_type": "markdown",
   "metadata": {},
   "source": [
    "### Imports needed for decision trees"
   ]
  },
  {
   "cell_type": "code",
   "execution_count": 222,
   "metadata": {},
   "outputs": [],
   "source": [
    "import csv\n",
    "import numpy as np\n",
    "import pandas as pd\n",
    "\n",
    "#imports for DT\n",
    "from sklearn.tree import DecisionTreeClassifier\n",
    "from sklearn.metrics import classification_report, confusion_matrix\n",
    "\n",
    "#remove warnings\n",
    "import warnings\n",
    "warnings.filterwarnings(\"ignore\")"
   ]
  },
  {
   "cell_type": "markdown",
   "metadata": {},
   "source": [
    "## Base-DT "
   ]
  },
  {
   "cell_type": "markdown",
   "metadata": {},
   "source": [
    "From the results of the decision tree models created, the second data set seems to have much better predictions, and overall has better performance in terms of recall, precision, f1-measure. This is probably due to the fact that there are only 9 classes and 520 instances. In comparison to data set 1 which has 26 classes and only 80 instances. This allows for the training model to produce better predictions overall, since more instances are available. "
   ]
  },
  {
   "cell_type": "markdown",
   "metadata": {},
   "source": [
    "## Data Set 1 "
   ]
  },
  {
   "cell_type": "code",
   "execution_count": 223,
   "metadata": {},
   "outputs": [],
   "source": [
    "#Retrieve test data for dataset1 from csv file\n",
    "test_set1 = pd.read_csv(\"Assig1-Dataset/test_with_label_1.csv\", header=None)\n",
    "#test_set1.shape #display number of (rows, columns) to ensure all the data was retrieved\n",
    "\n",
    "#seperate values/labels from the test data\n",
    "y_test1 = test_set1[1024] #the set of labels to all the data in x_test\n",
    "x_test1 = test_set1.drop(1024, axis=1) #test data set\n",
    "\n",
    "#Retrieve train set data for dataset1 from csv file\n",
    "train_set1 = pd.read_csv(\"Assig1-Dataset/train_1.csv\", header=None)\n",
    "\n",
    "#seperate values/labels from the train data\n",
    "target_train1 = train_set1[1024] #y_train, the set of labels to all the data in x_train\n",
    "x_train1 = train_set1.drop(1024,axis=1) #the training data set"
   ]
  },
  {
   "cell_type": "markdown",
   "metadata": {},
   "source": [
    "## Training / Prediction"
   ]
  },
  {
   "cell_type": "code",
   "execution_count": 224,
   "metadata": {},
   "outputs": [],
   "source": [
    "#create model for ds1\n",
    "dtree1 = DecisionTreeClassifier(criterion = \"entropy\") #Use entropy as the decision criterion for the tree, all other values are set to default\n",
    "dtree1 = dtree1.fit(x_train1, target_train1) #fit is used to train the algo based on the training data\n",
    "dt_pred1 = dtree1.predict(x_test1) #predictions based on the test data"
   ]
  },
  {
   "cell_type": "markdown",
   "metadata": {},
   "source": [
    "## Plot confusion matrix"
   ]
  },
  {
   "cell_type": "code",
   "execution_count": 225,
   "metadata": {},
   "outputs": [
    {
     "name": "stdout",
     "output_type": "stream",
     "text": [
      "[[3 0 0 0 0 0 0 0 0 0 0 0 0 1 0 0 0 0 0 0 0 0 0 0 0 0]\n",
      " [0 0 0 0 0 0 0 0 0 0 0 0 0 0 0 1 0 0 0 0 0 0 0 0 0 1]\n",
      " [0 0 3 0 0 0 0 0 0 0 0 0 0 0 0 0 0 0 0 1 0 0 0 0 0 0]\n",
      " [0 1 0 1 0 0 0 0 0 0 0 0 0 0 0 1 0 0 0 0 0 0 0 0 0 0]\n",
      " [0 0 0 0 1 0 0 0 0 0 0 0 0 0 0 0 0 0 0 0 0 0 0 0 0 1]\n",
      " [0 0 0 0 0 1 0 0 0 0 0 0 0 0 0 0 0 1 0 0 0 0 0 0 0 0]\n",
      " [1 0 0 0 0 0 2 0 0 0 0 0 0 0 1 0 0 0 0 0 0 0 0 0 0 0]\n",
      " [0 0 0 0 0 0 0 1 0 0 0 0 0 1 0 0 0 0 0 0 0 0 1 0 0 0]\n",
      " [0 0 0 1 0 0 0 0 1 0 0 0 0 0 0 0 0 0 0 0 1 0 0 0 0 0]\n",
      " [0 0 0 0 0 0 0 0 0 3 0 0 0 0 0 0 0 0 0 1 0 0 0 0 0 0]\n",
      " [0 0 0 0 0 0 0 0 0 0 0 0 0 0 0 0 0 0 0 0 1 1 0 0 1 0]\n",
      " [0 0 0 0 0 0 0 0 0 0 0 3 0 0 0 0 0 0 0 0 1 0 0 0 0 0]\n",
      " [0 0 0 0 0 0 0 0 0 0 0 0 0 0 0 0 0 0 0 0 0 0 1 0 2 0]\n",
      " [0 0 0 0 0 0 0 0 0 0 0 0 0 3 0 0 0 0 0 0 0 1 0 0 0 0]\n",
      " [0 0 0 0 0 0 0 0 0 0 0 0 0 0 2 0 1 0 0 0 0 0 0 0 0 0]\n",
      " [0 0 0 0 0 0 0 0 0 0 0 0 0 0 1 2 0 0 0 0 0 0 0 0 0 0]\n",
      " [0 0 0 0 1 0 0 0 0 0 0 0 0 0 1 0 1 0 0 0 0 0 0 0 0 0]\n",
      " [0 0 0 0 0 0 0 0 0 0 0 0 0 0 1 0 0 2 0 1 0 0 0 0 0 0]\n",
      " [0 0 1 0 0 0 0 0 0 0 0 0 0 0 0 0 0 0 2 0 0 0 0 0 0 0]\n",
      " [0 0 0 0 0 0 0 0 0 0 0 0 0 0 1 0 0 0 0 1 0 0 0 0 0 0]\n",
      " [0 0 0 0 0 0 0 0 0 0 0 0 0 0 0 0 0 0 0 0 3 0 0 0 0 0]\n",
      " [0 0 0 0 0 0 0 0 0 0 0 0 0 0 0 0 0 0 0 0 0 2 1 0 0 0]\n",
      " [1 0 0 0 0 0 0 0 0 0 0 0 0 1 0 0 0 0 0 0 0 0 1 0 0 0]\n",
      " [0 0 0 0 0 0 0 0 0 0 0 0 0 0 0 0 0 0 0 0 0 0 1 1 0 0]\n",
      " [0 0 0 0 0 0 0 0 0 0 0 0 0 0 0 0 0 0 0 0 0 0 0 1 2 0]\n",
      " [0 0 0 0 0 0 0 0 0 1 0 0 0 1 0 0 0 0 0 0 0 0 0 1 0 0]]\n"
     ]
    }
   ],
   "source": [
    "#print confustion matrix\n",
    "print(confusion_matrix(y_test1, dt_pred1))"
   ]
  },
  {
   "cell_type": "markdown",
   "metadata": {},
   "source": [
    "## Print Classification Report: Precision, Recall, F-1 Measure for each class"
   ]
  },
  {
   "cell_type": "code",
   "execution_count": 226,
   "metadata": {},
   "outputs": [
    {
     "name": "stdout",
     "output_type": "stream",
     "text": [
      "              precision    recall  f1-score   support\n",
      "\n",
      "           0       0.60      0.75      0.67         4\n",
      "           1       0.00      0.00      0.00         2\n",
      "           2       0.75      0.75      0.75         4\n",
      "           3       0.50      0.33      0.40         3\n",
      "           4       0.50      0.50      0.50         2\n",
      "           5       1.00      0.50      0.67         2\n",
      "           6       1.00      0.50      0.67         4\n",
      "           7       1.00      0.33      0.50         3\n",
      "           8       1.00      0.33      0.50         3\n",
      "           9       0.75      0.75      0.75         4\n",
      "          10       0.00      0.00      0.00         3\n",
      "          11       1.00      0.75      0.86         4\n",
      "          12       0.00      0.00      0.00         3\n",
      "          13       0.43      0.75      0.55         4\n",
      "          14       0.29      0.67      0.40         3\n",
      "          15       0.50      0.67      0.57         3\n",
      "          16       0.50      0.33      0.40         3\n",
      "          17       0.67      0.50      0.57         4\n",
      "          18       1.00      0.67      0.80         3\n",
      "          19       0.25      0.50      0.33         2\n",
      "          20       0.50      1.00      0.67         3\n",
      "          21       0.50      0.67      0.57         3\n",
      "          22       0.20      0.33      0.25         3\n",
      "          23       0.33      0.50      0.40         2\n",
      "          24       0.40      0.67      0.50         3\n",
      "          25       0.00      0.00      0.00         3\n",
      "\n",
      "    accuracy                           0.51        80\n",
      "   macro avg       0.53      0.49      0.47        80\n",
      "weighted avg       0.55      0.51      0.50        80\n",
      "\n"
     ]
    }
   ],
   "source": [
    "#print classificaton report\n",
    "print(classification_report(y_test1, dt_pred1))"
   ]
  },
  {
   "cell_type": "markdown",
   "metadata": {},
   "source": [
    "## Data Set 2"
   ]
  },
  {
   "cell_type": "code",
   "execution_count": 227,
   "metadata": {},
   "outputs": [],
   "source": [
    "#Retrieve test data for dataset2 from csv file\n",
    "test_set2 = pd.read_csv(\"Assig1-Dataset/test_with_label_2.csv\", header=None)\n",
    "\n",
    "#seperate values/labels from the test data\n",
    "y_test2 = test_set2[1024] #the set of labels to all the data in x_test\n",
    "x_test2 = test_set2.drop(1024, axis=1) #test data set\n",
    "\n",
    "#Retrieve training data for dataset2 from csv file\n",
    "train_set2 = pd.read_csv(\"Assig1-Dataset/train_2.csv\", header=None)\n",
    "\n",
    "#seperate values/labels from the test data\n",
    "target_train2 = train_set2[1024] #y_train, the set of labels to all the data in x_train\n",
    "x_train2 = train_set2.drop(1024,axis=1) #the training data set\n"
   ]
  },
  {
   "cell_type": "markdown",
   "metadata": {},
   "source": [
    "## Training / Prediction"
   ]
  },
  {
   "cell_type": "code",
   "execution_count": 228,
   "metadata": {},
   "outputs": [],
   "source": [
    "#create model for ds2\n",
    "dtree2 = DecisionTreeClassifier(criterion = \"entropy\") #Use entropy as the decision criterion for the tree, all other values are set to default\n",
    "dtree2 = dtree2.fit(x_train2, target_train2) #fit is used to train the algo based on the training data\n",
    "dt_pred2 = dtree2.predict(x_test2) #predictions based on the test data"
   ]
  },
  {
   "cell_type": "markdown",
   "metadata": {},
   "source": [
    "## Plot Confusion Matrix"
   ]
  },
  {
   "cell_type": "code",
   "execution_count": 229,
   "metadata": {},
   "outputs": [
    {
     "name": "stdout",
     "output_type": "stream",
     "text": [
      "[[ 47   1   0   0   4   0   0   0   0   3]\n",
      " [  0 113   0   4   3   2   1   0   2   0]\n",
      " [  0   0   8   0   1   1   0   0   3   2]\n",
      " [  0   3   0  11   0   1   0   0   0   0]\n",
      " [  2   1   0   1  26   3   1   1   2  13]\n",
      " [  1   0   2   1   3  39   0   0   0   9]\n",
      " [  1   0   2   0   0   1   7   0   2   2]\n",
      " [  0   2   0   0   0   0   0  12   1   0]\n",
      " [  3   0   0   0   0   0   1   0  44   2]\n",
      " [  2   0   1   0  10  11   1   0   2  98]]\n"
     ]
    }
   ],
   "source": [
    "#print out confusion matrix\n",
    "print(confusion_matrix(y_test2, dt_pred2))"
   ]
  },
  {
   "cell_type": "markdown",
   "metadata": {},
   "source": [
    "## Print Classification Report: Precision, Recall, F-1 Measure for each class"
   ]
  },
  {
   "cell_type": "code",
   "execution_count": 230,
   "metadata": {},
   "outputs": [
    {
     "name": "stdout",
     "output_type": "stream",
     "text": [
      "\n",
      "\n",
      "              precision    recall  f1-score   support\n",
      "\n",
      "           0       0.84      0.85      0.85        55\n",
      "           1       0.94      0.90      0.92       125\n",
      "           2       0.62      0.53      0.57        15\n",
      "           3       0.65      0.73      0.69        15\n",
      "           4       0.55      0.52      0.54        50\n",
      "           5       0.67      0.71      0.69        55\n",
      "           6       0.64      0.47      0.54        15\n",
      "           7       0.92      0.80      0.86        15\n",
      "           8       0.79      0.88      0.83        50\n",
      "           9       0.76      0.78      0.77       125\n",
      "\n",
      "    accuracy                           0.78       520\n",
      "   macro avg       0.74      0.72      0.73       520\n",
      "weighted avg       0.78      0.78      0.78       520\n",
      "\n"
     ]
    }
   ],
   "source": [
    "print(\"\\n\")\n",
    "print(classification_report(y_test2, dt_pred2))"
   ]
  },
  {
   "cell_type": "markdown",
   "metadata": {},
   "source": [
    "## Writing Results to CSV for both data sets"
   ]
  },
  {
   "cell_type": "markdown",
   "metadata": {},
   "source": [
    "## Creating CSV file Base-DT-DS1"
   ]
  },
  {
   "cell_type": "code",
   "execution_count": 231,
   "metadata": {},
   "outputs": [
    {
     "name": "stdout",
     "output_type": "stream",
     "text": [
      "Output file Base-DT-DS1 created!\n"
     ]
    }
   ],
   "source": [
    "filename = './outputs/Base-DT-DS1.csv'\n",
    "\n",
    "Base_DT_DS1 = pd.DataFrame(data=dt_pred1)\n",
    "Base_DT_DS1.index = Base_DT_DS1.index + 1\n",
    "Base_DT_DS1.to_csv(filename, header=None)\n",
    "\n",
    "writer = open(filename, 'a')\n",
    "\n",
    "writer.write(\"\\nConfusion Matrix:\\n\\n\")\n",
    "writer.write(str(confusion_matrix(y_test1, dt_pred1)))\n",
    "writer.write(\"\\n\\n\\n\")\n",
    "writer.write(\"\\nClassification Report:\\n\\n\")\n",
    "writer.write(str(classification_report(y_test1, y_pred1)))\n",
    "\n",
    "writer.close()\n",
    "print(\"Output file Base-DT-DS1 created!\")"
   ]
  },
  {
   "cell_type": "markdown",
   "metadata": {},
   "source": [
    "## Creating CSV file Base-DT-DS2"
   ]
  },
  {
   "cell_type": "code",
   "execution_count": 232,
   "metadata": {},
   "outputs": [
    {
     "name": "stdout",
     "output_type": "stream",
     "text": [
      "Output file Base-DT-DS2 created!\n"
     ]
    }
   ],
   "source": [
    "filename = './outputs/Base-DT-DS2.csv'\n",
    "\n",
    "Base_DT_DS2 = pd.DataFrame(dt_pred2)\n",
    "Base_DT_DS2.index = Base_DT_DS2.index + 1\n",
    "Base_DT_DS2.to_csv(filename, header=None)\n",
    "\n",
    "writer = open(filename, 'a')\n",
    "\n",
    "writer.write(\"\\nConfusion Matrix:\\n\\n\")\n",
    "writer.write(str(confusion_matrix(y_test2, dt_pred2)))\n",
    "writer.write(\"\\n\\n\\n\")\n",
    "writer.write(\"\\nClassification Report:\\n\\n\")\n",
    "writer.write(str(classification_report(y_test2, y_pred2)))\n",
    "\n",
    "writer.close()\n",
    "print(\"Output file Base-DT-DS2 created!\")"
   ]
  }
 ],
 "metadata": {
  "kernelspec": {
   "display_name": "Python 3",
   "language": "python",
   "name": "python3"
  },
  "language_info": {
   "codemirror_mode": {
    "name": "ipython",
    "version": 3
   },
   "file_extension": ".py",
   "mimetype": "text/x-python",
   "name": "python",
   "nbconvert_exporter": "python",
   "pygments_lexer": "ipython3",
   "version": "3.8.3"
  }
 },
 "nbformat": 4,
 "nbformat_minor": 4
}
