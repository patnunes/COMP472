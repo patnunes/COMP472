{
 "cells": [
  {
   "cell_type": "code",
   "execution_count": 2,
   "metadata": {},
   "outputs": [],
   "source": [
    "import random"
   ]
  },
  {
   "cell_type": "markdown",
   "metadata": {},
   "source": [
    "# 2.4 Analysis"
   ]
  },
  {
   "cell_type": "code",
   "execution_count": 7,
   "metadata": {},
   "outputs": [],
   "source": [
    "#This will generate a file with random puzzles\n",
    "\n",
    "#sample = './a2-dataset/samplePuzzles.txt'\n",
    "puzzle_file = './a2-dataset/puzzles.txt'\n",
    "puzzles = []\n",
    "with open(puzzle_file, 'w')as f:\n",
    "    template_puzzle = [1,2,3,4,5,6,7,0]\n",
    "    for x in range(50):\n",
    "        random.shuffle(template_puzzle)\n",
    "        f.write(str(template_puzzle) + '\\n')\n",
    "        puzzles.append(template_puzzle)"
   ]
  },
  {
   "cell_type": "code",
   "execution_count": 12,
   "metadata": {},
   "outputs": [],
   "source": [
    "total_length_solution =0\n",
    "total_length_search = 0\n",
    "total_nb_nosolution = 0\n",
    "total_cost = 0\n",
    "total_execution_time = 0"
   ]
  },
  {
   "cell_type": "code",
   "execution_count": 13,
   "metadata": {},
   "outputs": [],
   "source": [
    "# Some code to evaluate UCS given puzzle"
   ]
  },
  {
   "cell_type": "code",
   "execution_count": 14,
   "metadata": {},
   "outputs": [],
   "source": [
    "avg_length_solution = total_length_solution/50\n",
    "avg_length_search = total_length_search/50\n",
    "avg_nb_nosolution = total_nb_nosolution/50\n",
    "avg_cost = total_cost/50\n",
    "avg_execution_time = total_execution_time/50"
   ]
  },
  {
   "cell_type": "code",
   "execution_count": 21,
   "metadata": {},
   "outputs": [],
   "source": [
    "with open('./output/ucs_analysis.txt', 'w')as f:\n",
    "    f.write(f'Total length of search: {total_length_search}\\n')\n",
    "    f.write(f'Total length of solution: {total_length_solution}\\n')\n",
    "    f.write(f'Total number of no solution: {total_nb_nosolution}\\n')\n",
    "    f.write(f'Total cost: {total_cost}\\n')\n",
    "    f.write(f'Total execution time: {total_execution_time}\\n')\n",
    "    f.write(f'Average length of search: {avg_length_search}\\n')\n",
    "    f.write(f'Average length of solution: {avg_length_solution}\\n')\n",
    "    f.write(f'Average number of no solution: {avg_nb_nosolution}\\n')\n",
    "    f.write(f'Average cost: {avg_cost}\\n')\n",
    "    f.write(f'Average execution time: {avg_execution_time}\\n')"
   ]
  },
  {
   "cell_type": "markdown",
   "metadata": {},
   "source": [
    "# 2.5 scaling Up"
   ]
  },
  {
   "cell_type": "code",
   "execution_count": 17,
   "metadata": {},
   "outputs": [],
   "source": [
    "scaled_puzzle_file = './a2-dataset/scaled_puzzles.txt'\n",
    "scaled_puzzles = []\n",
    "with open(scaled_puzzle_file, 'w')as f:\n",
    "    scaled_template_puzzle = [1,2,3,4,5,6,7,0]\n",
    "    for x in range(50):\n",
    "        random.shuffle(scaled_template_puzzle)\n",
    "        f.write(str(scaled_template_puzzle) + '\\n')\n",
    "        scaled_puzzles.append(scaled_template_puzzle)"
   ]
  },
  {
   "cell_type": "code",
   "execution_count": null,
   "metadata": {},
   "outputs": [],
   "source": []
  }
 ],
 "metadata": {
  "kernelspec": {
   "display_name": "Python 3",
   "language": "python",
   "name": "python3"
  },
  "language_info": {
   "codemirror_mode": {
    "name": "ipython",
    "version": 3
   },
   "file_extension": ".py",
   "mimetype": "text/x-python",
   "name": "python",
   "nbconvert_exporter": "python",
   "pygments_lexer": "ipython3",
   "version": "3.8.3"
  }
 },
 "nbformat": 4,
 "nbformat_minor": 4
}
