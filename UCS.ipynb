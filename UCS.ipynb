{
 "cells": [
  {
   "cell_type": "code",
   "execution_count": null,
   "metadata": {},
   "outputs": [],
   "source": [
    "##By Louis-Benjamin Durocher \n",
    "## 1. Uniform Cost"
   ]
  },
  {
   "cell_type": "code",
   "execution_count": 1,
   "metadata": {},
   "outputs": [],
   "source": [
    "def uniform_cost(puzzle):\n",
    "    start = time.time()\n",
    "    node = Node(puzzle())\n",
    "    openlist = []\n",
    "    openlist.append(node)\n",
    "    closedlist = []\n",
    "    while openlist:\n",
    "        node = openlist.pop()\n",
    "        if puzzle.goal_test(node.state):\n",
    "            print(len(closedlist), \"paths have been expanded and\", len(openlist), \"paths remain in the openlist\")\n",
    "            return\n",
    "        closedlist.add(node.state)\n",
    "        for child in node.expand(puzzle):\n",
    "            if child.state not in closedlist and child not in openlist:\n",
    "                openlist.append(child)\n",
    "            elif child in openlist:\n",
    "                if f(child) < openlist[child]:\n",
    "                    del openlist[child]\n",
    "                    openlist.append(child)\n",
    "                    openlist.sort(node.path_cost)\n",
    "        \n",
    "        now = time.time()\n",
    "        if (now - start) > 60:\n",
    "            return\n",
    "    \n",
    "    return None"
   ]
  },
  {
   "cell_type": "code",
   "execution_count": null,
   "metadata": {},
   "outputs": [],
   "source": []
  }
 ],
 "metadata": {
  "kernelspec": {
   "display_name": "Python 3",
   "language": "python",
   "name": "python3"
  },
  "language_info": {
   "codemirror_mode": {
    "name": "ipython",
    "version": 3
   },
   "file_extension": ".py",
   "mimetype": "text/x-python",
   "name": "python",
   "nbconvert_exporter": "python",
   "pygments_lexer": "ipython3",
   "version": "3.8.3"
  }
 },
 "nbformat": 4,
 "nbformat_minor": 4
}
