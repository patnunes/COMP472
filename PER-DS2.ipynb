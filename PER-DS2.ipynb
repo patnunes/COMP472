{
 "cells": [
  {
   "cell_type": "code",
   "execution_count": 1,
   "metadata": {},
   "outputs": [],
   "source": [
    "from sklearn import preprocessing\n",
    "import pandas as pd\n",
    "import numpy as np\n",
    "import matplotlib.pyplot as plt\n",
    "import seaborn as sns\n",
    "import warnings\n",
    "warnings.filterwarnings('ignore') \n",
    "%matplotlib inline"
   ]
  },
  {
   "cell_type": "code",
   "execution_count": 2,
   "metadata": {},
   "outputs": [],
   "source": [
    "letters = pd.read_csv(\"Assig1-Dataset/info_2.csv\", header=0)"
   ]
  },
  {
   "cell_type": "code",
   "execution_count": 3,
   "metadata": {},
   "outputs": [
    {
     "data": {
      "text/html": [
       "<div>\n",
       "<style scoped>\n",
       "    .dataframe tbody tr th:only-of-type {\n",
       "        vertical-align: middle;\n",
       "    }\n",
       "\n",
       "    .dataframe tbody tr th {\n",
       "        vertical-align: top;\n",
       "    }\n",
       "\n",
       "    .dataframe thead th {\n",
       "        text-align: right;\n",
       "    }\n",
       "</style>\n",
       "<table border=\"1\" class=\"dataframe\">\n",
       "  <thead>\n",
       "    <tr style=\"text-align: right;\">\n",
       "      <th></th>\n",
       "      <th>index</th>\n",
       "      <th>symbol</th>\n",
       "    </tr>\n",
       "  </thead>\n",
       "  <tbody>\n",
       "    <tr>\n",
       "      <th>0</th>\n",
       "      <td>0</td>\n",
       "      <td>pi</td>\n",
       "    </tr>\n",
       "    <tr>\n",
       "      <th>1</th>\n",
       "      <td>1</td>\n",
       "      <td>alpha</td>\n",
       "    </tr>\n",
       "    <tr>\n",
       "      <th>2</th>\n",
       "      <td>2</td>\n",
       "      <td>beta</td>\n",
       "    </tr>\n",
       "    <tr>\n",
       "      <th>3</th>\n",
       "      <td>3</td>\n",
       "      <td>sigma</td>\n",
       "    </tr>\n",
       "    <tr>\n",
       "      <th>4</th>\n",
       "      <td>4</td>\n",
       "      <td>gamma</td>\n",
       "    </tr>\n",
       "  </tbody>\n",
       "</table>\n",
       "</div>"
      ],
      "text/plain": [
       "   index symbol\n",
       "0      0     pi\n",
       "1      1  alpha\n",
       "2      2   beta\n",
       "3      3  sigma\n",
       "4      4  gamma"
      ]
     },
     "execution_count": 3,
     "metadata": {},
     "output_type": "execute_result"
    }
   ],
   "source": [
    "letters.head()"
   ]
  },
  {
   "cell_type": "code",
   "execution_count": 4,
   "metadata": {},
   "outputs": [],
   "source": [
    "numbers = pd.read_csv(\"Assig1-Dataset/info_2.csv\", index_col=0, header=0, squeeze=True).to_dict()"
   ]
  },
  {
   "cell_type": "code",
   "execution_count": 5,
   "metadata": {},
   "outputs": [
    {
     "name": "stdout",
     "output_type": "stream",
     "text": [
      "{0: 'pi', 1: 'alpha', 2: 'beta', 3: 'sigma', 4: 'gamma', 5: 'delta', 6: 'lambda', 7: 'omega', 8: 'mu', 9: 'xi'}\n"
     ]
    }
   ],
   "source": [
    "print(numbers)"
   ]
  },
  {
   "cell_type": "code",
   "execution_count": 6,
   "metadata": {},
   "outputs": [],
   "source": [
    "test_set = pd.read_csv(\"Assig1-Dataset/test_with_label_2.csv\", header=None)"
   ]
  },
  {
   "cell_type": "code",
   "execution_count": 7,
   "metadata": {},
   "outputs": [
    {
     "data": {
      "text/html": [
       "<div>\n",
       "<style scoped>\n",
       "    .dataframe tbody tr th:only-of-type {\n",
       "        vertical-align: middle;\n",
       "    }\n",
       "\n",
       "    .dataframe tbody tr th {\n",
       "        vertical-align: top;\n",
       "    }\n",
       "\n",
       "    .dataframe thead th {\n",
       "        text-align: right;\n",
       "    }\n",
       "</style>\n",
       "<table border=\"1\" class=\"dataframe\">\n",
       "  <thead>\n",
       "    <tr style=\"text-align: right;\">\n",
       "      <th></th>\n",
       "      <th>0</th>\n",
       "      <th>1</th>\n",
       "      <th>2</th>\n",
       "      <th>3</th>\n",
       "      <th>4</th>\n",
       "      <th>5</th>\n",
       "      <th>6</th>\n",
       "      <th>7</th>\n",
       "      <th>8</th>\n",
       "      <th>9</th>\n",
       "      <th>...</th>\n",
       "      <th>1015</th>\n",
       "      <th>1016</th>\n",
       "      <th>1017</th>\n",
       "      <th>1018</th>\n",
       "      <th>1019</th>\n",
       "      <th>1020</th>\n",
       "      <th>1021</th>\n",
       "      <th>1022</th>\n",
       "      <th>1023</th>\n",
       "      <th>1024</th>\n",
       "    </tr>\n",
       "  </thead>\n",
       "  <tbody>\n",
       "    <tr>\n",
       "      <th>0</th>\n",
       "      <td>1</td>\n",
       "      <td>1</td>\n",
       "      <td>1</td>\n",
       "      <td>1</td>\n",
       "      <td>1</td>\n",
       "      <td>1</td>\n",
       "      <td>1</td>\n",
       "      <td>1</td>\n",
       "      <td>1</td>\n",
       "      <td>1</td>\n",
       "      <td>...</td>\n",
       "      <td>0</td>\n",
       "      <td>0</td>\n",
       "      <td>0</td>\n",
       "      <td>1</td>\n",
       "      <td>1</td>\n",
       "      <td>1</td>\n",
       "      <td>1</td>\n",
       "      <td>1</td>\n",
       "      <td>1</td>\n",
       "      <td>9</td>\n",
       "    </tr>\n",
       "    <tr>\n",
       "      <th>1</th>\n",
       "      <td>1</td>\n",
       "      <td>1</td>\n",
       "      <td>1</td>\n",
       "      <td>1</td>\n",
       "      <td>1</td>\n",
       "      <td>1</td>\n",
       "      <td>1</td>\n",
       "      <td>1</td>\n",
       "      <td>1</td>\n",
       "      <td>1</td>\n",
       "      <td>...</td>\n",
       "      <td>1</td>\n",
       "      <td>1</td>\n",
       "      <td>1</td>\n",
       "      <td>1</td>\n",
       "      <td>1</td>\n",
       "      <td>1</td>\n",
       "      <td>1</td>\n",
       "      <td>1</td>\n",
       "      <td>1</td>\n",
       "      <td>0</td>\n",
       "    </tr>\n",
       "    <tr>\n",
       "      <th>2</th>\n",
       "      <td>1</td>\n",
       "      <td>1</td>\n",
       "      <td>1</td>\n",
       "      <td>1</td>\n",
       "      <td>1</td>\n",
       "      <td>1</td>\n",
       "      <td>1</td>\n",
       "      <td>1</td>\n",
       "      <td>1</td>\n",
       "      <td>1</td>\n",
       "      <td>...</td>\n",
       "      <td>1</td>\n",
       "      <td>1</td>\n",
       "      <td>1</td>\n",
       "      <td>1</td>\n",
       "      <td>1</td>\n",
       "      <td>1</td>\n",
       "      <td>1</td>\n",
       "      <td>1</td>\n",
       "      <td>1</td>\n",
       "      <td>4</td>\n",
       "    </tr>\n",
       "    <tr>\n",
       "      <th>3</th>\n",
       "      <td>1</td>\n",
       "      <td>1</td>\n",
       "      <td>1</td>\n",
       "      <td>1</td>\n",
       "      <td>1</td>\n",
       "      <td>1</td>\n",
       "      <td>1</td>\n",
       "      <td>1</td>\n",
       "      <td>1</td>\n",
       "      <td>1</td>\n",
       "      <td>...</td>\n",
       "      <td>1</td>\n",
       "      <td>1</td>\n",
       "      <td>1</td>\n",
       "      <td>1</td>\n",
       "      <td>1</td>\n",
       "      <td>1</td>\n",
       "      <td>1</td>\n",
       "      <td>1</td>\n",
       "      <td>1</td>\n",
       "      <td>5</td>\n",
       "    </tr>\n",
       "    <tr>\n",
       "      <th>4</th>\n",
       "      <td>1</td>\n",
       "      <td>1</td>\n",
       "      <td>1</td>\n",
       "      <td>1</td>\n",
       "      <td>1</td>\n",
       "      <td>1</td>\n",
       "      <td>1</td>\n",
       "      <td>1</td>\n",
       "      <td>1</td>\n",
       "      <td>1</td>\n",
       "      <td>...</td>\n",
       "      <td>1</td>\n",
       "      <td>1</td>\n",
       "      <td>1</td>\n",
       "      <td>1</td>\n",
       "      <td>1</td>\n",
       "      <td>1</td>\n",
       "      <td>1</td>\n",
       "      <td>1</td>\n",
       "      <td>1</td>\n",
       "      <td>9</td>\n",
       "    </tr>\n",
       "  </tbody>\n",
       "</table>\n",
       "<p>5 rows × 1025 columns</p>\n",
       "</div>"
      ],
      "text/plain": [
       "   0     1     2     3     4     5     6     7     8     9     ...  1015  \\\n",
       "0     1     1     1     1     1     1     1     1     1     1  ...     0   \n",
       "1     1     1     1     1     1     1     1     1     1     1  ...     1   \n",
       "2     1     1     1     1     1     1     1     1     1     1  ...     1   \n",
       "3     1     1     1     1     1     1     1     1     1     1  ...     1   \n",
       "4     1     1     1     1     1     1     1     1     1     1  ...     1   \n",
       "\n",
       "   1016  1017  1018  1019  1020  1021  1022  1023  1024  \n",
       "0     0     0     1     1     1     1     1     1     9  \n",
       "1     1     1     1     1     1     1     1     1     0  \n",
       "2     1     1     1     1     1     1     1     1     4  \n",
       "3     1     1     1     1     1     1     1     1     5  \n",
       "4     1     1     1     1     1     1     1     1     9  \n",
       "\n",
       "[5 rows x 1025 columns]"
      ]
     },
     "execution_count": 7,
     "metadata": {},
     "output_type": "execute_result"
    }
   ],
   "source": [
    "test_set.head()"
   ]
  },
  {
   "cell_type": "code",
   "execution_count": 8,
   "metadata": {},
   "outputs": [
    {
     "name": "stdout",
     "output_type": "stream",
     "text": [
      "0      9\n",
      "1      0\n",
      "2      4\n",
      "3      5\n",
      "4      9\n",
      "      ..\n",
      "515    0\n",
      "516    1\n",
      "517    9\n",
      "518    6\n",
      "519    5\n",
      "Name: 1024, Length: 520, dtype: int64\n"
     ]
    }
   ],
   "source": [
    "y_test = test_set[1024] #the set of labels to all the data in x_test\n",
    "print(y_test)"
   ]
  },
  {
   "cell_type": "code",
   "execution_count": 9,
   "metadata": {},
   "outputs": [
    {
     "name": "stdout",
     "output_type": "stream",
     "text": [
      "     0     1     2     3     4     5     6     7     8     9     ...  1014  \\\n",
      "0       1     1     1     1     1     1     1     1     1     1  ...     0   \n",
      "1       1     1     1     1     1     1     1     1     1     1  ...     1   \n",
      "2       1     1     1     1     1     1     1     1     1     1  ...     1   \n",
      "3       1     1     1     1     1     1     1     1     1     1  ...     1   \n",
      "4       1     1     1     1     1     1     1     1     1     1  ...     0   \n",
      "..    ...   ...   ...   ...   ...   ...   ...   ...   ...   ...  ...   ...   \n",
      "515     1     1     1     1     1     1     1     1     1     1  ...     1   \n",
      "516     1     1     1     1     1     1     1     1     1     1  ...     1   \n",
      "517     1     1     1     1     1     1     1     1     1     0  ...     1   \n",
      "518     1     1     1     1     0     0     0     0     0     1  ...     1   \n",
      "519     1     1     1     1     1     1     1     1     1     1  ...     1   \n",
      "\n",
      "     1015  1016  1017  1018  1019  1020  1021  1022  1023  \n",
      "0       0     0     0     1     1     1     1     1     1  \n",
      "1       1     1     1     1     1     1     1     1     1  \n",
      "2       1     1     1     1     1     1     1     1     1  \n",
      "3       1     1     1     1     1     1     1     1     1  \n",
      "4       1     1     1     1     1     1     1     1     1  \n",
      "..    ...   ...   ...   ...   ...   ...   ...   ...   ...  \n",
      "515     1     1     1     1     1     1     1     1     1  \n",
      "516     1     1     1     1     1     1     1     1     1  \n",
      "517     1     1     1     1     1     1     1     1     1  \n",
      "518     1     1     1     1     1     1     1     1     1  \n",
      "519     1     1     1     1     1     1     1     1     1  \n",
      "\n",
      "[520 rows x 1024 columns]\n"
     ]
    }
   ],
   "source": [
    "X_test = test_set.drop(1024, axis=1) #test data set\n",
    "print(X_test)"
   ]
  },
  {
   "cell_type": "code",
   "execution_count": 10,
   "metadata": {},
   "outputs": [],
   "source": [
    "training_set = pd.read_csv(\"Assig1-Dataset/train_2.csv\", header=None)"
   ]
  },
  {
   "cell_type": "code",
   "execution_count": 11,
   "metadata": {},
   "outputs": [
    {
     "name": "stdout",
     "output_type": "stream",
     "text": [
      "      0     1     2     3     4     5     6     7     8     9     ...  1015  \\\n",
      "0        1     1     1     1     1     1     1     1     1     0  ...     1   \n",
      "1        1     1     1     1     1     1     1     1     1     1  ...     1   \n",
      "2        1     1     1     1     1     1     1     1     1     0  ...     1   \n",
      "3        1     1     1     1     1     1     1     1     1     1  ...     0   \n",
      "4        1     1     1     1     1     1     1     1     1     1  ...     1   \n",
      "...    ...   ...   ...   ...   ...   ...   ...   ...   ...   ...  ...   ...   \n",
      "7795     1     1     1     1     1     1     1     1     1     0  ...     1   \n",
      "7796     1     1     1     1     1     1     1     1     0     0  ...     0   \n",
      "7797     1     1     1     1     1     1     1     1     1     1  ...     1   \n",
      "7798     1     1     1     1     1     1     1     1     0     0  ...     1   \n",
      "7799     1     1     1     1     1     1     0     0     0     0  ...     1   \n",
      "\n",
      "      1016  1017  1018  1019  1020  1021  1022  1023  1024  \n",
      "0        1     1     1     1     1     1     1     1     9  \n",
      "1        1     1     1     1     1     1     1     1     0  \n",
      "2        1     1     1     1     1     1     1     1     9  \n",
      "3        0     1     1     1     1     1     1     1     4  \n",
      "4        1     1     1     1     1     1     1     1     9  \n",
      "...    ...   ...   ...   ...   ...   ...   ...   ...   ...  \n",
      "7795     1     1     1     1     1     1     1     1     9  \n",
      "7796     0     0     1     1     1     1     1     1     6  \n",
      "7797     1     1     1     1     1     1     1     1     5  \n",
      "7798     1     1     1     1     1     1     1     1     4  \n",
      "7799     1     1     1     1     1     1     1     1     5  \n",
      "\n",
      "[7800 rows x 1025 columns]\n"
     ]
    }
   ],
   "source": [
    "print(training_set)"
   ]
  },
  {
   "cell_type": "code",
   "execution_count": 12,
   "metadata": {},
   "outputs": [
    {
     "name": "stdout",
     "output_type": "stream",
     "text": [
      "0       9\n",
      "1       0\n",
      "2       9\n",
      "3       4\n",
      "4       9\n",
      "       ..\n",
      "7795    9\n",
      "7796    6\n",
      "7797    5\n",
      "7798    4\n",
      "7799    5\n",
      "Name: 1024, Length: 7800, dtype: int64\n"
     ]
    }
   ],
   "source": [
    "y_training = training_set[1024] #y_train, the set of labels to all the data in x_train\n",
    "print(y_training)"
   ]
  },
  {
   "cell_type": "code",
   "execution_count": 13,
   "metadata": {},
   "outputs": [],
   "source": [
    "X_training = training_set.drop(1024,axis=1) #the training data set"
   ]
  },
  {
   "cell_type": "code",
   "execution_count": 14,
   "metadata": {},
   "outputs": [],
   "source": [
    "from sklearn.linear_model import Perceptron\n",
    "per = Perceptron()\n",
    "per.fit(X_training, y_training)\n",
    "y_pred = per.predict(X_test)"
   ]
  },
  {
   "cell_type": "code",
   "execution_count": 15,
   "metadata": {},
   "outputs": [],
   "source": [
    "from sklearn.metrics import classification_report, confusion_matrix, f1_score"
   ]
  },
  {
   "cell_type": "code",
   "execution_count": 16,
   "metadata": {
    "scrolled": true
   },
   "outputs": [
    {
     "name": "stdout",
     "output_type": "stream",
     "text": [
      "[[ 52   0   0   0   0   0   0   0   1   2]\n",
      " [  2 121   0   1   0   0   0   0   1   0]\n",
      " [  1   0   8   0   0   1   0   0   4   1]\n",
      " [  0   0   0  14   1   0   0   0   0   0]\n",
      " [ 10   1   0   0  27   4   0   0   2   6]\n",
      " [  0   0   1   1   1  49   0   0   0   3]\n",
      " [  2   6   1   0   0   0   5   0   1   0]\n",
      " [  0   0   0   0   0   0   0  15   0   0]\n",
      " [  4   2   0   0   0   0   0   0  42   2]\n",
      " [  6   1   1   0   6   6   1   0   1 103]]\n"
     ]
    }
   ],
   "source": [
    "print(confusion_matrix(y_test, y_pred))"
   ]
  },
  {
   "cell_type": "code",
   "execution_count": 17,
   "metadata": {},
   "outputs": [
    {
     "name": "stdout",
     "output_type": "stream",
     "text": [
      "              precision    recall  f1-score   support\n",
      "\n",
      "           0       0.68      0.95      0.79        55\n",
      "           1       0.92      0.97      0.95       125\n",
      "           2       0.73      0.53      0.62        15\n",
      "           3       0.88      0.93      0.90        15\n",
      "           4       0.77      0.54      0.64        50\n",
      "           5       0.82      0.89      0.85        55\n",
      "           6       0.83      0.33      0.48        15\n",
      "           7       1.00      1.00      1.00        15\n",
      "           8       0.81      0.84      0.82        50\n",
      "           9       0.88      0.82      0.85       125\n",
      "\n",
      "    accuracy                           0.84       520\n",
      "   macro avg       0.83      0.78      0.79       520\n",
      "weighted avg       0.84      0.84      0.83       520\n",
      "\n"
     ]
    }
   ],
   "source": [
    "print(classification_report(y_test, y_pred))"
   ]
  },
  {
   "cell_type": "code",
   "execution_count": 18,
   "metadata": {},
   "outputs": [
    {
     "name": "stdout",
     "output_type": "stream",
     "text": [
      "[0, 1, 2, 3, 4, 5, 6, 7, 8, 9, 10, 11, 12, 13, 14] [0, 1, 4, 9, 16, 25, 36, 49, 64, 81, 100, 121, 144, 169, 196]\n"
     ]
    }
   ],
   "source": [
    "X =  list(range(15))\n",
    "y = [x * x for x in X]\n",
    "print (X, y)"
   ]
  },
  {
   "cell_type": "code",
   "execution_count": null,
   "metadata": {},
   "outputs": [],
   "source": []
  }
 ],
 "metadata": {
  "kernelspec": {
   "display_name": "Python 3",
   "language": "python",
   "name": "python3"
  },
  "language_info": {
   "codemirror_mode": {
    "name": "ipython",
    "version": 3
   },
   "file_extension": ".py",
   "mimetype": "text/x-python",
   "name": "python",
   "nbconvert_exporter": "python",
   "pygments_lexer": "ipython3",
   "version": "3.8.3"
  }
 },
 "nbformat": 4,
 "nbformat_minor": 4
}
