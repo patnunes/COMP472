{
 "cells": [
  {
   "cell_type": "code",
   "execution_count": null,
   "metadata": {},
   "outputs": [],
   "source": [
    "import heapq\n",
    "\n",
    "def astar_search(puzzle, goal_state):\n",
    "\n",
    "    ...\n",
    "    openHeap = [start]\n",
    "    heapq.heapify(openHeap)\n",
    "    ...\n",
    "    \n",
    "    #While there are still nodes to inspect, \n",
    "    while(len(openHeap) > 0):\n",
    "        # Pop the lowest f-score state off\n",
    "        current = heapq.heappop(openHeap)\n",
    "        \n",
    "        #if we reached the goal state\n",
    "        if current == goal_state:\n",
    "            # return the list of states it took to get to the goal state\n",
    "            ...\n",
    "            return path\n",
    "        \n",
    "        # make sure we won't visit this state again\n",
    "        # add to closed list\n",
    "        closedDict[current] = True\n",
    "        \n",
    "        # For each possible neighbor of our current state, add it to our open heap\n",
    "        for neighbor in current.get_neighbors(cameFrom.get(current)):\n",
    "            #Skip it if it has already been evaluated\n",
    "            if neighbor in closedDict:\n",
    "                continue\n",
    "            \n",
    "            heapq.heappush(openHeap, neighbor)\n",
    "            \n",
    "            tentative_gScore = gScore[current] + 1"
   ]
  }
 ],
 "metadata": {
  "kernelspec": {
   "display_name": "Python 3",
   "language": "python",
   "name": "python3"
  },
  "language_info": {
   "codemirror_mode": {
    "name": "ipython",
    "version": 3
   },
   "file_extension": ".py",
   "mimetype": "text/x-python",
   "name": "python",
   "nbconvert_exporter": "python",
   "pygments_lexer": "ipython3",
   "version": "3.8.3"
  }
 },
 "nbformat": 4,
 "nbformat_minor": 4
}
