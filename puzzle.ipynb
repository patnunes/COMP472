{
 "cells": [
  {
   "cell_type": "code",
   "execution_count": 225,
   "metadata": {},
   "outputs": [],
   "source": [
    "#Node Class\n",
    "\n",
    "class Puzzle:\n",
    "    \n",
    "    def __init__(self, puzzle, columns, rows):\n",
    "        self.puzzle = puzzle\n",
    "        self.columns = columns\n",
    "        self.rows = rows\n",
    "        self.puzzle_size = (len(self.puzzle))\n",
    "        self.cost = 0\n",
    "                       \n",
    "    def get_puzzle(self):\n",
    "        return (self.puzzle)\n",
    "    \n",
    "    def find_blank(self, state):\n",
    "        return state.index(0)\n",
    "    \n",
    "    #display current state of puzzle\n",
    "    def display_state(self):\n",
    "        for i in range(self.rows):\n",
    "            print(self.puzzle[i*self.columns:(i+1)*self.columns], sep = \",\")\n",
    "            \n",
    "    #TODO: make is work for 3x3\n",
    "    def goal_state(self):\n",
    "        goalState1 = sorted(self.puzzle)\n",
    "        goalState1.remove(0)\n",
    "        goalState1. append(0)\n",
    "        goalState2 = []\n",
    "        for x in range(self.puzzle_size):\n",
    "            if  x % 2 != 0:\n",
    "                goalState2.append(x)\n",
    "        for x in range(self.puzzle_size):\n",
    "            if x % 2 == 0:\n",
    "                goalState2.append(x)\n",
    "        goalState2.append(goalState2.pop(goalState2.index(0)))\n",
    "        return goalState1, goalState2\n",
    "        \n",
    "    def goal_test(self):\n",
    "        if self.puzzle == self.goal_state()[0] or self.puzzle == self.goal_state()[1]:\n",
    "            return True\n",
    "        return False\n",
    "    \n",
    "    def swapPositions(self, pos1, pos2): \n",
    "        list = self.puzzle\n",
    "        list[pos1], list[pos2] = list[pos2], list[pos1] \n",
    "        return list\n",
    "    \n",
    "    def moveLeft(self):\n",
    "        blank_index = self.find_blank(self.puzzle)\n",
    "        if (blank_index % self.columns != self.columns-1):\n",
    "            self.swapPositions(blank_index, blank_index+1)\n",
    "            self.cost += 1\n",
    "        else:\n",
    "            print('illegal move')\n",
    "        \n",
    "    def moveRight(self):\n",
    "        blank_index = self.find_blank(self.puzzle)\n",
    "        if (blank_index % self.columns != 0):\n",
    "            self.swapPositions(blank_index, blank_index-1)\n",
    "            self.cost += 1\n",
    "        else:\n",
    "            print('illegal move')\n",
    "    \n",
    "    def moveUp(self):\n",
    "        blank_index = self.find_blank(self.puzzle)\n",
    "        if (blank_index % self.rows != 0):\n",
    "            self.swapPositions(blank_index, blank_index+self.columns)\n",
    "            self.cost += 1\n",
    "        else:\n",
    "            print('illegal move')\n",
    "    #def moveDown:\n",
    "    \n",
    "    "
   ]
  },
  {
   "cell_type": "code",
   "execution_count": null,
   "metadata": {},
   "outputs": [],
   "source": []
  },
  {
   "cell_type": "code",
   "execution_count": 226,
   "metadata": {},
   "outputs": [
    {
     "name": "stdout",
     "output_type": "stream",
     "text": [
      "[4, 0, 1, 5]\n",
      "[7, 2, 3, 6]\n"
     ]
    }
   ],
   "source": [
    "puzzle1 = Puzzle([4, 0, 1, 5, 7, 2, 3,6], 4, 2)\n",
    "#[1,2,3,4,5,6,7,0]\n",
    "puzzle1.display_state()\n"
   ]
  },
  {
   "cell_type": "code",
   "execution_count": 227,
   "metadata": {},
   "outputs": [
    {
     "data": {
      "text/plain": [
       "([1, 2, 3, 4, 5, 6, 7, 0], [1, 3, 5, 7, 2, 4, 6, 0])"
      ]
     },
     "execution_count": 227,
     "metadata": {},
     "output_type": "execute_result"
    }
   ],
   "source": [
    "puzzle1.goal_state()\n",
    "    "
   ]
  },
  {
   "cell_type": "code",
   "execution_count": 230,
   "metadata": {},
   "outputs": [
    {
     "ename": "IndexError",
     "evalue": "list index out of range",
     "output_type": "error",
     "traceback": [
      "\u001b[1;31m---------------------------------------------------------------------------\u001b[0m",
      "\u001b[1;31mIndexError\u001b[0m                                Traceback (most recent call last)",
      "\u001b[1;32m<ipython-input-230-ce8c1c512abd>\u001b[0m in \u001b[0;36m<module>\u001b[1;34m\u001b[0m\n\u001b[1;32m----> 1\u001b[1;33m \u001b[0mpuzzle1\u001b[0m\u001b[1;33m.\u001b[0m\u001b[0mmoveUp\u001b[0m\u001b[1;33m(\u001b[0m\u001b[1;33m)\u001b[0m\u001b[1;33m\u001b[0m\u001b[1;33m\u001b[0m\u001b[0m\n\u001b[0m",
      "\u001b[1;32m<ipython-input-225-0ef8fabc19fa>\u001b[0m in \u001b[0;36mmoveUp\u001b[1;34m(self)\u001b[0m\n\u001b[0;32m     65\u001b[0m         \u001b[0mblank_index\u001b[0m \u001b[1;33m=\u001b[0m \u001b[0mself\u001b[0m\u001b[1;33m.\u001b[0m\u001b[0mfind_blank\u001b[0m\u001b[1;33m(\u001b[0m\u001b[0mself\u001b[0m\u001b[1;33m.\u001b[0m\u001b[0mpuzzle\u001b[0m\u001b[1;33m)\u001b[0m\u001b[1;33m\u001b[0m\u001b[1;33m\u001b[0m\u001b[0m\n\u001b[0;32m     66\u001b[0m         \u001b[1;32mif\u001b[0m \u001b[1;33m(\u001b[0m\u001b[0mblank_index\u001b[0m \u001b[1;33m%\u001b[0m \u001b[0mself\u001b[0m\u001b[1;33m.\u001b[0m\u001b[0mrows\u001b[0m \u001b[1;33m!=\u001b[0m \u001b[1;36m0\u001b[0m\u001b[1;33m)\u001b[0m\u001b[1;33m:\u001b[0m\u001b[1;33m\u001b[0m\u001b[1;33m\u001b[0m\u001b[0m\n\u001b[1;32m---> 67\u001b[1;33m             \u001b[0mself\u001b[0m\u001b[1;33m.\u001b[0m\u001b[0mswapPositions\u001b[0m\u001b[1;33m(\u001b[0m\u001b[0mblank_index\u001b[0m\u001b[1;33m,\u001b[0m \u001b[0mblank_index\u001b[0m\u001b[1;33m+\u001b[0m\u001b[0mself\u001b[0m\u001b[1;33m.\u001b[0m\u001b[0mcolumns\u001b[0m\u001b[1;33m)\u001b[0m\u001b[1;33m\u001b[0m\u001b[1;33m\u001b[0m\u001b[0m\n\u001b[0m\u001b[0;32m     68\u001b[0m             \u001b[0mself\u001b[0m\u001b[1;33m.\u001b[0m\u001b[0mcost\u001b[0m \u001b[1;33m+=\u001b[0m \u001b[1;36m1\u001b[0m\u001b[1;33m\u001b[0m\u001b[1;33m\u001b[0m\u001b[0m\n\u001b[0;32m     69\u001b[0m         \u001b[1;32melse\u001b[0m\u001b[1;33m:\u001b[0m\u001b[1;33m\u001b[0m\u001b[1;33m\u001b[0m\u001b[0m\n",
      "\u001b[1;32m<ipython-input-225-0ef8fabc19fa>\u001b[0m in \u001b[0;36mswapPositions\u001b[1;34m(self, pos1, pos2)\u001b[0m\n\u001b[0;32m     43\u001b[0m     \u001b[1;32mdef\u001b[0m \u001b[0mswapPositions\u001b[0m\u001b[1;33m(\u001b[0m\u001b[0mself\u001b[0m\u001b[1;33m,\u001b[0m \u001b[0mpos1\u001b[0m\u001b[1;33m,\u001b[0m \u001b[0mpos2\u001b[0m\u001b[1;33m)\u001b[0m\u001b[1;33m:\u001b[0m\u001b[1;33m\u001b[0m\u001b[1;33m\u001b[0m\u001b[0m\n\u001b[0;32m     44\u001b[0m         \u001b[0mlist\u001b[0m \u001b[1;33m=\u001b[0m \u001b[0mself\u001b[0m\u001b[1;33m.\u001b[0m\u001b[0mpuzzle\u001b[0m\u001b[1;33m\u001b[0m\u001b[1;33m\u001b[0m\u001b[0m\n\u001b[1;32m---> 45\u001b[1;33m         \u001b[0mlist\u001b[0m\u001b[1;33m[\u001b[0m\u001b[0mpos1\u001b[0m\u001b[1;33m]\u001b[0m\u001b[1;33m,\u001b[0m \u001b[0mlist\u001b[0m\u001b[1;33m[\u001b[0m\u001b[0mpos2\u001b[0m\u001b[1;33m]\u001b[0m \u001b[1;33m=\u001b[0m \u001b[0mlist\u001b[0m\u001b[1;33m[\u001b[0m\u001b[0mpos2\u001b[0m\u001b[1;33m]\u001b[0m\u001b[1;33m,\u001b[0m \u001b[0mlist\u001b[0m\u001b[1;33m[\u001b[0m\u001b[0mpos1\u001b[0m\u001b[1;33m]\u001b[0m\u001b[1;33m\u001b[0m\u001b[1;33m\u001b[0m\u001b[0m\n\u001b[0m\u001b[0;32m     46\u001b[0m         \u001b[1;32mreturn\u001b[0m \u001b[0mlist\u001b[0m\u001b[1;33m\u001b[0m\u001b[1;33m\u001b[0m\u001b[0m\n\u001b[0;32m     47\u001b[0m \u001b[1;33m\u001b[0m\u001b[0m\n",
      "\u001b[1;31mIndexError\u001b[0m: list index out of range"
     ]
    }
   ],
   "source": [
    "puzzle1.moveUp()"
   ]
  },
  {
   "cell_type": "code",
   "execution_count": 231,
   "metadata": {},
   "outputs": [
    {
     "name": "stdout",
     "output_type": "stream",
     "text": [
      "[4, 2, 1, 5]\n",
      "[7, 0, 3, 6]\n"
     ]
    }
   ],
   "source": [
    "puzzle1.display_state()"
   ]
  },
  {
   "cell_type": "code",
   "execution_count": null,
   "metadata": {},
   "outputs": [],
   "source": []
  },
  {
   "cell_type": "code",
   "execution_count": null,
   "metadata": {},
   "outputs": [],
   "source": []
  },
  {
   "cell_type": "code",
   "execution_count": null,
   "metadata": {},
   "outputs": [],
   "source": []
  }
 ],
 "metadata": {
  "kernelspec": {
   "display_name": "Python 3",
   "language": "python",
   "name": "python3"
  },
  "language_info": {
   "codemirror_mode": {
    "name": "ipython",
    "version": 3
   },
   "file_extension": ".py",
   "mimetype": "text/x-python",
   "name": "python",
   "nbconvert_exporter": "python",
   "pygments_lexer": "ipython3",
   "version": "3.8.3"
  }
 },
 "nbformat": 4,
 "nbformat_minor": 4
}
