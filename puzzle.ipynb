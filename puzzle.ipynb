{
 "cells": [
  {
   "cell_type": "code",
   "execution_count": 385,
   "metadata": {},
   "outputs": [],
   "source": [
    "\n",
    "\n",
    "class Puzzle:\n",
    "    \n",
    "    def __init__(self, puzzle, columns, rows):\n",
    "        self.puzzle = puzzle\n",
    "        self.columns = columns\n",
    "        self.rows = rows\n",
    "        self.puzzle_size = (len(self.puzzle))\n",
    "        self.cost = 0\n",
    "        self.topLeft = 0\n",
    "        self.topRight = self.columns -1\n",
    "        self.botLeft =  self.puzzle_size-self.columns\n",
    "        self.botRight = self.puzzle_size-1\n",
    "                       \n",
    "    def get_puzzle(self):\n",
    "        return (self.puzzle)\n",
    "    \n",
    "    def find_blank(self, state):\n",
    "        return state.index(0)\n",
    "    \n",
    "    #display current state of puzzle\n",
    "    def display_state(self):\n",
    "        for i in range(self.rows):\n",
    "            print(self.puzzle[i*self.columns:(i+1)*self.columns], sep = \",\")\n",
    "            \n",
    "    #TODO: make is work for 3x3\n",
    "    def goal_state(self):\n",
    "        goalState1 = sorted(self.puzzle)\n",
    "        goalState1.remove(0)\n",
    "        goalState1. append(0)\n",
    "        goalState2 = []\n",
    "        for x in range(self.puzzle_size):\n",
    "            if  x % 2 != 0:\n",
    "                goalState2.append(x)\n",
    "        for x in range(self.puzzle_size):\n",
    "            if x % 2 == 0:\n",
    "                goalState2.append(x)\n",
    "        goalState2.append(goalState2.pop(goalState2.index(0)))\n",
    "        return goalState1, goalState2\n",
    "        \n",
    "    def goal_test(self):\n",
    "        if self.puzzle == self.goal_state()[0] or self.puzzle == self.goal_state()[1]:\n",
    "            return True\n",
    "        return False\n",
    "    \n",
    "    def swapPositions(self, pos1, pos2): \n",
    "        list = self.puzzle\n",
    "        list[pos1], list[pos2] = list[pos2], list[pos1] \n",
    "        return list\n",
    "    \n",
    "    def moveLeft(self):\n",
    "        blank_index = self.find_blank(self.puzzle)\n",
    "        if (blank_index % self.columns == 0):\n",
    "            print('illegal move')\n",
    "        else:\n",
    "            self.swapPositions(blank_index, blank_index+1)\n",
    "            self.cost += 1\n",
    "        \n",
    "    def moveRight(self):\n",
    "        blank_index = self.find_blank(self.puzzle)\n",
    "        if (blank_index % self.columns == self.columns-1):\n",
    "            print('illegal move')\n",
    "        else:\n",
    "            self.swapPositions(blank_index, blank_index-1)\n",
    "            self.cost += 1\n",
    "    \n",
    "    def moveUp(self):\n",
    "        blank_index = self.find_blank(self.puzzle)\n",
    "        if (blank_index >= self.puzzle_size - self.columns):\n",
    "            print('illegal move')\n",
    "        else:\n",
    "            self.swapPositions(blank_index, blank_index+self.columns)\n",
    "            self.cost += 1\n",
    "    \n",
    "    def moveDown(self):\n",
    "        blank_index = self.find_blank(self.puzzle)\n",
    "        if (blank_index <= self.columns):\n",
    "            print('illegal move')\n",
    "        else:\n",
    "            self.swapPositions(blank_index, blank_index-self.columns)\n",
    "            self.cost += 1\n",
    "    \n",
    "    def wrapRight(self):\n",
    "        blank_index = self.find_blank(self.puzzle)\n",
    "        if (blank_index == self.botRight):\n",
    "            self.swapPositions(blank_index, self.puzzle_size-self.columns)\n",
    "            self.cost += 2\n",
    "            return\n",
    "        if (blank_index == self.topRight):\n",
    "            self.swapPositions(blank_index, 0)\n",
    "            self.cost += 2\n",
    "            return\n",
    "            \n",
    "    def wrapLeft(self):\n",
    "        blank_index = self.find_blank(self.puzzle)\n",
    "        if (blank_index == self.botLeft):\n",
    "            self.swapPositions(blank_index, self.puzzle_size-1)\n",
    "            self.cost += 2\n",
    "            return\n",
    "        if (blank_index == self.topLeft):\n",
    "            self.swapPositions(blank_index, self.columns-1)\n",
    "            self.cost += 2\n",
    "            return\n",
    "            \n",
    "    def diagAcross(self):\n",
    "        blank_index = self.find_blank(self.puzzle)\n",
    "        if (blank_index == self.topLeft):\n",
    "            self.swapPositions(blank_index, self.botRight)\n",
    "            self.cost += 3\n",
    "            return\n",
    "        elif (blank_index == self.botLeft):\n",
    "            self.swapPositions(blank_index, topRight)\n",
    "            self.cost += 3\n",
    "            return\n",
    "        elif (blank_index == self.topRight):\n",
    "            self.swapPositions(blank_index, botLeft)\n",
    "            self.cost += 3\n",
    "            return\n",
    "        elif (blank_index == self.botRight):\n",
    "            self.swapPositions(blank_index, topLeft)\n",
    "            self.cost += 3\n",
    "            return\n",
    "            \n",
    "    def diagAdjacent(self):\n",
    "        blank_index = self.find_blank(self.puzzle)\n",
    "        if (blank_index == self.topLeft):\n",
    "            self.swapPositions(blank_index, topLeft+self.columns+1)\n",
    "            self.cost += 3\n",
    "            return\n",
    "        elif (blank_index == self.botLeft):\n",
    "            self.swapPositions(blank_index, botLeft-self.columns+1)\n",
    "            self.cost += 3\n",
    "            return\n",
    "        elif (blank_index == self.topRight):\n",
    "            self.swapPositions(blank_index, topRight+self.columns-1)\n",
    "            self.cost += 3\n",
    "            return\n",
    "        elif (blank_index == self.botRight):\n",
    "            self.swapPositions(blank_index, botRight-self.columns-1)\n",
    "            self.cost += 3\n",
    "            return"
   ]
  },
  {
   "cell_type": "code",
   "execution_count": null,
   "metadata": {},
   "outputs": [],
   "source": []
  },
  {
   "cell_type": "code",
   "execution_count": 386,
   "metadata": {},
   "outputs": [
    {
     "name": "stdout",
     "output_type": "stream",
     "text": [
      "[1, 5, 0]\n",
      "[4, 7, 2]\n",
      "[3, 6, 8]\n"
     ]
    }
   ],
   "source": [
    "puzzle1 = Puzzle([1, 5, 0, 4, 7, 2, 3,6,8], 3, 3)\n",
    "#[1,2,3,4,5,6,7,0]\n",
    "puzzle1.display_state()\n"
   ]
  },
  {
   "cell_type": "code",
   "execution_count": 387,
   "metadata": {},
   "outputs": [
    {
     "data": {
      "text/plain": [
       "([1, 2, 3, 4, 5, 6, 7, 8, 0], [1, 3, 5, 7, 2, 4, 6, 8, 0])"
      ]
     },
     "execution_count": 387,
     "metadata": {},
     "output_type": "execute_result"
    }
   ],
   "source": [
    "puzzle1.goal_state()\n",
    "    "
   ]
  },
  {
   "cell_type": "code",
   "execution_count": 388,
   "metadata": {},
   "outputs": [
    {
     "ename": "NameError",
     "evalue": "name 'topRight' is not defined",
     "output_type": "error",
     "traceback": [
      "\u001b[1;31m---------------------------------------------------------------------------\u001b[0m",
      "\u001b[1;31mNameError\u001b[0m                                 Traceback (most recent call last)",
      "\u001b[1;32m<ipython-input-388-7d05bf8ce0c5>\u001b[0m in \u001b[0;36m<module>\u001b[1;34m\u001b[0m\n\u001b[1;32m----> 1\u001b[1;33m \u001b[0mpuzzle1\u001b[0m\u001b[1;33m.\u001b[0m\u001b[0mdiagAdjacent\u001b[0m\u001b[1;33m(\u001b[0m\u001b[1;33m)\u001b[0m\u001b[1;33m\u001b[0m\u001b[1;33m\u001b[0m\u001b[0m\n\u001b[0m\u001b[0;32m      2\u001b[0m \u001b[0mpuzzle1\u001b[0m\u001b[1;33m.\u001b[0m\u001b[0mdisplay_state\u001b[0m\u001b[1;33m(\u001b[0m\u001b[1;33m)\u001b[0m\u001b[1;33m\u001b[0m\u001b[1;33m\u001b[0m\u001b[0m\n",
      "\u001b[1;32m<ipython-input-385-32d2c383471c>\u001b[0m in \u001b[0;36mdiagAdjacent\u001b[1;34m(self)\u001b[0m\n\u001b[0;32m    132\u001b[0m             \u001b[1;32mreturn\u001b[0m\u001b[1;33m\u001b[0m\u001b[1;33m\u001b[0m\u001b[0m\n\u001b[0;32m    133\u001b[0m         \u001b[1;32melif\u001b[0m \u001b[1;33m(\u001b[0m\u001b[0mblank_index\u001b[0m \u001b[1;33m==\u001b[0m \u001b[0mself\u001b[0m\u001b[1;33m.\u001b[0m\u001b[0mtopRight\u001b[0m\u001b[1;33m)\u001b[0m\u001b[1;33m:\u001b[0m\u001b[1;33m\u001b[0m\u001b[1;33m\u001b[0m\u001b[0m\n\u001b[1;32m--> 134\u001b[1;33m             \u001b[0mself\u001b[0m\u001b[1;33m.\u001b[0m\u001b[0mswapPositions\u001b[0m\u001b[1;33m(\u001b[0m\u001b[0mblank_index\u001b[0m\u001b[1;33m,\u001b[0m \u001b[0mtopRight\u001b[0m\u001b[1;33m+\u001b[0m\u001b[0mself\u001b[0m\u001b[1;33m.\u001b[0m\u001b[0mcolumns\u001b[0m\u001b[1;33m-\u001b[0m\u001b[1;36m1\u001b[0m\u001b[1;33m)\u001b[0m\u001b[1;33m\u001b[0m\u001b[1;33m\u001b[0m\u001b[0m\n\u001b[0m\u001b[0;32m    135\u001b[0m             \u001b[0mself\u001b[0m\u001b[1;33m.\u001b[0m\u001b[0mcost\u001b[0m \u001b[1;33m+=\u001b[0m \u001b[1;36m3\u001b[0m\u001b[1;33m\u001b[0m\u001b[1;33m\u001b[0m\u001b[0m\n\u001b[0;32m    136\u001b[0m             \u001b[1;32mreturn\u001b[0m\u001b[1;33m\u001b[0m\u001b[1;33m\u001b[0m\u001b[0m\n",
      "\u001b[1;31mNameError\u001b[0m: name 'topRight' is not defined"
     ]
    }
   ],
   "source": [
    "puzzle1.diagAdjacent()\n",
    "puzzle1.display_state()"
   ]
  },
  {
   "cell_type": "code",
   "execution_count": null,
   "metadata": {},
   "outputs": [],
   "source": []
  },
  {
   "cell_type": "code",
   "execution_count": null,
   "metadata": {},
   "outputs": [],
   "source": []
  },
  {
   "cell_type": "code",
   "execution_count": null,
   "metadata": {},
   "outputs": [],
   "source": []
  },
  {
   "cell_type": "code",
   "execution_count": null,
   "metadata": {},
   "outputs": [],
   "source": []
  }
 ],
 "metadata": {
  "kernelspec": {
   "display_name": "Python 3",
   "language": "python",
   "name": "python3"
  },
  "language_info": {
   "codemirror_mode": {
    "name": "ipython",
    "version": 3
   },
   "file_extension": ".py",
   "mimetype": "text/x-python",
   "name": "python",
   "nbconvert_exporter": "python",
   "pygments_lexer": "ipython3",
   "version": "3.8.3"
  }
 },
 "nbformat": 4,
 "nbformat_minor": 4
}
