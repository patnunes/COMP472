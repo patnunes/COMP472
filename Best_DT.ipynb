{
 "cells": [
  {
   "cell_type": "markdown",
   "metadata": {},
   "source": [
    "## Imports needed for decision trees"
   ]
  },
  {
   "cell_type": "code",
   "execution_count": 41,
   "metadata": {},
   "outputs": [],
   "source": [
    "import pandas as pd\n",
    "import numpy as np\n",
    "import csv\n",
    "%matplotlib inline\n",
    "\n",
    "# Imports for DT\n",
    "from sklearn.tree import DecisionTreeClassifier\n",
    "from sklearn.metrics import classification_report, confusion_matrix\n",
    "from sklearn.model_selection import GridSearchCV\n",
    "\n",
    "#remove warnings\n",
    "import warnings\n",
    "warnings.filterwarnings(\"ignore\")"
   ]
  },
  {
   "cell_type": "markdown",
   "metadata": {},
   "source": [
    "## Data Set 1"
   ]
  },
  {
   "cell_type": "code",
   "execution_count": 42,
   "metadata": {},
   "outputs": [
    {
     "name": "stdout",
     "output_type": "stream",
     "text": [
      "Best parameters: \n",
      "{'class_weight': 'balanced', 'criterion': 'entropy', 'max_depth': None, 'min_impurity_decrease': 0.0, 'min_samples_split': 2}\n",
      "[[3 0 0 0 0 0 0 0 0 0 0 0 0 0 0 0 0 0 1 0 0 0 0 0 0 0]\n",
      " [0 0 0 0 1 0 0 0 0 0 0 0 0 0 0 1 0 0 0 0 0 0 0 0 0 0]\n",
      " [0 0 3 0 0 0 0 0 0 1 0 0 0 0 0 0 0 0 0 0 0 0 0 0 0 0]\n",
      " [0 0 0 1 0 1 0 0 0 0 0 0 0 0 0 1 0 0 0 0 0 0 0 0 0 0]\n",
      " [0 0 0 0 1 0 0 0 0 0 0 0 0 0 0 0 0 0 0 0 0 0 0 0 0 1]\n",
      " [0 0 0 0 0 1 0 0 0 0 0 0 0 0 0 0 0 1 0 0 0 0 0 0 0 0]\n",
      " [0 0 1 0 0 0 2 0 0 0 0 0 1 0 0 0 0 0 0 0 0 0 0 0 0 0]\n",
      " [0 0 0 0 0 0 0 1 0 0 0 0 0 1 0 0 0 0 0 0 0 0 0 0 1 0]\n",
      " [0 0 0 1 0 0 0 0 1 0 0 0 0 0 0 0 0 0 1 0 0 0 0 0 0 0]\n",
      " [0 0 0 0 0 0 0 0 1 3 0 0 0 0 0 0 0 0 0 0 0 0 0 0 0 0]\n",
      " [0 0 0 0 0 0 0 0 0 0 0 0 0 1 0 0 1 0 0 0 0 0 0 0 1 0]\n",
      " [0 0 0 0 0 0 0 1 0 0 0 2 0 0 0 0 0 0 1 0 0 0 0 0 0 0]\n",
      " [1 0 0 0 0 0 0 0 0 0 0 0 0 0 0 0 0 0 0 0 0 0 1 0 1 0]\n",
      " [0 0 0 0 0 0 0 0 0 0 1 0 0 2 0 0 0 0 0 0 0 1 0 0 0 0]\n",
      " [0 0 0 0 0 0 0 0 0 0 0 0 0 0 2 0 0 0 1 0 0 0 0 0 0 0]\n",
      " [0 0 0 0 1 0 0 0 0 0 0 0 0 0 0 2 0 0 0 0 0 0 0 0 0 0]\n",
      " [0 1 0 0 0 0 0 0 0 0 0 0 0 0 0 0 1 1 0 0 0 0 0 0 0 0]\n",
      " [0 0 0 0 1 0 0 0 0 0 0 0 0 0 0 0 0 2 0 0 0 0 0 0 0 1]\n",
      " [0 0 1 0 0 0 0 0 0 0 0 0 0 0 0 0 0 0 2 0 0 0 0 0 0 0]\n",
      " [0 1 0 0 0 0 0 0 0 0 0 0 0 0 0 0 0 0 0 1 0 0 0 0 0 0]\n",
      " [0 0 0 0 0 0 0 0 0 0 0 0 0 0 0 0 0 0 0 0 3 0 0 0 0 0]\n",
      " [0 0 0 0 0 0 0 0 0 0 0 0 0 0 0 0 0 0 0 0 0 3 0 0 0 0]\n",
      " [1 0 0 0 0 0 0 0 0 0 0 0 0 1 0 0 0 0 0 0 1 0 0 0 0 0]\n",
      " [0 0 0 0 0 0 0 0 0 0 0 0 0 0 0 0 0 0 0 0 0 0 0 1 1 0]\n",
      " [0 0 0 0 0 0 0 0 0 0 0 0 0 0 0 0 0 0 0 0 0 0 0 1 2 0]\n",
      " [0 0 0 0 0 0 0 0 0 1 0 0 0 0 0 0 0 0 0 0 0 0 1 1 0 0]]\n",
      "              precision    recall  f1-score   support\n",
      "\n",
      "           0       0.60      0.75      0.67         4\n",
      "           1       0.00      0.00      0.00         2\n",
      "           2       0.60      0.75      0.67         4\n",
      "           3       0.50      0.33      0.40         3\n",
      "           4       0.25      0.50      0.33         2\n",
      "           5       0.50      0.50      0.50         2\n",
      "           6       1.00      0.50      0.67         4\n",
      "           7       0.50      0.33      0.40         3\n",
      "           8       0.50      0.33      0.40         3\n",
      "           9       0.60      0.75      0.67         4\n",
      "          10       0.00      0.00      0.00         3\n",
      "          11       1.00      0.50      0.67         4\n",
      "          12       0.00      0.00      0.00         3\n",
      "          13       0.40      0.50      0.44         4\n",
      "          14       1.00      0.67      0.80         3\n",
      "          15       0.50      0.67      0.57         3\n",
      "          16       0.50      0.33      0.40         3\n",
      "          17       0.50      0.50      0.50         4\n",
      "          18       0.33      0.67      0.44         3\n",
      "          19       1.00      0.50      0.67         2\n",
      "          20       0.75      1.00      0.86         3\n",
      "          21       0.75      1.00      0.86         3\n",
      "          22       0.00      0.00      0.00         3\n",
      "          23       0.33      0.50      0.40         2\n",
      "          24       0.33      0.67      0.44         3\n",
      "          25       0.00      0.00      0.00         3\n",
      "\n",
      "    accuracy                           0.49        80\n",
      "   macro avg       0.48      0.47      0.45        80\n",
      "weighted avg       0.50      0.49      0.47        80\n",
      "\n"
     ]
    }
   ],
   "source": [
    "#Retrieve test data for dataset1 from csv file\n",
    "test_set1 = pd.read_csv(\"Assig1-Dataset/test_with_label_1.csv\", header=None)\n",
    "#test_set1.shape #display number of (rows, columns) to ensure all the data was retrieved\n",
    "\n",
    "#seperate values/labels from the test data\n",
    "y_test1 = test_set1[1024] #the set of labels to all the data in x_test\n",
    "x_test1 = test_set1.drop(1024, axis=1) #test data set\n",
    "\n",
    "#Retrieve train set data for dataset1 from csv file\n",
    "train_set1 = pd.read_csv(\"Assig1-Dataset/train_1.csv\", header=None)\n",
    "\n",
    "#seperate values/labels from the train data\n",
    "target_train1 = train_set1[1024] #y_train, the set of labels to all the data in x_train\n",
    "x_train1 = train_set1.drop(1024,axis=1) #the training data set\n",
    "\n",
    "\n",
    "#Setting Classifier parameters\n",
    "parameters = {'criterion': ['gini', 'entropy'],\n",
    "              'max_depth': [10, None],\n",
    "              'min_samples_split': [1,2,3,4,5,6,7,8,9,10],\n",
    "              'min_impurity_decrease': [0.0,0.1, 0.2, 0.3, 0.4],\n",
    "              'class_weight': ['none', 'balanced']}\n",
    "\n",
    "#DecisionTreeClassifier\n",
    "clf = GridSearchCV(estimator=DecisionTreeClassifier(), param_grid=parameters, n_jobs=-1)\n",
    "\n",
    "best_dt_1 = clf.fit(x_train1, target_train1) #fit is used to train the algo based on the training data\n",
    "best_dt_pred1 = best_dt_1.predict(x_test1) #predictions based on the test data\n",
    "\n",
    "#print best hyperparameters\n",
    "print(\"Best parameters: \")\n",
    "print(best_dt_1.best_params_)\n",
    "\n",
    "#print confustion matrix\n",
    "print(confusion_matrix(y_test1, best_dt_pred1))\n",
    "#print classificaton report\n",
    "print(classification_report(y_test1, best_dt_pred1))"
   ]
  },
  {
   "cell_type": "markdown",
   "metadata": {},
   "source": [
    "## Creating CSV file Best-DT-DS1"
   ]
  },
  {
   "cell_type": "code",
   "execution_count": 44,
   "metadata": {},
   "outputs": [
    {
     "name": "stdout",
     "output_type": "stream",
     "text": [
      "Output file Best-DT-DS1 created!\n"
     ]
    }
   ],
   "source": [
    "filename = './outputs/Best-DT-DS1.csv'\n",
    "\n",
    "Best_DT_DS1 = pd.DataFrame(data=best_dt_pred1)\n",
    "Best_DT_DS1.index = Best_DT_DS1.index + 1\n",
    "Best_DT_DS1.to_csv(filename, header=None)\n",
    "\n",
    "writer = open(filename, 'a')\n",
    "\n",
    "writer.write(\"\\nConfusion Matrix:\\n\\n\")\n",
    "writer.write(str(confusion_matrix(y_test1, best_dt_pred1)))\n",
    "writer.write(\"\\n\\n\\n\")\n",
    "writer.write(\"\\nClassification Report:\\n\\n\")\n",
    "writer.write(str(classification_report(y_test1, best_dt_pred1)))\n",
    "\n",
    "writer.close()\n",
    "print(\"Output file Best-DT-DS1 created!\")"
   ]
  },
  {
   "cell_type": "markdown",
   "metadata": {},
   "source": [
    "## Data Set 2"
   ]
  },
  {
   "cell_type": "code",
   "execution_count": null,
   "metadata": {},
   "outputs": [],
   "source": [
    "#Retrieve test data for dataset1 from csv file\n",
    "test_set2 = pd.read_csv(\"Assig1-Dataset/test_with_label_2.csv\", header=None)\n",
    "#test_set1.shape #display number of (rows, columns) to ensure all the data was retrieved\n",
    "\n",
    "#seperate values/labels from the test data\n",
    "y_test2 = test_set2[1024] #the set of labels to all the data in x_test\n",
    "x_test2 = test_set1.drop(1024, axis=1) #test data set\n",
    "\n",
    "#Retrieve train set data for dataset1 from csv file\n",
    "train_set2 = pd.read_csv(\"Assig1-Dataset/train_2.csv\", header=None)\n",
    "\n",
    "#seperate values/labels from the train data\n",
    "target_train2 = train_set2[1024] #y_train, the set of labels to all the data in x_train\n",
    "x_train2 = train_set2.drop(1024,axis=1) #the training data set\n",
    "\n",
    "\n",
    "#DecisionTreeClassifier\n",
    "#clf = GridSearchCV(estimator=DecisionTreeClassifier(), param_grid=parameters, n_jobs=-1)\n",
    "\n",
    "best_dt_2 = clf.fit(x_train2, target_train2) #fit is used to train the algo based on the training data\n",
    "best_dt_pred2 = best_dt_2.predict(x_test2) #predictions based on the test data\n",
    "\n",
    "#print best hyperparameters\n",
    "print(\"Best parameters: \")\n",
    "print(best_d2_2.best_params_)\n",
    "\n",
    "#print confustion matrix\n",
    "print(confusion_matrix(y_test2, best_dt_pred2))\n",
    "#print classificaton report\n",
    "print(classification_report(y_test2, best_dt_pred2))"
   ]
  },
  {
   "cell_type": "markdown",
   "metadata": {},
   "source": [
    "## Creating CSV file Best-DT-DS2"
   ]
  },
  {
   "cell_type": "code",
   "execution_count": null,
   "metadata": {},
   "outputs": [],
   "source": [
    "filename = './outputs/Best-DT-DS2.csv'\n",
    "\n",
    "Best_DT_DS2 = pd.DataFrame(data=best_dt_pred2)\n",
    "Best_DT_DS2.index = Best_DT_DS2.index + 1\n",
    "Best_DT_DS2.to_csv(filename, header=None)\n",
    "\n",
    "writer = open(filename, 'a')\n",
    "\n",
    "writer.write(\"\\nConfusion Matrix:\\n\\n\")\n",
    "writer.write(str(confusion_matrix(y_test2, best_dt_pred2)))\n",
    "writer.write(\"\\n\\n\\n\")\n",
    "writer.write(\"\\nClassification Report:\\n\\n\")\n",
    "writer.write(str(classification_report(y_test2, best_dt_pred2)))\n",
    "\n",
    "writer.close()\n",
    "print(\"Output file Best-DT-DS2 created!\")"
   ]
  }
 ],
 "metadata": {
  "kernelspec": {
   "display_name": "Python 3",
   "language": "python",
   "name": "python3"
  },
  "language_info": {
   "codemirror_mode": {
    "name": "ipython",
    "version": 3
   },
   "file_extension": ".py",
   "mimetype": "text/x-python",
   "name": "python",
   "nbconvert_exporter": "python",
   "pygments_lexer": "ipython3",
   "version": "3.8.3"
  }
 },
 "nbformat": 4,
 "nbformat_minor": 4
}
