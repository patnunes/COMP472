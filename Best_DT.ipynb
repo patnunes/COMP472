{
 "cells": [
  {
   "cell_type": "markdown",
   "metadata": {},
   "source": [
    "## Imports needed for decision trees"
   ]
  },
  {
   "cell_type": "code",
   "execution_count": 27,
   "metadata": {},
   "outputs": [],
   "source": [
    "import csv\n",
    "import numpy as np\n",
    "import pandas as pd\n",
    "\n",
    "# Imports for DT\n",
    "from sklearn.tree import DecisionTreeClassifier\n",
    "from sklearn.metrics import classification_report, confusion_matrix\n",
    "from sklearn.model_selection import GridSearchCV"
   ]
  },
  {
   "cell_type": "markdown",
   "metadata": {},
   "source": [
    "# 1. Data Set 1"
   ]
  },
  {
   "cell_type": "code",
   "execution_count": 28,
   "metadata": {},
   "outputs": [],
   "source": [
    "#Retrieve test data for dataset1 from csv file\n",
    "test_set1 = pd.read_csv(\"Assig1-Dataset/test_with_label_1.csv\", header=None)\n",
    "\n",
    "#seperate values/labels from the test data\n",
    "y_test1 = test_set1[1024] #the set of labels to all the data in x_test\n",
    "x_test1 = test_set1.drop(1024, axis=1) #test data set\n",
    "\n",
    "#Retrieve train set data for dataset1 from csv file\n",
    "train_set1 = pd.read_csv(\"Assig1-Dataset/train_1.csv\", header=None)\n",
    "\n",
    "#seperate values/labels from the train data\n",
    "target_train1 = train_set1[1024] #y_train, the set of labels to all the data in x_train\n",
    "x_train1 = train_set1.drop(1024,axis=1) #the training data set"
   ]
  },
  {
   "cell_type": "markdown",
   "metadata": {},
   "source": [
    "## Setting Classifier Parameters and creating model"
   ]
  },
  {
   "cell_type": "code",
   "execution_count": null,
   "metadata": {},
   "outputs": [],
   "source": [
    "#Setting Classifier parameters\n",
    "parameters = {'criterion': ['gini', 'entropy'],\n",
    "              'max_depth': [10, None],\n",
    "              'min_samples_split': [1,2,3,4,5,6,7,8,9,10],\n",
    "              'min_impurity_decrease': [0.0,0.1, 0.2, 0.3, 0.4],\n",
    "              'class_weight': ['none', 'balanced']}\n",
    "\n",
    "#DecisionTreeClassifier\n",
    "clf = GridSearchCV(estimator=DecisionTreeClassifier(), param_grid=parameters, n_jobs=-1)\n",
    "\n",
    "best_dt_1 = clf.fit(x_train1, target_train1) #fit is used to train the algo based on the training data\n",
    "best_dt_pred1 = best_dt_1.predict(x_test1) #predictions based on the test data"
   ]
  },
  {
   "cell_type": "markdown",
   "metadata": {},
   "source": [
    "## Display best hyperparameters"
   ]
  },
  {
   "cell_type": "code",
   "execution_count": null,
   "metadata": {},
   "outputs": [],
   "source": [
    "#print best hyperparameters\n",
    "print(\"Best parameters: \")\n",
    "print(best_dt_1.best_params_)"
   ]
  },
  {
   "cell_type": "markdown",
   "metadata": {},
   "source": [
    "## Deliverables\n",
    "### (a) Confusion Matrix"
   ]
  },
  {
   "cell_type": "code",
   "execution_count": null,
   "metadata": {},
   "outputs": [],
   "source": [
    "#print confustion matrix\n",
    "print(confusion_matrix(y_test1, best_dt_pred1))"
   ]
  },
  {
   "cell_type": "markdown",
   "metadata": {},
   "source": [
    "### (c) (d) Precision, recall, f1 measure for each class; accuracy, macro-average f1 and weighted-average f1 of the model"
   ]
  },
  {
   "cell_type": "code",
   "execution_count": null,
   "metadata": {},
   "outputs": [],
   "source": [
    "#print classification report\n",
    "print(classification_report(y_test1, best_dt_pred1))"
   ]
  },
  {
   "cell_type": "markdown",
   "metadata": {},
   "source": [
    "## Creating CSV file Best-DT-DS1"
   ]
  },
  {
   "cell_type": "code",
   "execution_count": null,
   "metadata": {},
   "outputs": [],
   "source": [
    "filename = './outputs/Best-DT-DS1.csv'\n",
    "\n",
    "Best_DT_DS1 = pd.DataFrame(data=best_dt_pred1)\n",
    "Best_DT_DS1.index = Best_DT_DS1.index + 1\n",
    "Best_DT_DS1.to_csv(filename, header=None)\n",
    "\n",
    "writer = open(filename, 'a')\n",
    "\n",
    "writer.write(\"\\nConfusion Matrix:\\n\\n\")\n",
    "writer.write(str(confusion_matrix(y_test1, best_dt_pred1)))\n",
    "writer.write(\"\\n\\n\\n\")\n",
    "writer.write(\"\\nClassification Report:\\n\\n\")\n",
    "writer.write(str(classification_report(y_test1, best_dt_pred1)))\n",
    "\n",
    "writer.close()\n",
    "print(\"Output file Best-DT-DS1 created!\")"
   ]
  },
  {
   "cell_type": "markdown",
   "metadata": {},
   "source": [
    "# 2. Data Set 2"
   ]
  },
  {
   "cell_type": "code",
   "execution_count": null,
   "metadata": {},
   "outputs": [],
   "source": [
    "#Retrieve test data for dataset1 from csv file\n",
    "test_set2 = pd.read_csv(\"Assig1-Dataset/test_with_label_2.csv\", header=None)\n",
    "\n",
    "#seperate values/labels from the test data\n",
    "y_test2 = test_set2[1024] #the set of labels to all the data in x_test\n",
    "x_test2 = test_set2.drop(1024, axis=1) #test data set\n",
    "\n",
    "#Retrieve train set data for dataset1 from csv file\n",
    "train_set2 = pd.read_csv(\"Assig1-Dataset/train_2.csv\", header=None)\n",
    "\n",
    "#seperate values/labels from the train data\n",
    "target_train2 = train_set2[1024] #y_train, the set of labels to all the data in x_train\n",
    "x_train2 = train_set2.drop(1024,axis=1) #the training data set"
   ]
  },
  {
   "cell_type": "markdown",
   "metadata": {},
   "source": [
    "## Setting Classifier Parameters and creating model"
   ]
  },
  {
   "cell_type": "code",
   "execution_count": null,
   "metadata": {},
   "outputs": [],
   "source": [
    "#Setting Classifier parameters\n",
    "parameters = {'criterion': ['gini', 'entropy'],\n",
    "              'max_depth': [10, None],\n",
    "              'min_samples_split': [0,1,2,3,4,5],\n",
    "              'min_impurity_decrease': [0.0,0.1, 0.2,0.3,0.4,0.5],\n",
    "              'class_weight': ['none', 'balanced']}\n",
    "\n",
    "#DecisionTreeClassifier\n",
    "clf = GridSearchCV(estimator=DecisionTreeClassifier(), param_grid=parameters, n_jobs=-1)\n",
    "\n",
    "best_dt_2 = clf.fit(x_train2, target_train2) #fit is used to train the algo based on the training data\n",
    "best_dt_pred2 = best_dt_2.predict(x_test2) #predictions based on the test data\n"
   ]
  },
  {
   "cell_type": "markdown",
   "metadata": {},
   "source": [
    "## Display best hyperparameters"
   ]
  },
  {
   "cell_type": "code",
   "execution_count": null,
   "metadata": {},
   "outputs": [],
   "source": [
    "#print best hyperparameters\n",
    "print(\"Best parameters: \")\n",
    "print(best_dt_2.best_params_)"
   ]
  },
  {
   "cell_type": "markdown",
   "metadata": {},
   "source": [
    "## Deliverables\n",
    "### (a) Confusion Matrix"
   ]
  },
  {
   "cell_type": "code",
   "execution_count": null,
   "metadata": {},
   "outputs": [],
   "source": [
    "#print confustion matrix\n",
    "print(confusion_matrix(y_test2, best_dt_pred2))"
   ]
  },
  {
   "cell_type": "markdown",
   "metadata": {},
   "source": [
    "### (c) (d) Precision, recall, f1 measure for each class; accuracy, macro-average f1 and weighted-average f1 of the model"
   ]
  },
  {
   "cell_type": "code",
   "execution_count": null,
   "metadata": {},
   "outputs": [],
   "source": [
    "#print classificaton report\n",
    "print(classification_report(y_test2, best_dt_pred2))"
   ]
  },
  {
   "cell_type": "markdown",
   "metadata": {},
   "source": [
    "## Creating CSV file Best-DT-DS2"
   ]
  },
  {
   "cell_type": "code",
   "execution_count": null,
   "metadata": {},
   "outputs": [],
   "source": [
    "filename = './outputs/Best-DT-DS2.csv'\n",
    "\n",
    "Best_DT_DS2 = pd.DataFrame(data=best_dt_pred2)\n",
    "Best_DT_DS2.index = Best_DT_DS2.index + 1\n",
    "Best_DT_DS2.to_csv(filename, header=None)\n",
    "\n",
    "writer = open(filename, 'a')\n",
    "\n",
    "writer.write(\"\\nConfusion Matrix:\\n\\n\")\n",
    "writer.write(str(confusion_matrix(y_test2, best_dt_pred2)))\n",
    "writer.write(\"\\n\\n\\n\")\n",
    "writer.write(\"\\nClassification Report:\\n\\n\")\n",
    "writer.write(str(classification_report(y_test2, best_dt_pred2)))\n",
    "\n",
    "writer.close()\n",
    "print(\"Output file Best-DT-DS2 created!\")"
   ]
  }
 ],
 "metadata": {
  "kernelspec": {
   "display_name": "Python 3",
   "language": "python",
   "name": "python3"
  },
  "language_info": {
   "codemirror_mode": {
    "name": "ipython",
    "version": 3
   },
   "file_extension": ".py",
   "mimetype": "text/x-python",
   "name": "python",
   "nbconvert_exporter": "python",
   "pygments_lexer": "ipython3",
   "version": "3.8.3"
  }
 },
 "nbformat": 4,
 "nbformat_minor": 4
}
