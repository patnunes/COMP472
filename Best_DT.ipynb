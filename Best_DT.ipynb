{
 "cells": [
  {
   "cell_type": "markdown",
   "metadata": {},
   "source": [
    "## Imports needed for decision trees"
   ]
  },
  {
   "cell_type": "code",
   "execution_count": 40,
   "metadata": {},
   "outputs": [],
   "source": [
    "import csv\n",
    "import matplotlib.pyplot as plt\n",
    "import numpy as np\n",
    "import pandas as pd\n",
    "import seaborn as sns\n",
    "\n",
    "# Imports for DT\n",
    "from sklearn.tree import DecisionTreeClassifier\n",
    "from sklearn.metrics import classification_report, confusion_matrix\n",
    "from sklearn.model_selection import GridSearchCV"
   ]
  },
  {
   "cell_type": "markdown",
   "metadata": {},
   "source": [
    "# Best-DT"
   ]
  },
  {
   "cell_type": "markdown",
   "metadata": {},
   "source": [
    "The BEST-DT-1 performed slighlty better in comparison to the BASE-DT-DS1 model, while the BEST-DT-2 performed slightly worse in comparison to the BASE-DT-DS2 model.\n",
    "\n",
    "Data Set 1: \n",
    "The model never correctly classified the letter 'Z', 'Q' or 'B'."
   ]
  },
  {
   "cell_type": "markdown",
   "metadata": {},
   "source": [
    "# 1. Data Set 1"
   ]
  },
  {
   "cell_type": "code",
   "execution_count": 41,
   "metadata": {},
   "outputs": [],
   "source": [
    "#Retrieve test data for dataset1 from csv file\n",
    "test_set1 = pd.read_csv(\"Assig1-Dataset/test_with_label_1.csv\", header=None)\n",
    "\n",
    "#seperate values/labels from the test data\n",
    "y_test1 = test_set1[1024] #the set of labels to all the data in x_test\n",
    "x_test1 = test_set1.drop(1024, axis=1) #test data set\n",
    "\n",
    "#Retrieve train set data for dataset1 from csv file\n",
    "train_set1 = pd.read_csv(\"Assig1-Dataset/train_1.csv\", header=None)\n",
    "\n",
    "#seperate values/labels from the train data\n",
    "target_train1 = train_set1[1024] #y_train, the set of labels to all the data in x_train\n",
    "x_train1 = train_set1.drop(1024,axis=1) #the training data set"
   ]
  },
  {
   "cell_type": "markdown",
   "metadata": {},
   "source": [
    "## Setting Classifier Parameters and creating model"
   ]
  },
  {
   "cell_type": "code",
   "execution_count": 42,
   "metadata": {},
   "outputs": [],
   "source": [
    "#Setting Classifier parameters\n",
    "parameters = {'criterion': ['gini', 'entropy'],\n",
    "              'max_depth': [10, None],\n",
    "              'min_samples_split': [1,2,3,4,5,6,7,8,9,10],\n",
    "              'min_impurity_decrease': [0.0,0.1, 0.2, 0.3, 0.4],\n",
    "              'class_weight': ['none', 'balanced']}\n",
    "\n",
    "#DecisionTreeClassifier\n",
    "clf = GridSearchCV(estimator=DecisionTreeClassifier(), param_grid=parameters, n_jobs=-1)\n",
    "\n",
    "best_dt_1 = clf.fit(x_train1, target_train1) #fit is used to train the algo based on the training data\n",
    "best_dt_pred1 = best_dt_1.predict(x_test1) #predictions based on the test data"
   ]
  },
  {
   "cell_type": "markdown",
   "metadata": {},
   "source": [
    "## Display best hyperparameters"
   ]
  },
  {
   "cell_type": "code",
   "execution_count": 43,
   "metadata": {},
   "outputs": [
    {
     "name": "stdout",
     "output_type": "stream",
     "text": [
      "Best parameters: \n",
      "{'class_weight': 'balanced', 'criterion': 'gini', 'max_depth': None, 'min_impurity_decrease': 0.0, 'min_samples_split': 2}\n"
     ]
    }
   ],
   "source": [
    "#print best hyperparameters\n",
    "print(\"Best parameters: \")\n",
    "print(best_dt_1.best_params_)"
   ]
  },
  {
   "cell_type": "markdown",
   "metadata": {},
   "source": [
    "## Deliverables\n",
    "### (a) Confusion Matrix"
   ]
  },
  {
   "cell_type": "code",
   "execution_count": 44,
   "metadata": {},
   "outputs": [
    {
     "name": "stdout",
     "output_type": "stream",
     "text": [
      "[[2 0 0 0 0 0 0 0 0 0 0 0 2 0 0 0 0 0 0 0 0 0 0 0 0 0]\n",
      " [1 0 0 0 0 0 0 0 0 0 0 0 0 0 0 0 0 0 1 0 0 0 0 0 0 0]\n",
      " [0 0 3 0 0 0 0 0 0 0 0 1 0 0 0 0 0 0 0 0 0 0 0 0 0 0]\n",
      " [0 0 0 1 0 0 0 0 0 0 0 0 0 0 0 0 1 1 0 0 0 0 0 0 0 0]\n",
      " [0 0 0 1 1 0 0 0 0 0 0 0 0 0 0 0 0 0 0 0 0 0 0 0 0 0]\n",
      " [0 0 0 0 0 1 0 0 0 0 0 0 0 0 0 0 0 0 0 0 0 0 0 0 0 1]\n",
      " [0 0 0 0 0 0 2 0 0 0 0 0 0 0 2 0 0 0 0 0 0 0 0 0 0 0]\n",
      " [0 0 0 0 0 0 0 2 0 0 0 0 0 1 0 0 0 0 0 0 0 0 0 0 0 0]\n",
      " [0 0 0 0 0 0 0 0 3 0 0 0 0 0 0 0 0 0 0 0 0 0 0 0 0 0]\n",
      " [0 0 0 0 0 0 0 0 0 3 0 0 0 0 0 0 0 0 0 1 0 0 0 0 0 0]\n",
      " [0 0 0 0 0 0 0 0 0 0 1 1 0 1 0 0 0 0 0 0 0 0 0 0 0 0]\n",
      " [0 0 0 0 0 0 0 0 0 0 1 3 0 0 0 0 0 0 0 0 0 0 0 0 0 0]\n",
      " [0 0 0 0 0 0 0 0 1 0 0 0 1 0 0 0 0 0 0 0 0 1 0 0 0 0]\n",
      " [0 0 0 0 0 0 0 1 0 0 0 0 0 2 0 0 0 0 0 0 0 1 0 0 0 0]\n",
      " [0 0 0 0 0 0 0 0 0 0 0 0 0 0 3 0 0 0 0 0 0 0 0 0 0 0]\n",
      " [0 1 0 0 0 0 0 0 0 0 0 0 0 0 0 2 0 0 0 0 0 0 0 0 0 0]\n",
      " [0 0 0 0 1 0 0 0 0 0 0 0 0 0 2 0 0 0 0 0 0 0 0 0 0 0]\n",
      " [1 2 0 0 0 0 0 0 0 0 0 0 0 0 0 0 0 1 0 0 0 0 0 0 0 0]\n",
      " [0 0 0 0 0 0 0 0 0 0 0 0 0 0 0 0 0 0 3 0 0 0 0 0 0 0]\n",
      " [0 0 0 0 0 1 0 0 0 0 0 0 0 0 0 0 0 0 0 1 0 0 0 0 0 0]\n",
      " [0 0 0 0 0 0 0 0 0 1 0 0 0 0 0 0 0 0 0 0 2 0 0 0 0 0]\n",
      " [0 0 0 0 0 0 0 1 0 0 0 1 0 0 0 0 0 0 0 0 0 1 0 0 0 0]\n",
      " [0 0 0 0 0 0 0 0 0 0 0 0 0 0 0 0 0 0 1 0 0 0 2 0 0 0]\n",
      " [0 0 0 0 0 0 0 0 0 0 0 0 0 0 0 0 0 0 0 0 0 0 0 2 0 0]\n",
      " [0 0 0 0 0 0 0 1 0 0 0 0 0 1 0 0 0 0 0 0 0 0 0 0 1 0]\n",
      " [0 0 0 0 0 0 0 0 0 1 0 0 0 0 0 0 0 0 0 0 0 1 0 1 0 0]]\n"
     ]
    }
   ],
   "source": [
    "#print confustion matrix\n",
    "print(confusion_matrix(y_test1, best_dt_pred1))"
   ]
  },
  {
   "cell_type": "markdown",
   "metadata": {},
   "source": [
    "### (c) (d) Precision, recall, f1 measure for each class; accuracy, macro-average f1 and weighted-average f1 of the model"
   ]
  },
  {
   "cell_type": "code",
   "execution_count": 45,
   "metadata": {},
   "outputs": [
    {
     "name": "stdout",
     "output_type": "stream",
     "text": [
      "              precision    recall  f1-score   support\n",
      "\n",
      "           0       0.50      0.50      0.50         4\n",
      "           1       0.00      0.00      0.00         2\n",
      "           2       1.00      0.75      0.86         4\n",
      "           3       0.50      0.33      0.40         3\n",
      "           4       0.50      0.50      0.50         2\n",
      "           5       0.50      0.50      0.50         2\n",
      "           6       1.00      0.50      0.67         4\n",
      "           7       0.40      0.67      0.50         3\n",
      "           8       0.75      1.00      0.86         3\n",
      "           9       0.60      0.75      0.67         4\n",
      "          10       0.50      0.33      0.40         3\n",
      "          11       0.50      0.75      0.60         4\n",
      "          12       0.33      0.33      0.33         3\n",
      "          13       0.40      0.50      0.44         4\n",
      "          14       0.43      1.00      0.60         3\n",
      "          15       1.00      0.67      0.80         3\n",
      "          16       0.00      0.00      0.00         3\n",
      "          17       0.50      0.25      0.33         4\n",
      "          18       0.60      1.00      0.75         3\n",
      "          19       0.50      0.50      0.50         2\n",
      "          20       1.00      0.67      0.80         3\n",
      "          21       0.25      0.33      0.29         3\n",
      "          22       1.00      0.67      0.80         3\n",
      "          23       0.67      1.00      0.80         2\n",
      "          24       1.00      0.33      0.50         3\n",
      "          25       0.00      0.00      0.00         3\n",
      "\n",
      "    accuracy                           0.54        80\n",
      "   macro avg       0.55      0.53      0.52        80\n",
      "weighted avg       0.57      0.54      0.52        80\n",
      "\n"
     ]
    }
   ],
   "source": [
    "#print classification report\n",
    "print(classification_report(y_test1, best_dt_pred1))"
   ]
  },
  {
   "cell_type": "markdown",
   "metadata": {},
   "source": [
    "## Creating CSV file Best-DT-DS1"
   ]
  },
  {
   "cell_type": "code",
   "execution_count": 46,
   "metadata": {},
   "outputs": [
    {
     "name": "stdout",
     "output_type": "stream",
     "text": [
      "Output file Best-DT-DS1 created!\n"
     ]
    }
   ],
   "source": [
    "filename = './outputs/Best-DT-DS1.csv'\n",
    "\n",
    "Best_DT_DS1 = pd.DataFrame(data=best_dt_pred1)\n",
    "Best_DT_DS1.index = Best_DT_DS1.index + 1\n",
    "Best_DT_DS1.to_csv(filename, header=None)\n",
    "\n",
    "writer = open(filename, 'a')\n",
    "\n",
    "writer.write(\"\\nConfusion Matrix:\\n\\n\")\n",
    "writer.write(str(confusion_matrix(y_test1, best_dt_pred1)))\n",
    "writer.write(\"\\n\\n\\n\")\n",
    "writer.write(\"\\nClassification Report:\\n\\n\")\n",
    "writer.write(str(classification_report(y_test1, best_dt_pred1)))\n",
    "\n",
    "writer.close()\n",
    "print(\"Output file Best-DT-DS1 created!\")"
   ]
  },
  {
   "cell_type": "markdown",
   "metadata": {},
   "source": [
    "# 2. Data Set 2"
   ]
  },
  {
   "cell_type": "code",
   "execution_count": 47,
   "metadata": {},
   "outputs": [],
   "source": [
    "#Retrieve test data for dataset1 from csv file\n",
    "test_set2 = pd.read_csv(\"Assig1-Dataset/test_with_label_2.csv\", header=None)\n",
    "\n",
    "#seperate values/labels from the test data\n",
    "y_test2 = test_set2[1024] #the set of labels to all the data in x_test\n",
    "x_test2 = test_set2.drop(1024, axis=1) #test data set\n",
    "\n",
    "#Retrieve train set data for dataset1 from csv file\n",
    "train_set2 = pd.read_csv(\"Assig1-Dataset/train_2.csv\", header=None)\n",
    "\n",
    "#seperate values/labels from the train data\n",
    "target_train2 = train_set2[1024] #y_train, the set of labels to all the data in x_train\n",
    "x_train2 = train_set2.drop(1024,axis=1) #the training data set"
   ]
  },
  {
   "cell_type": "markdown",
   "metadata": {},
   "source": [
    "## Setting Classifier Parameters and creating model"
   ]
  },
  {
   "cell_type": "code",
   "execution_count": 48,
   "metadata": {},
   "outputs": [],
   "source": [
    "#Setting Classifier parameters\n",
    "parameters = {'criterion': ['gini', 'entropy'],\n",
    "              'max_depth': [10, None],\n",
    "              'min_samples_split': [0,1,2,3,4,5],\n",
    "              'min_impurity_decrease': [0.0,0.1, 0.2,0.3,0.4,0.5],\n",
    "              'class_weight': ['none', 'balanced']}\n",
    "\n",
    "#DecisionTreeClassifier\n",
    "clf = GridSearchCV(estimator=DecisionTreeClassifier(), param_grid=parameters, n_jobs=-1)\n",
    "\n",
    "best_dt_2 = clf.fit(x_train2, target_train2) #fit is used to train the algo based on the training data\n",
    "best_dt_pred2 = best_dt_2.predict(x_test2) #predictions based on the test data\n"
   ]
  },
  {
   "cell_type": "markdown",
   "metadata": {},
   "source": [
    "## Display best hyperparameters"
   ]
  },
  {
   "cell_type": "code",
   "execution_count": 49,
   "metadata": {},
   "outputs": [
    {
     "name": "stdout",
     "output_type": "stream",
     "text": [
      "Best parameters: \n",
      "{'class_weight': 'balanced', 'criterion': 'gini', 'max_depth': None, 'min_impurity_decrease': 0.0, 'min_samples_split': 3}\n"
     ]
    }
   ],
   "source": [
    "#print best hyperparameters\n",
    "print(\"Best parameters: \")\n",
    "print(best_dt_2.best_params_)"
   ]
  },
  {
   "cell_type": "markdown",
   "metadata": {},
   "source": [
    "## Deliverables\n",
    "### (a) Confusion Matrix"
   ]
  },
  {
   "cell_type": "code",
   "execution_count": 50,
   "metadata": {},
   "outputs": [
    {
     "name": "stdout",
     "output_type": "stream",
     "text": [
      "[[ 41   5   3   0   1   0   2   0   2   1]\n",
      " [  4 107   1   1   1   0   3   1   4   3]\n",
      " [  2   0   4   0   1   1   0   0   4   3]\n",
      " [  1   1   0  12   1   0   0   0   0   0]\n",
      " [  4   2   0   1  25   3   1   1   1  12]\n",
      " [  1   0   2   0   2  41   0   0   1   8]\n",
      " [  2   2   0   0   1   0   5   0   3   2]\n",
      " [  0   0   0   0   0   0   0  15   0   0]\n",
      " [  1   1   0   0   1   1   0   0  41   5]\n",
      " [  5   3   2   0  13  11   2   0   2  87]]\n"
     ]
    }
   ],
   "source": [
    "#print confustion matrix\n",
    "print(confusion_matrix(y_test2, best_dt_pred2))"
   ]
  },
  {
   "cell_type": "markdown",
   "metadata": {},
   "source": [
    "### (c) (d) Precision, recall, f1 measure for each class; accuracy, macro-average f1 and weighted-average f1 of the model"
   ]
  },
  {
   "cell_type": "code",
   "execution_count": 51,
   "metadata": {},
   "outputs": [
    {
     "name": "stdout",
     "output_type": "stream",
     "text": [
      "              precision    recall  f1-score   support\n",
      "\n",
      "           0       0.67      0.75      0.71        55\n",
      "           1       0.88      0.86      0.87       125\n",
      "           2       0.33      0.27      0.30        15\n",
      "           3       0.86      0.80      0.83        15\n",
      "           4       0.54      0.50      0.52        50\n",
      "           5       0.72      0.75      0.73        55\n",
      "           6       0.38      0.33      0.36        15\n",
      "           7       0.88      1.00      0.94        15\n",
      "           8       0.71      0.82      0.76        50\n",
      "           9       0.72      0.70      0.71       125\n",
      "\n",
      "    accuracy                           0.73       520\n",
      "   macro avg       0.67      0.68      0.67       520\n",
      "weighted avg       0.72      0.73      0.72       520\n",
      "\n"
     ]
    }
   ],
   "source": [
    "#print classificaton report\n",
    "print(classification_report(y_test2, best_dt_pred2))"
   ]
  },
  {
   "cell_type": "markdown",
   "metadata": {},
   "source": [
    "## Creating CSV file Best-DT-DS2"
   ]
  },
  {
   "cell_type": "code",
   "execution_count": 52,
   "metadata": {},
   "outputs": [
    {
     "name": "stdout",
     "output_type": "stream",
     "text": [
      "Output file Best-DT-DS2 created!\n"
     ]
    }
   ],
   "source": [
    "filename = './outputs/Best-DT-DS2.csv'\n",
    "\n",
    "Best_DT_DS2 = pd.DataFrame(data=best_dt_pred2)\n",
    "Best_DT_DS2.index = Best_DT_DS2.index + 1\n",
    "Best_DT_DS2.to_csv(filename, header=None)\n",
    "\n",
    "writer = open(filename, 'a')\n",
    "\n",
    "writer.write(\"\\nConfusion Matrix:\\n\\n\")\n",
    "writer.write(str(confusion_matrix(y_test2, best_dt_pred2)))\n",
    "writer.write(\"\\n\\n\\n\")\n",
    "writer.write(\"\\nClassification Report:\\n\\n\")\n",
    "writer.write(str(classification_report(y_test2, best_dt_pred2)))\n",
    "\n",
    "writer.close()\n",
    "print(\"Output file Best-DT-DS2 created!\")"
   ]
  }
 ],
 "metadata": {
  "kernelspec": {
   "display_name": "Python 3",
   "language": "python",
   "name": "python3"
  },
  "language_info": {
   "codemirror_mode": {
    "name": "ipython",
    "version": 3
   },
   "file_extension": ".py",
   "mimetype": "text/x-python",
   "name": "python",
   "nbconvert_exporter": "python",
   "pygments_lexer": "ipython3",
   "version": "3.8.3"
  }
 },
 "nbformat": 4,
 "nbformat_minor": 4
}
