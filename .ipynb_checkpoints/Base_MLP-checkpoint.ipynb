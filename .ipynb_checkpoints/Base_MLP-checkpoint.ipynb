{
 "cells": [
  {
   "cell_type": "code",
   "execution_count": 320,
   "metadata": {},
   "outputs": [],
   "source": [
    "import numpy as np\n",
    "import scipy.stats as st\n",
    "import sklearn.linear_model as lm\n",
    "import matplotlib.pyplot as plt\n",
    "import pandas as pd\n",
    "import csv\n",
    "\n",
    "\n",
    "from sklearn import metrics\n",
    "from sklearn.metrics import accuracy_score, confusion_matrix\n",
    "from sklearn.model_selection import train_test_split\n",
    "from sklearn.neural_network import MLPClassifier\n",
    "from sklearn.metrics import confusion_matrix, classification_report"
   ]
  },
  {
   "cell_type": "code",
   "execution_count": 321,
   "metadata": {},
   "outputs": [],
   "source": [
    "import warnings\n",
    "import sklearn.exceptions\n",
    "warnings.filterwarnings(\"ignore\", category=sklearn.exceptions.UndefinedMetricWarning)"
   ]
  },
  {
   "cell_type": "markdown",
   "metadata": {},
   "source": [
    "# Base-MLP: a baseline Multi-Layered Perceptron with 1 hidden layer of 100 neurons, sigmoid/logistic as activation function, stochastic gradient descent, and default values for the rest of the parameters. "
   ]
  },
  {
   "cell_type": "code",
   "execution_count": 322,
   "metadata": {},
   "outputs": [],
   "source": [
    "my_hidden_layer = 100\n",
    "my_activation_function = 'logistic'\n",
    "my_solver = 'sgd'"
   ]
  },
  {
   "cell_type": "markdown",
   "metadata": {},
   "source": [
    "# 1.Dataset 1"
   ]
  },
  {
   "cell_type": "code",
   "execution_count": 323,
   "metadata": {},
   "outputs": [],
   "source": [
    "training_ds1 = pd.read_csv(\"Assig1-Dataset/train_1.csv\", sep=\",\", header=None)\n",
    "testing_ds1 = pd.read_csv(\"Assig1-Dataset/test_with_label_1.csv\", sep=\",\",header=None)"
   ]
  },
  {
   "cell_type": "code",
   "execution_count": 324,
   "metadata": {},
   "outputs": [],
   "source": [
    "training_features = training_ds1.drop(training_ds1.columns[-1],axis=1)\n",
    "training_targets = training_ds1[training_ds1.columns[-1]]\n",
    "\n",
    "testing_features = testing_ds1.drop(training_ds1.columns[-1],axis=1)\n",
    "testing_targets = testing_ds1[training_ds1.columns[-1]]"
   ]
  },
  {
   "cell_type": "markdown",
   "metadata": {},
   "source": [
    "## Training / Prediction"
   ]
  },
  {
   "cell_type": "code",
   "execution_count": 325,
   "metadata": {
    "scrolled": true
   },
   "outputs": [
    {
     "name": "stderr",
     "output_type": "stream",
     "text": [
      "C:\\Users\\Ben\\anaconda3\\lib\\site-packages\\sklearn\\neural_network\\_multilayer_perceptron.py:582: ConvergenceWarning: Stochastic Optimizer: Maximum iterations (200) reached and the optimization hasn't converged yet.\n",
      "  warnings.warn(\n"
     ]
    }
   ],
   "source": [
    "base_MLP = MLPClassifier(hidden_layer_sizes= my_hidden_layer, activation=my_activation_function, solver=my_solver).fit(training_features, training_targets)"
   ]
  },
  {
   "cell_type": "code",
   "execution_count": 326,
   "metadata": {},
   "outputs": [],
   "source": [
    "predicted_base_MLP = base_MLP.predict(testing_features)"
   ]
  },
  {
   "cell_type": "markdown",
   "metadata": {},
   "source": [
    "## (b) a plot the confusion matrix"
   ]
  },
  {
   "cell_type": "code",
   "execution_count": 327,
   "metadata": {},
   "outputs": [
    {
     "name": "stdout",
     "output_type": "stream",
     "text": [
      "[[4 0 0 0 0 0 0 0 0 0 0 0 0 0 0 0 0 0 0 0 0 0 0 0 0 0]\n",
      " [0 1 0 0 0 0 0 0 0 0 0 0 0 0 0 1 0 0 0 0 0 0 0 0 0 0]\n",
      " [0 0 2 0 0 0 1 0 0 0 0 1 0 0 0 0 0 0 0 0 0 0 0 0 0 0]\n",
      " [0 0 0 0 0 0 0 0 1 1 0 0 0 0 1 0 0 0 0 0 0 0 0 0 0 0]\n",
      " [0 0 1 0 0 0 1 0 0 0 0 0 0 0 0 0 0 0 0 0 0 0 0 0 0 0]\n",
      " [0 0 0 0 0 0 0 0 0 0 1 1 0 0 0 0 0 0 0 0 0 0 0 0 0 0]\n",
      " [1 0 0 0 0 0 3 0 0 0 0 0 0 0 0 0 0 0 0 0 0 0 0 0 0 0]\n",
      " [0 0 0 0 0 0 0 1 0 0 0 0 1 0 0 0 0 1 0 0 0 0 0 0 0 0]\n",
      " [0 0 0 0 0 0 0 0 3 0 0 0 0 0 0 0 0 0 0 0 0 0 0 0 0 0]\n",
      " [0 0 0 0 0 0 0 0 2 2 0 0 0 0 0 0 0 0 0 0 0 0 0 0 0 0]\n",
      " [0 0 0 0 0 0 0 0 0 0 2 0 0 0 0 0 0 1 0 0 0 0 0 0 0 0]\n",
      " [0 0 0 0 0 0 0 0 0 0 1 3 0 0 0 0 0 0 0 0 0 0 0 0 0 0]\n",
      " [0 0 0 0 0 0 0 0 0 0 0 0 3 0 0 0 0 0 0 0 0 0 0 0 0 0]\n",
      " [0 0 0 0 0 0 0 1 0 0 0 0 1 2 0 0 0 0 0 0 0 0 0 0 0 0]\n",
      " [0 0 0 0 0 0 0 0 0 0 0 0 0 0 3 0 0 0 0 0 0 0 0 0 0 0]\n",
      " [0 0 0 0 0 0 0 0 0 0 1 0 0 0 0 1 0 1 0 0 0 0 0 0 0 0]\n",
      " [0 0 0 0 0 0 0 0 0 0 0 0 0 0 2 0 1 0 0 0 0 0 0 0 0 0]\n",
      " [0 0 0 0 0 0 0 0 0 0 1 0 0 0 0 0 0 3 0 0 0 0 0 0 0 0]\n",
      " [0 0 0 0 0 0 1 0 0 1 0 0 0 1 0 0 0 0 0 0 0 0 0 0 0 0]\n",
      " [0 0 0 0 0 0 0 0 2 0 0 0 0 0 0 0 0 0 0 0 0 0 0 0 0 0]\n",
      " [0 0 0 0 0 0 0 0 0 0 0 2 0 0 1 0 0 0 0 0 0 0 0 0 0 0]\n",
      " [0 0 0 0 0 0 0 0 0 0 0 2 0 1 0 0 0 0 0 0 0 0 0 0 0 0]\n",
      " [0 0 0 0 0 0 0 0 0 0 0 1 0 0 0 0 0 0 0 0 0 0 2 0 0 0]\n",
      " [0 0 0 0 0 0 0 0 0 0 0 0 0 0 0 0 0 1 0 0 0 0 0 1 0 0]\n",
      " [0 0 0 0 0 0 0 0 0 0 0 0 2 0 0 0 0 1 0 0 0 0 0 0 0 0]\n",
      " [1 0 0 0 0 0 0 0 0 1 1 0 0 0 0 0 0 0 0 0 0 0 0 0 0 0]]\n"
     ]
    }
   ],
   "source": [
    "base_MLP_confusion_matrix = confusion_matrix(testing_targets, predicted_base_MLP)\n",
    "print(base_MLP_confusion_matrix)"
   ]
  },
  {
   "cell_type": "markdown",
   "metadata": {},
   "source": [
    "## (c)(d) the precision, recall, and f1-measure for each class "
   ]
  },
  {
   "cell_type": "code",
   "execution_count": 328,
   "metadata": {
    "scrolled": true
   },
   "outputs": [
    {
     "name": "stdout",
     "output_type": "stream",
     "text": [
      "              precision    recall  f1-score   support\n",
      "\n",
      "           0       0.67      1.00      0.80         4\n",
      "           1       1.00      0.50      0.67         2\n",
      "           2       0.67      0.50      0.57         4\n",
      "           3       0.00      0.00      0.00         3\n",
      "           4       0.00      0.00      0.00         2\n",
      "           5       0.00      0.00      0.00         2\n",
      "           6       0.50      0.75      0.60         4\n",
      "           7       0.50      0.33      0.40         3\n",
      "           8       0.38      1.00      0.55         3\n",
      "           9       0.40      0.50      0.44         4\n",
      "          10       0.29      0.67      0.40         3\n",
      "          11       0.30      0.75      0.43         4\n",
      "          12       0.43      1.00      0.60         3\n",
      "          13       0.50      0.50      0.50         4\n",
      "          14       0.43      1.00      0.60         3\n",
      "          15       0.50      0.33      0.40         3\n",
      "          16       1.00      0.33      0.50         3\n",
      "          17       0.38      0.75      0.50         4\n",
      "          18       0.00      0.00      0.00         3\n",
      "          19       0.00      0.00      0.00         2\n",
      "          20       0.00      0.00      0.00         3\n",
      "          21       0.00      0.00      0.00         3\n",
      "          22       1.00      0.67      0.80         3\n",
      "          23       1.00      0.50      0.67         2\n",
      "          24       0.00      0.00      0.00         3\n",
      "          25       0.00      0.00      0.00         3\n",
      "\n",
      "    accuracy                           0.46        80\n",
      "   macro avg       0.38      0.43      0.36        80\n",
      "weighted avg       0.39      0.46      0.38        80\n",
      "\n"
     ]
    }
   ],
   "source": [
    "base_MLP_classification_report = classification_report(testing_targets, predicted_base_MLP)\n",
    "print(classification_report(testing_targets, predicted_base_MLP))"
   ]
  },
  {
   "cell_type": "markdown",
   "metadata": {},
   "source": [
    "# e) Writing to .csv\n"
   ]
  },
  {
   "cell_type": "code",
   "execution_count": 343,
   "metadata": {},
   "outputs": [],
   "source": [
    "filename = './outputs/Base-MLP-DS1.csv'\n",
    "\n",
    "MLP_DS1 = pd.DataFrame(predicted_base_MLP)\n",
    "MLP_DS1.index = MLP_DS1.index + 1 #To follow assignment example\n",
    "MLP_DS1.to_csv(filename, header=False)\n",
    "\n",
    "writer = open(filename, 'a')\n",
    "\n",
    "writer.write(\"\\nConfusion Matrix:\\n\\n\")\n",
    "writer.write(str(base_MLP_confusion_matrix))\n",
    "writer.write(\"\\n\\n\\n\")\n",
    "writer.write(\"\\nClassification Report:\\n\\n\")\n",
    "writer.write(str(base_MLP_classification_report))\n",
    "\n",
    "writer.close()"
   ]
  },
  {
   "cell_type": "markdown",
   "metadata": {},
   "source": [
    "# 2.Dataset 2\n"
   ]
  },
  {
   "cell_type": "code",
   "execution_count": 330,
   "metadata": {},
   "outputs": [],
   "source": [
    "training_ds2 = pd.read_csv(\"Assig1-Dataset/train_2.csv\", sep=\",\", header=None)\n",
    "testing_ds2 = pd.read_csv(\"Assig1-Dataset/test_with_label_2.csv\", sep=\",\",header=None)"
   ]
  },
  {
   "cell_type": "code",
   "execution_count": 331,
   "metadata": {},
   "outputs": [],
   "source": [
    "training_features2 = training_ds2.drop(training_ds2.columns[-1],axis=1)\n",
    "training_targets2 = training_ds2[training_ds2.columns[-1]]\n",
    "\n",
    "testing_features2 = testing_ds2.drop(training_ds2.columns[-1],axis=1)\n",
    "testing_targets2 = testing_ds2[training_ds2.columns[-1]]"
   ]
  },
  {
   "cell_type": "code",
   "execution_count": 337,
   "metadata": {},
   "outputs": [
    {
     "name": "stderr",
     "output_type": "stream",
     "text": [
      "C:\\Users\\Ben\\anaconda3\\lib\\site-packages\\sklearn\\neural_network\\_multilayer_perceptron.py:582: ConvergenceWarning: Stochastic Optimizer: Maximum iterations (200) reached and the optimization hasn't converged yet.\n",
      "  warnings.warn(\n"
     ]
    }
   ],
   "source": [
    "base_MLP2 = MLPClassifier(hidden_layer_sizes= my_hidden_layer, activation=my_activation_function, solver=my_solver).fit(training_features2, training_targets2)"
   ]
  },
  {
   "cell_type": "code",
   "execution_count": 333,
   "metadata": {},
   "outputs": [],
   "source": [
    "predicted_base_MLP2 = base_MLP2.predict(testing_features2)"
   ]
  },
  {
   "cell_type": "markdown",
   "metadata": {},
   "source": [
    "## (b) a plot the confusion matrix"
   ]
  },
  {
   "cell_type": "code",
   "execution_count": 334,
   "metadata": {
    "scrolled": true
   },
   "outputs": [
    {
     "name": "stdout",
     "output_type": "stream",
     "text": [
      "[[ 46   3   1   0   0   3   0   0   1   1]\n",
      " [  3 119   0   1   0   1   0   0   1   0]\n",
      " [  0   0   5   0   0   1   0   0   8   1]\n",
      " [  2   2   0   9   0   2   0   0   0   0]\n",
      " [  5   1   0   0  29   2   0   0   3  10]\n",
      " [  0   0   0   0   1  50   0   0   0   4]\n",
      " [  2   4   1   0   1   0   5   0   1   1]\n",
      " [  0   0   0   0   0   0   0  15   0   0]\n",
      " [  1   1   0   0   0   0   0   0  44   4]\n",
      " [  2   0   0   0   9   5   0   0   1 108]]\n"
     ]
    }
   ],
   "source": [
    "base_MLP_confusion_matrix2 = confusion_matrix(testing_targets2, predicted_base_MLP2)\n",
    "print(base_MLP_confusion_matrix2)"
   ]
  },
  {
   "cell_type": "markdown",
   "metadata": {},
   "source": [
    "## (c)(d) the precision, recall, and f1-measure for each class "
   ]
  },
  {
   "cell_type": "code",
   "execution_count": 341,
   "metadata": {},
   "outputs": [
    {
     "name": "stdout",
     "output_type": "stream",
     "text": [
      "              precision    recall  f1-score   support\n",
      "\n",
      "           0       0.75      0.84      0.79        55\n",
      "           1       0.92      0.95      0.93       125\n",
      "           2       0.71      0.33      0.45        15\n",
      "           3       0.90      0.60      0.72        15\n",
      "           4       0.72      0.58      0.64        50\n",
      "           5       0.78      0.91      0.84        55\n",
      "           6       1.00      0.33      0.50        15\n",
      "           7       1.00      1.00      1.00        15\n",
      "           8       0.75      0.88      0.81        50\n",
      "           9       0.84      0.86      0.85       125\n",
      "\n",
      "    accuracy                           0.83       520\n",
      "   macro avg       0.84      0.73      0.75       520\n",
      "weighted avg       0.83      0.83      0.82       520\n",
      "\n"
     ]
    }
   ],
   "source": [
    "base_MLP_classification_report2 = classification_report(testing_targets2, predicted_base_MLP2)\n",
    "print(base_MLP_classification_report2)"
   ]
  },
  {
   "cell_type": "markdown",
   "metadata": {},
   "source": [
    "# e) Writing to .csv"
   ]
  },
  {
   "cell_type": "code",
   "execution_count": 344,
   "metadata": {},
   "outputs": [],
   "source": [
    "filename2 = './outputs/Base-MLP-DS2.csv'\n",
    "\n",
    "MLP_DS2 = pd.DataFrame(predicted_base_MLP2)\n",
    "MLP_DS2.index = MLP_DS2.index + 1 #To follow assignment example\n",
    "MLP_DS2.to_csv(filename2, header=False)\n",
    "\n",
    "writer = open(filename2, 'a')\n",
    "\n",
    "writer.write(\"\\nConfusion Matrix:\\n\\n\")\n",
    "writer.write(str(base_MLP_confusion_matrix2))\n",
    "writer.write(\"\\n\\n\\n\")\n",
    "writer.write(\"\\nClassification Report:\\n\\n\")\n",
    "writer.write(str(base_MLP_classification_report2))\n",
    "\n",
    "writer.close()"
   ]
  },
  {
   "cell_type": "code",
   "execution_count": null,
   "metadata": {},
   "outputs": [],
   "source": []
  }
 ],
 "metadata": {
  "kernelspec": {
   "display_name": "Python 3",
   "language": "python",
   "name": "python3"
  },
  "language_info": {
   "codemirror_mode": {
    "name": "ipython",
    "version": 3
   },
   "file_extension": ".py",
   "mimetype": "text/x-python",
   "name": "python",
   "nbconvert_exporter": "python",
   "pygments_lexer": "ipython3",
   "version": "3.8.3"
  }
 },
 "nbformat": 4,
 "nbformat_minor": 4
}
