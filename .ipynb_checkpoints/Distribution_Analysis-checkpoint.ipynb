{
 "cells": [
  {
   "cell_type": "code",
   "execution_count": 2,
   "metadata": {},
   "outputs": [],
   "source": [
    "import pandas as pd \n",
    "import numpy as np\n",
    "import matplotlib.pyplot as plt"
   ]
  },
  {
   "cell_type": "code",
   "execution_count": 6,
   "metadata": {},
   "outputs": [],
   "source": [
    "val_1 = pd.read_csv(\"Assig1-Dataset/val_1.csv\", header=None) \n",
    "val_2 = pd.read_csv(\"Assig1-Dataset/val_2.csv\", header=None) \n",
    "test_no_label_1 = pd.read_csv(\"Assig1-Dataset/test_no_label_1.csv\", header=None) \n",
    "test_no_label_2 = pd.read_csv(\"Assig1-Dataset/test_no_label_2.csv\",header=None) \n",
    "test_with_label_1 = pd.read_csv(\"Assig1-Dataset/test_with_label_1.csv\", header=None) \n",
    "test_with_label_2 = pd.read_csv(\"Assig1-Dataset/test_with_label_2.csv\", header=None) \n",
    "train_1 = pd.read_csv(\"Assig1-Dataset/train_1.csv\", header=None) \n",
    "train_2 = pd.read_csv(\"Assig1-Dataset/train_2.csv\", header=None) \n",
    "info_1 = pd.read_csv(\"Assig1-Dataset/info_1.csv\", header=None) \n",
    "info_2 = pd.read_csv(\"Assig1-Dataset/info_2.csv\", header=None) "
   ]
  },
  {
   "cell_type": "code",
   "execution_count": 57,
   "metadata": {},
   "outputs": [],
   "source": [
    "output_train_1 = train_1.iloc[:,-1:].to_numpy().flatten()\n",
    "output_train_2 = train_2.iloc[:,-1:].to_numpy().flatten()\n",
    "output_val_1 = val_1.iloc[:,-1:].to_numpy().flatten()\n",
    "output_val_2 = val_2.iloc[:,-1:].to_numpy().flatten()\n",
    "output_test_1 = test_with_label_1.iloc[:,-1:].to_numpy().flatten()\n",
    "output_test_2 = test_with_label_2.iloc[:,-1:].to_numpy().flatten()"
   ]
  },
  {
   "cell_type": "code",
   "execution_count": 58,
   "metadata": {},
   "outputs": [],
   "source": [
    "DataSet1_output = np.concatenate((output_train_1, output_val_1, output_test_1), axis=0) \n",
    "DataSet2_output = np.concatenate((output_train_2, output_val_2, output_test_2), axis=0) \n",
    "DataSet1_Count = np.bincount(DataSet1_output)\n",
    "DataSet2_Count = np.bincount(DataSet2_output)"
   ]
  },
  {
   "cell_type": "markdown",
   "metadata": {},
   "source": [
    "# Distribution Graphs"
   ]
  },
  {
   "cell_type": "code",
   "execution_count": 59,
   "metadata": {},
   "outputs": [
    {
     "data": {
      "image/png": "[encoded data removed]",
      "text/plain": [
       "<Figure size 432x288 with 1 Axes>"
      ]
     },
     "metadata": {
      "needs_background": "light"
     },
     "output_type": "display_data"
    },
    {
     "data": {
      "image/png": "[encoded data removed]",
      "text/plain": [
       "<Figure size 432x288 with 1 Axes>"
      ]
     },
     "metadata": {
      "needs_background": "light"
     },
     "output_type": "display_data"
    }
   ],
   "source": [
    "labels_1 =  ['A','B','C','D','E','F','G','H','I','J','K','L','M','N','O','P','Q','R','S','T','U','V','W','X','Y','Z']\n",
    "plt.bar(labels_1, DataSet1_Count)\n",
    "plt.xticks(labels_1)\n",
    "plt.ylabel('Number of Instances')\n",
    "plt.title('Number of Instances of Letters in Data Set 1')\n",
    "plt.show()\n",
    "\n",
    "\n",
    "labels_2 =  ['π', 'α', 'β', 'σ', 'γ', 'δ', 'λ', 'ω', 'μ', 'ξ']\n",
    "plt.bar(labels_2, DataSet2_Count, color='limegreen')\n",
    "plt.xticks(labels_2)\n",
    "plt.ylabel('Number of Instances')\n",
    "plt.title('Number of Instances of Greek Letters in Data Set 2')\n",
    "plt.show()"
   ]
  },
  {
   "cell_type": "markdown",
   "metadata": {},
   "source": [
    "# Analysis"
   ]
  },
  {
   "cell_type": "markdown",
   "metadata": {},
   "source": [
    "The first distribution graph shows that the frequency of each letter is approximately the same, averaging around the 50-60 range, which means that F1 might not be needed but still a better accuracy metric."
   ]
  },
  {
   "cell_type": "markdown",
   "metadata": {},
   "source": [
    "As seen from the second graph, the distribution is not even spread and biased towards the symbol \"alpha\" and \"xi\". Indeed this can skew results so using a compound accuracy (like F1) might be more favorable in this case. On the other hand, there is less output types and much more frequency of those types, this dataset might prove itself more accurate just by its own size."
   ]
  }
 ],
 "metadata": {
  "kernelspec": {
   "display_name": "Python 3",
   "language": "python",
   "name": "python3"
  },
  "language_info": {
   "codemirror_mode": {
    "name": "ipython",
    "version": 3
   },
   "file_extension": ".py",
   "mimetype": "text/x-python",
   "name": "python",
   "nbconvert_exporter": "python",
   "pygments_lexer": "ipython3",
   "version": "3.8.3"
  }
 },
 "nbformat": 4,
 "nbformat_minor": 4
}
