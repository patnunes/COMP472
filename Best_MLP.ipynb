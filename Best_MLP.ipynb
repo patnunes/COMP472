{
 "cells": [
  {
   "cell_type": "code",
   "execution_count": 6,
   "metadata": {},
   "outputs": [],
   "source": [
    "import numpy as np\n",
    "import scipy.stats as st\n",
    "import sklearn.linear_model as lm\n",
    "import matplotlib.pyplot as plt\n",
    "import pandas as pd\n",
    "import csv\n",
    "\n",
    "\n",
    "from sklearn import metrics\n",
    "from sklearn.metrics import accuracy_score, confusion_matrix\n",
    "from sklearn.neural_network import MLPClassifier\n",
    "from sklearn.metrics import confusion_matrix, classification_report\n",
    "from sklearn.model_selection import GridSearchCV\n"
   ]
  },
  {
   "cell_type": "code",
   "execution_count": 30,
   "metadata": {},
   "outputs": [],
   "source": [
    "import warnings\n",
    "import sklearn.exceptions\n",
    "warnings.filterwarnings(\"ignore\", category=sklearn.exceptions.UndefinedMetricWarning)"
   ]
  },
  {
   "cell_type": "markdown",
   "metadata": {},
   "source": [
    "# Best-MLP: a better performing Multi-Layered Perceptron found by performing grid search to ﬁnd the best combination of hyper-parameters. For this, you need to experiment with the following parameter values"
   ]
  },
  {
   "cell_type": "markdown",
   "metadata": {},
   "source": [
    "1. activation function: sigmoid, tanh, relu and identity \n",
    "2. network architectures of your choice: for eg 2 hidden layers with 30+50 nodes, 3 hidden layers with 10+10\n",
    "3. solver: Adam and stochastic gradient descent "
   ]
  },
  {
   "cell_type": "code",
   "execution_count": 42,
   "metadata": {},
   "outputs": [],
   "source": [
    "parameter_space=[\n",
    "    { 'activation': ['logistic','tanh','relu','identity'], 'hidden_layer_sizes':[(30,50),(10,10,10)], 'solver':['adam','sgd']}\n",
    "]"
   ]
  },
  {
   "cell_type": "markdown",
   "metadata": {},
   "source": [
    "# 1.Dataset 1"
   ]
  },
  {
   "cell_type": "code",
   "execution_count": 16,
   "metadata": {},
   "outputs": [],
   "source": [
    "training_ds1 = pd.read_csv(\"Assig1-Dataset/train_1.csv\", sep=\",\", header=None)\n",
    "testing_ds1 = pd.read_csv(\"Assig1-Dataset/test_with_label_1.csv\", sep=\",\",header=None)"
   ]
  },
  {
   "cell_type": "code",
   "execution_count": 33,
   "metadata": {},
   "outputs": [],
   "source": [
    "training_features = training_ds1.drop(training_ds1.columns[-1],axis=1)\n",
    "training_targets = training_ds1[training_ds1.columns[-1]]\n",
    "\n",
    "testing_features = testing_ds1.drop(training_ds1.columns[-1],axis=1)\n",
    "testing_targets = testing_ds1[training_ds1.columns[-1]]"
   ]
  },
  {
   "cell_type": "markdown",
   "metadata": {},
   "source": [
    "## Training / Prediction"
   ]
  },
  {
   "cell_type": "code",
   "execution_count": 26,
   "metadata": {
    "scrolled": true
   },
   "outputs": [
    {
     "name": "stdout",
     "output_type": "stream",
     "text": [
      "Fitting 5 folds for each of 16 candidates, totalling 80 fits\n",
      "[CV] activation=logistic, hidden_layer_sizes=(30, 50), solver=adam ...\n"
     ]
    },
    {
     "name": "stderr",
     "output_type": "stream",
     "text": [
      "[Parallel(n_jobs=1)]: Using backend SequentialBackend with 1 concurrent workers.\n",
      "C:\\Users\\Ben\\anaconda3\\lib\\site-packages\\sklearn\\neural_network\\_multilayer_perceptron.py:582: ConvergenceWarning: Stochastic Optimizer: Maximum iterations (200) reached and the optimization hasn't converged yet.\n",
      "  warnings.warn(\n",
      "[Parallel(n_jobs=1)]: Done   1 out of   1 | elapsed:    4.5s remaining:    0.0s\n"
     ]
    },
    {
     "name": "stdout",
     "output_type": "stream",
     "text": [
      "[CV]  activation=logistic, hidden_layer_sizes=(30, 50), solver=adam, total=   4.6s\n",
      "[CV] activation=logistic, hidden_layer_sizes=(30, 50), solver=adam ...\n"
     ]
    },
    {
     "name": "stderr",
     "output_type": "stream",
     "text": [
      "C:\\Users\\Ben\\anaconda3\\lib\\site-packages\\sklearn\\neural_network\\_multilayer_perceptron.py:582: ConvergenceWarning: Stochastic Optimizer: Maximum iterations (200) reached and the optimization hasn't converged yet.\n",
      "  warnings.warn(\n"
     ]
    },
    {
     "name": "stdout",
     "output_type": "stream",
     "text": [
      "[CV]  activation=logistic, hidden_layer_sizes=(30, 50), solver=adam, total=   4.5s\n",
      "[CV] activation=logistic, hidden_layer_sizes=(30, 50), solver=adam ...\n"
     ]
    },
    {
     "name": "stderr",
     "output_type": "stream",
     "text": [
      "C:\\Users\\Ben\\anaconda3\\lib\\site-packages\\sklearn\\neural_network\\_multilayer_perceptron.py:582: ConvergenceWarning: Stochastic Optimizer: Maximum iterations (200) reached and the optimization hasn't converged yet.\n",
      "  warnings.warn(\n"
     ]
    },
    {
     "name": "stdout",
     "output_type": "stream",
     "text": [
      "[CV]  activation=logistic, hidden_layer_sizes=(30, 50), solver=adam, total=   4.5s\n",
      "[CV] activation=logistic, hidden_layer_sizes=(30, 50), solver=adam ...\n"
     ]
    },
    {
     "name": "stderr",
     "output_type": "stream",
     "text": [
      "C:\\Users\\Ben\\anaconda3\\lib\\site-packages\\sklearn\\neural_network\\_multilayer_perceptron.py:582: ConvergenceWarning: Stochastic Optimizer: Maximum iterations (200) reached and the optimization hasn't converged yet.\n",
      "  warnings.warn(\n"
     ]
    },
    {
     "name": "stdout",
     "output_type": "stream",
     "text": [
      "[CV]  activation=logistic, hidden_layer_sizes=(30, 50), solver=adam, total=   4.6s\n",
      "[CV] activation=logistic, hidden_layer_sizes=(30, 50), solver=adam ...\n"
     ]
    },
    {
     "name": "stderr",
     "output_type": "stream",
     "text": [
      "C:\\Users\\Ben\\anaconda3\\lib\\site-packages\\sklearn\\neural_network\\_multilayer_perceptron.py:582: ConvergenceWarning: Stochastic Optimizer: Maximum iterations (200) reached and the optimization hasn't converged yet.\n",
      "  warnings.warn(\n"
     ]
    },
    {
     "name": "stdout",
     "output_type": "stream",
     "text": [
      "[CV]  activation=logistic, hidden_layer_sizes=(30, 50), solver=adam, total=   4.6s\n",
      "[CV] activation=logistic, hidden_layer_sizes=(30, 50), solver=sgd ....\n",
      "[CV]  activation=logistic, hidden_layer_sizes=(30, 50), solver=sgd, total=   1.8s\n",
      "[CV] activation=logistic, hidden_layer_sizes=(30, 50), solver=sgd ....\n",
      "[CV]  activation=logistic, hidden_layer_sizes=(30, 50), solver=sgd, total=   2.0s\n",
      "[CV] activation=logistic, hidden_layer_sizes=(30, 50), solver=sgd ....\n",
      "[CV]  activation=logistic, hidden_layer_sizes=(30, 50), solver=sgd, total=   2.0s\n",
      "[CV] activation=logistic, hidden_layer_sizes=(30, 50), solver=sgd ....\n",
      "[CV]  activation=logistic, hidden_layer_sizes=(30, 50), solver=sgd, total=   1.9s\n",
      "[CV] activation=logistic, hidden_layer_sizes=(30, 50), solver=sgd ....\n",
      "[CV]  activation=logistic, hidden_layer_sizes=(30, 50), solver=sgd, total=   1.9s\n",
      "[CV] activation=logistic, hidden_layer_sizes=(10, 10, 10), solver=adam \n"
     ]
    },
    {
     "name": "stderr",
     "output_type": "stream",
     "text": [
      "C:\\Users\\Ben\\anaconda3\\lib\\site-packages\\sklearn\\neural_network\\_multilayer_perceptron.py:582: ConvergenceWarning: Stochastic Optimizer: Maximum iterations (200) reached and the optimization hasn't converged yet.\n",
      "  warnings.warn(\n"
     ]
    },
    {
     "name": "stdout",
     "output_type": "stream",
     "text": [
      "[CV]  activation=logistic, hidden_layer_sizes=(10, 10, 10), solver=adam, total=   4.0s\n",
      "[CV] activation=logistic, hidden_layer_sizes=(10, 10, 10), solver=adam \n"
     ]
    },
    {
     "name": "stderr",
     "output_type": "stream",
     "text": [
      "C:\\Users\\Ben\\anaconda3\\lib\\site-packages\\sklearn\\neural_network\\_multilayer_perceptron.py:582: ConvergenceWarning: Stochastic Optimizer: Maximum iterations (200) reached and the optimization hasn't converged yet.\n",
      "  warnings.warn(\n"
     ]
    },
    {
     "name": "stdout",
     "output_type": "stream",
     "text": [
      "[CV]  activation=logistic, hidden_layer_sizes=(10, 10, 10), solver=adam, total=   3.8s\n",
      "[CV] activation=logistic, hidden_layer_sizes=(10, 10, 10), solver=adam \n"
     ]
    },
    {
     "name": "stderr",
     "output_type": "stream",
     "text": [
      "C:\\Users\\Ben\\anaconda3\\lib\\site-packages\\sklearn\\neural_network\\_multilayer_perceptron.py:582: ConvergenceWarning: Stochastic Optimizer: Maximum iterations (200) reached and the optimization hasn't converged yet.\n",
      "  warnings.warn(\n"
     ]
    },
    {
     "name": "stdout",
     "output_type": "stream",
     "text": [
      "[CV]  activation=logistic, hidden_layer_sizes=(10, 10, 10), solver=adam, total=   3.8s\n",
      "[CV] activation=logistic, hidden_layer_sizes=(10, 10, 10), solver=adam \n"
     ]
    },
    {
     "name": "stderr",
     "output_type": "stream",
     "text": [
      "C:\\Users\\Ben\\anaconda3\\lib\\site-packages\\sklearn\\neural_network\\_multilayer_perceptron.py:582: ConvergenceWarning: Stochastic Optimizer: Maximum iterations (200) reached and the optimization hasn't converged yet.\n",
      "  warnings.warn(\n"
     ]
    },
    {
     "name": "stdout",
     "output_type": "stream",
     "text": [
      "[CV]  activation=logistic, hidden_layer_sizes=(10, 10, 10), solver=adam, total=   3.8s\n",
      "[CV] activation=logistic, hidden_layer_sizes=(10, 10, 10), solver=adam \n"
     ]
    },
    {
     "name": "stderr",
     "output_type": "stream",
     "text": [
      "C:\\Users\\Ben\\anaconda3\\lib\\site-packages\\sklearn\\neural_network\\_multilayer_perceptron.py:582: ConvergenceWarning: Stochastic Optimizer: Maximum iterations (200) reached and the optimization hasn't converged yet.\n",
      "  warnings.warn(\n"
     ]
    },
    {
     "name": "stdout",
     "output_type": "stream",
     "text": [
      "[CV]  activation=logistic, hidden_layer_sizes=(10, 10, 10), solver=adam, total=   3.9s\n",
      "[CV] activation=logistic, hidden_layer_sizes=(10, 10, 10), solver=sgd \n",
      "[CV]  activation=logistic, hidden_layer_sizes=(10, 10, 10), solver=sgd, total=   2.6s\n",
      "[CV] activation=logistic, hidden_layer_sizes=(10, 10, 10), solver=sgd \n",
      "[CV]  activation=logistic, hidden_layer_sizes=(10, 10, 10), solver=sgd, total=   3.0s\n",
      "[CV] activation=logistic, hidden_layer_sizes=(10, 10, 10), solver=sgd \n",
      "[CV]  activation=logistic, hidden_layer_sizes=(10, 10, 10), solver=sgd, total=   2.9s\n",
      "[CV] activation=logistic, hidden_layer_sizes=(10, 10, 10), solver=sgd \n",
      "[CV]  activation=logistic, hidden_layer_sizes=(10, 10, 10), solver=sgd, total=   3.1s\n",
      "[CV] activation=logistic, hidden_layer_sizes=(10, 10, 10), solver=sgd \n",
      "[CV]  activation=logistic, hidden_layer_sizes=(10, 10, 10), solver=sgd, total=   2.3s\n",
      "[CV] activation=tanh, hidden_layer_sizes=(30, 50), solver=adam .......\n"
     ]
    },
    {
     "name": "stderr",
     "output_type": "stream",
     "text": [
      "C:\\Users\\Ben\\anaconda3\\lib\\site-packages\\sklearn\\neural_network\\_multilayer_perceptron.py:582: ConvergenceWarning: Stochastic Optimizer: Maximum iterations (200) reached and the optimization hasn't converged yet.\n",
      "  warnings.warn(\n"
     ]
    },
    {
     "name": "stdout",
     "output_type": "stream",
     "text": [
      "[CV]  activation=tanh, hidden_layer_sizes=(30, 50), solver=adam, total=   5.4s\n",
      "[CV] activation=tanh, hidden_layer_sizes=(30, 50), solver=adam .......\n"
     ]
    },
    {
     "name": "stderr",
     "output_type": "stream",
     "text": [
      "C:\\Users\\Ben\\anaconda3\\lib\\site-packages\\sklearn\\neural_network\\_multilayer_perceptron.py:582: ConvergenceWarning: Stochastic Optimizer: Maximum iterations (200) reached and the optimization hasn't converged yet.\n",
      "  warnings.warn(\n"
     ]
    },
    {
     "name": "stdout",
     "output_type": "stream",
     "text": [
      "[CV]  activation=tanh, hidden_layer_sizes=(30, 50), solver=adam, total=   5.7s\n",
      "[CV] activation=tanh, hidden_layer_sizes=(30, 50), solver=adam .......\n"
     ]
    },
    {
     "name": "stderr",
     "output_type": "stream",
     "text": [
      "C:\\Users\\Ben\\anaconda3\\lib\\site-packages\\sklearn\\neural_network\\_multilayer_perceptron.py:582: ConvergenceWarning: Stochastic Optimizer: Maximum iterations (200) reached and the optimization hasn't converged yet.\n",
      "  warnings.warn(\n"
     ]
    },
    {
     "name": "stdout",
     "output_type": "stream",
     "text": [
      "[CV]  activation=tanh, hidden_layer_sizes=(30, 50), solver=adam, total=   5.0s\n",
      "[CV] activation=tanh, hidden_layer_sizes=(30, 50), solver=adam .......\n"
     ]
    },
    {
     "name": "stderr",
     "output_type": "stream",
     "text": [
      "C:\\Users\\Ben\\anaconda3\\lib\\site-packages\\sklearn\\neural_network\\_multilayer_perceptron.py:582: ConvergenceWarning: Stochastic Optimizer: Maximum iterations (200) reached and the optimization hasn't converged yet.\n",
      "  warnings.warn(\n"
     ]
    },
    {
     "name": "stdout",
     "output_type": "stream",
     "text": [
      "[CV]  activation=tanh, hidden_layer_sizes=(30, 50), solver=adam, total=   5.2s\n",
      "[CV] activation=tanh, hidden_layer_sizes=(30, 50), solver=adam .......\n"
     ]
    },
    {
     "name": "stderr",
     "output_type": "stream",
     "text": [
      "C:\\Users\\Ben\\anaconda3\\lib\\site-packages\\sklearn\\neural_network\\_multilayer_perceptron.py:582: ConvergenceWarning: Stochastic Optimizer: Maximum iterations (200) reached and the optimization hasn't converged yet.\n",
      "  warnings.warn(\n"
     ]
    },
    {
     "name": "stdout",
     "output_type": "stream",
     "text": [
      "[CV]  activation=tanh, hidden_layer_sizes=(30, 50), solver=adam, total=   5.0s\n",
      "[CV] activation=tanh, hidden_layer_sizes=(30, 50), solver=sgd ........\n"
     ]
    },
    {
     "name": "stderr",
     "output_type": "stream",
     "text": [
      "C:\\Users\\Ben\\anaconda3\\lib\\site-packages\\sklearn\\neural_network\\_multilayer_perceptron.py:582: ConvergenceWarning: Stochastic Optimizer: Maximum iterations (200) reached and the optimization hasn't converged yet.\n",
      "  warnings.warn(\n"
     ]
    },
    {
     "name": "stdout",
     "output_type": "stream",
     "text": [
      "[CV]  activation=tanh, hidden_layer_sizes=(30, 50), solver=sgd, total=   4.5s\n",
      "[CV] activation=tanh, hidden_layer_sizes=(30, 50), solver=sgd ........\n"
     ]
    },
    {
     "name": "stderr",
     "output_type": "stream",
     "text": [
      "C:\\Users\\Ben\\anaconda3\\lib\\site-packages\\sklearn\\neural_network\\_multilayer_perceptron.py:582: ConvergenceWarning: Stochastic Optimizer: Maximum iterations (200) reached and the optimization hasn't converged yet.\n",
      "  warnings.warn(\n"
     ]
    },
    {
     "name": "stdout",
     "output_type": "stream",
     "text": [
      "[CV]  activation=tanh, hidden_layer_sizes=(30, 50), solver=sgd, total=   4.6s\n",
      "[CV] activation=tanh, hidden_layer_sizes=(30, 50), solver=sgd ........\n"
     ]
    },
    {
     "name": "stderr",
     "output_type": "stream",
     "text": [
      "C:\\Users\\Ben\\anaconda3\\lib\\site-packages\\sklearn\\neural_network\\_multilayer_perceptron.py:582: ConvergenceWarning: Stochastic Optimizer: Maximum iterations (200) reached and the optimization hasn't converged yet.\n",
      "  warnings.warn(\n"
     ]
    },
    {
     "name": "stdout",
     "output_type": "stream",
     "text": [
      "[CV]  activation=tanh, hidden_layer_sizes=(30, 50), solver=sgd, total=   4.5s\n",
      "[CV] activation=tanh, hidden_layer_sizes=(30, 50), solver=sgd ........\n"
     ]
    },
    {
     "name": "stderr",
     "output_type": "stream",
     "text": [
      "C:\\Users\\Ben\\anaconda3\\lib\\site-packages\\sklearn\\neural_network\\_multilayer_perceptron.py:582: ConvergenceWarning: Stochastic Optimizer: Maximum iterations (200) reached and the optimization hasn't converged yet.\n",
      "  warnings.warn(\n"
     ]
    },
    {
     "name": "stdout",
     "output_type": "stream",
     "text": [
      "[CV]  activation=tanh, hidden_layer_sizes=(30, 50), solver=sgd, total=   4.5s\n",
      "[CV] activation=tanh, hidden_layer_sizes=(30, 50), solver=sgd ........\n"
     ]
    },
    {
     "name": "stderr",
     "output_type": "stream",
     "text": [
      "C:\\Users\\Ben\\anaconda3\\lib\\site-packages\\sklearn\\neural_network\\_multilayer_perceptron.py:582: ConvergenceWarning: Stochastic Optimizer: Maximum iterations (200) reached and the optimization hasn't converged yet.\n",
      "  warnings.warn(\n"
     ]
    },
    {
     "name": "stdout",
     "output_type": "stream",
     "text": [
      "[CV]  activation=tanh, hidden_layer_sizes=(30, 50), solver=sgd, total=   4.5s\n",
      "[CV] activation=tanh, hidden_layer_sizes=(10, 10, 10), solver=adam ...\n"
     ]
    },
    {
     "name": "stderr",
     "output_type": "stream",
     "text": [
      "C:\\Users\\Ben\\anaconda3\\lib\\site-packages\\sklearn\\neural_network\\_multilayer_perceptron.py:582: ConvergenceWarning: Stochastic Optimizer: Maximum iterations (200) reached and the optimization hasn't converged yet.\n",
      "  warnings.warn(\n"
     ]
    },
    {
     "name": "stdout",
     "output_type": "stream",
     "text": [
      "[CV]  activation=tanh, hidden_layer_sizes=(10, 10, 10), solver=adam, total=   3.9s\n",
      "[CV] activation=tanh, hidden_layer_sizes=(10, 10, 10), solver=adam ...\n"
     ]
    },
    {
     "name": "stderr",
     "output_type": "stream",
     "text": [
      "C:\\Users\\Ben\\anaconda3\\lib\\site-packages\\sklearn\\neural_network\\_multilayer_perceptron.py:582: ConvergenceWarning: Stochastic Optimizer: Maximum iterations (200) reached and the optimization hasn't converged yet.\n",
      "  warnings.warn(\n"
     ]
    },
    {
     "name": "stdout",
     "output_type": "stream",
     "text": [
      "[CV]  activation=tanh, hidden_layer_sizes=(10, 10, 10), solver=adam, total=   3.9s\n",
      "[CV] activation=tanh, hidden_layer_sizes=(10, 10, 10), solver=adam ...\n"
     ]
    },
    {
     "name": "stderr",
     "output_type": "stream",
     "text": [
      "C:\\Users\\Ben\\anaconda3\\lib\\site-packages\\sklearn\\neural_network\\_multilayer_perceptron.py:582: ConvergenceWarning: Stochastic Optimizer: Maximum iterations (200) reached and the optimization hasn't converged yet.\n",
      "  warnings.warn(\n"
     ]
    },
    {
     "name": "stdout",
     "output_type": "stream",
     "text": [
      "[CV]  activation=tanh, hidden_layer_sizes=(10, 10, 10), solver=adam, total=   3.8s\n",
      "[CV] activation=tanh, hidden_layer_sizes=(10, 10, 10), solver=adam ...\n"
     ]
    },
    {
     "name": "stderr",
     "output_type": "stream",
     "text": [
      "C:\\Users\\Ben\\anaconda3\\lib\\site-packages\\sklearn\\neural_network\\_multilayer_perceptron.py:582: ConvergenceWarning: Stochastic Optimizer: Maximum iterations (200) reached and the optimization hasn't converged yet.\n",
      "  warnings.warn(\n"
     ]
    },
    {
     "name": "stdout",
     "output_type": "stream",
     "text": [
      "[CV]  activation=tanh, hidden_layer_sizes=(10, 10, 10), solver=adam, total=   3.9s\n",
      "[CV] activation=tanh, hidden_layer_sizes=(10, 10, 10), solver=adam ...\n"
     ]
    },
    {
     "name": "stderr",
     "output_type": "stream",
     "text": [
      "C:\\Users\\Ben\\anaconda3\\lib\\site-packages\\sklearn\\neural_network\\_multilayer_perceptron.py:582: ConvergenceWarning: Stochastic Optimizer: Maximum iterations (200) reached and the optimization hasn't converged yet.\n",
      "  warnings.warn(\n"
     ]
    },
    {
     "name": "stdout",
     "output_type": "stream",
     "text": [
      "[CV]  activation=tanh, hidden_layer_sizes=(10, 10, 10), solver=adam, total=   4.0s\n",
      "[CV] activation=tanh, hidden_layer_sizes=(10, 10, 10), solver=sgd ....\n"
     ]
    },
    {
     "name": "stderr",
     "output_type": "stream",
     "text": [
      "C:\\Users\\Ben\\anaconda3\\lib\\site-packages\\sklearn\\neural_network\\_multilayer_perceptron.py:582: ConvergenceWarning: Stochastic Optimizer: Maximum iterations (200) reached and the optimization hasn't converged yet.\n",
      "  warnings.warn(\n"
     ]
    },
    {
     "name": "stdout",
     "output_type": "stream",
     "text": [
      "[CV]  activation=tanh, hidden_layer_sizes=(10, 10, 10), solver=sgd, total=   3.8s\n",
      "[CV] activation=tanh, hidden_layer_sizes=(10, 10, 10), solver=sgd ....\n"
     ]
    },
    {
     "name": "stderr",
     "output_type": "stream",
     "text": [
      "C:\\Users\\Ben\\anaconda3\\lib\\site-packages\\sklearn\\neural_network\\_multilayer_perceptron.py:582: ConvergenceWarning: Stochastic Optimizer: Maximum iterations (200) reached and the optimization hasn't converged yet.\n",
      "  warnings.warn(\n"
     ]
    },
    {
     "name": "stdout",
     "output_type": "stream",
     "text": [
      "[CV]  activation=tanh, hidden_layer_sizes=(10, 10, 10), solver=sgd, total=   3.8s\n",
      "[CV] activation=tanh, hidden_layer_sizes=(10, 10, 10), solver=sgd ....\n"
     ]
    },
    {
     "name": "stderr",
     "output_type": "stream",
     "text": [
      "C:\\Users\\Ben\\anaconda3\\lib\\site-packages\\sklearn\\neural_network\\_multilayer_perceptron.py:582: ConvergenceWarning: Stochastic Optimizer: Maximum iterations (200) reached and the optimization hasn't converged yet.\n",
      "  warnings.warn(\n"
     ]
    },
    {
     "name": "stdout",
     "output_type": "stream",
     "text": [
      "[CV]  activation=tanh, hidden_layer_sizes=(10, 10, 10), solver=sgd, total=   3.8s\n",
      "[CV] activation=tanh, hidden_layer_sizes=(10, 10, 10), solver=sgd ....\n"
     ]
    },
    {
     "name": "stderr",
     "output_type": "stream",
     "text": [
      "C:\\Users\\Ben\\anaconda3\\lib\\site-packages\\sklearn\\neural_network\\_multilayer_perceptron.py:582: ConvergenceWarning: Stochastic Optimizer: Maximum iterations (200) reached and the optimization hasn't converged yet.\n",
      "  warnings.warn(\n"
     ]
    },
    {
     "name": "stdout",
     "output_type": "stream",
     "text": [
      "[CV]  activation=tanh, hidden_layer_sizes=(10, 10, 10), solver=sgd, total=   3.8s\n",
      "[CV] activation=tanh, hidden_layer_sizes=(10, 10, 10), solver=sgd ....\n"
     ]
    },
    {
     "name": "stderr",
     "output_type": "stream",
     "text": [
      "C:\\Users\\Ben\\anaconda3\\lib\\site-packages\\sklearn\\neural_network\\_multilayer_perceptron.py:582: ConvergenceWarning: Stochastic Optimizer: Maximum iterations (200) reached and the optimization hasn't converged yet.\n",
      "  warnings.warn(\n"
     ]
    },
    {
     "name": "stdout",
     "output_type": "stream",
     "text": [
      "[CV]  activation=tanh, hidden_layer_sizes=(10, 10, 10), solver=sgd, total=   3.8s\n",
      "[CV] activation=relu, hidden_layer_sizes=(30, 50), solver=adam .......\n"
     ]
    },
    {
     "name": "stderr",
     "output_type": "stream",
     "text": [
      "C:\\Users\\Ben\\anaconda3\\lib\\site-packages\\sklearn\\neural_network\\_multilayer_perceptron.py:582: ConvergenceWarning: Stochastic Optimizer: Maximum iterations (200) reached and the optimization hasn't converged yet.\n",
      "  warnings.warn(\n"
     ]
    },
    {
     "name": "stdout",
     "output_type": "stream",
     "text": [
      "[CV]  activation=relu, hidden_layer_sizes=(30, 50), solver=adam, total=   4.7s\n",
      "[CV] activation=relu, hidden_layer_sizes=(30, 50), solver=adam .......\n"
     ]
    },
    {
     "name": "stderr",
     "output_type": "stream",
     "text": [
      "C:\\Users\\Ben\\anaconda3\\lib\\site-packages\\sklearn\\neural_network\\_multilayer_perceptron.py:582: ConvergenceWarning: Stochastic Optimizer: Maximum iterations (200) reached and the optimization hasn't converged yet.\n",
      "  warnings.warn(\n"
     ]
    },
    {
     "name": "stdout",
     "output_type": "stream",
     "text": [
      "[CV]  activation=relu, hidden_layer_sizes=(30, 50), solver=adam, total=   4.9s\n",
      "[CV] activation=relu, hidden_layer_sizes=(30, 50), solver=adam .......\n"
     ]
    },
    {
     "name": "stderr",
     "output_type": "stream",
     "text": [
      "C:\\Users\\Ben\\anaconda3\\lib\\site-packages\\sklearn\\neural_network\\_multilayer_perceptron.py:582: ConvergenceWarning: Stochastic Optimizer: Maximum iterations (200) reached and the optimization hasn't converged yet.\n",
      "  warnings.warn(\n"
     ]
    },
    {
     "name": "stdout",
     "output_type": "stream",
     "text": [
      "[CV]  activation=relu, hidden_layer_sizes=(30, 50), solver=adam, total=   4.8s\n",
      "[CV] activation=relu, hidden_layer_sizes=(30, 50), solver=adam .......\n"
     ]
    },
    {
     "name": "stderr",
     "output_type": "stream",
     "text": [
      "C:\\Users\\Ben\\anaconda3\\lib\\site-packages\\sklearn\\neural_network\\_multilayer_perceptron.py:582: ConvergenceWarning: Stochastic Optimizer: Maximum iterations (200) reached and the optimization hasn't converged yet.\n",
      "  warnings.warn(\n"
     ]
    },
    {
     "name": "stdout",
     "output_type": "stream",
     "text": [
      "[CV]  activation=relu, hidden_layer_sizes=(30, 50), solver=adam, total=   4.7s\n",
      "[CV] activation=relu, hidden_layer_sizes=(30, 50), solver=adam .......\n"
     ]
    },
    {
     "name": "stderr",
     "output_type": "stream",
     "text": [
      "C:\\Users\\Ben\\anaconda3\\lib\\site-packages\\sklearn\\neural_network\\_multilayer_perceptron.py:582: ConvergenceWarning: Stochastic Optimizer: Maximum iterations (200) reached and the optimization hasn't converged yet.\n",
      "  warnings.warn(\n"
     ]
    },
    {
     "name": "stdout",
     "output_type": "stream",
     "text": [
      "[CV]  activation=relu, hidden_layer_sizes=(30, 50), solver=adam, total=   4.7s\n",
      "[CV] activation=relu, hidden_layer_sizes=(30, 50), solver=sgd ........\n"
     ]
    },
    {
     "name": "stderr",
     "output_type": "stream",
     "text": [
      "C:\\Users\\Ben\\anaconda3\\lib\\site-packages\\sklearn\\neural_network\\_multilayer_perceptron.py:582: ConvergenceWarning: Stochastic Optimizer: Maximum iterations (200) reached and the optimization hasn't converged yet.\n",
      "  warnings.warn(\n"
     ]
    },
    {
     "name": "stdout",
     "output_type": "stream",
     "text": [
      "[CV]  activation=relu, hidden_layer_sizes=(30, 50), solver=sgd, total=   4.6s\n",
      "[CV] activation=relu, hidden_layer_sizes=(30, 50), solver=sgd ........\n"
     ]
    },
    {
     "name": "stderr",
     "output_type": "stream",
     "text": [
      "C:\\Users\\Ben\\anaconda3\\lib\\site-packages\\sklearn\\neural_network\\_multilayer_perceptron.py:582: ConvergenceWarning: Stochastic Optimizer: Maximum iterations (200) reached and the optimization hasn't converged yet.\n",
      "  warnings.warn(\n"
     ]
    },
    {
     "name": "stdout",
     "output_type": "stream",
     "text": [
      "[CV]  activation=relu, hidden_layer_sizes=(30, 50), solver=sgd, total=   4.6s\n",
      "[CV] activation=relu, hidden_layer_sizes=(30, 50), solver=sgd ........\n"
     ]
    },
    {
     "name": "stderr",
     "output_type": "stream",
     "text": [
      "C:\\Users\\Ben\\anaconda3\\lib\\site-packages\\sklearn\\neural_network\\_multilayer_perceptron.py:582: ConvergenceWarning: Stochastic Optimizer: Maximum iterations (200) reached and the optimization hasn't converged yet.\n",
      "  warnings.warn(\n"
     ]
    },
    {
     "name": "stdout",
     "output_type": "stream",
     "text": [
      "[CV]  activation=relu, hidden_layer_sizes=(30, 50), solver=sgd, total=   4.6s\n",
      "[CV] activation=relu, hidden_layer_sizes=(30, 50), solver=sgd ........\n"
     ]
    },
    {
     "name": "stderr",
     "output_type": "stream",
     "text": [
      "C:\\Users\\Ben\\anaconda3\\lib\\site-packages\\sklearn\\neural_network\\_multilayer_perceptron.py:582: ConvergenceWarning: Stochastic Optimizer: Maximum iterations (200) reached and the optimization hasn't converged yet.\n",
      "  warnings.warn(\n"
     ]
    },
    {
     "name": "stdout",
     "output_type": "stream",
     "text": [
      "[CV]  activation=relu, hidden_layer_sizes=(30, 50), solver=sgd, total=   4.6s\n",
      "[CV] activation=relu, hidden_layer_sizes=(30, 50), solver=sgd ........\n"
     ]
    },
    {
     "name": "stderr",
     "output_type": "stream",
     "text": [
      "C:\\Users\\Ben\\anaconda3\\lib\\site-packages\\sklearn\\neural_network\\_multilayer_perceptron.py:582: ConvergenceWarning: Stochastic Optimizer: Maximum iterations (200) reached and the optimization hasn't converged yet.\n",
      "  warnings.warn(\n"
     ]
    },
    {
     "name": "stdout",
     "output_type": "stream",
     "text": [
      "[CV]  activation=relu, hidden_layer_sizes=(30, 50), solver=sgd, total=   4.6s\n",
      "[CV] activation=relu, hidden_layer_sizes=(10, 10, 10), solver=adam ...\n"
     ]
    },
    {
     "name": "stderr",
     "output_type": "stream",
     "text": [
      "C:\\Users\\Ben\\anaconda3\\lib\\site-packages\\sklearn\\neural_network\\_multilayer_perceptron.py:582: ConvergenceWarning: Stochastic Optimizer: Maximum iterations (200) reached and the optimization hasn't converged yet.\n",
      "  warnings.warn(\n"
     ]
    },
    {
     "name": "stdout",
     "output_type": "stream",
     "text": [
      "[CV]  activation=relu, hidden_layer_sizes=(10, 10, 10), solver=adam, total=   4.0s\n",
      "[CV] activation=relu, hidden_layer_sizes=(10, 10, 10), solver=adam ...\n"
     ]
    },
    {
     "name": "stderr",
     "output_type": "stream",
     "text": [
      "C:\\Users\\Ben\\anaconda3\\lib\\site-packages\\sklearn\\neural_network\\_multilayer_perceptron.py:582: ConvergenceWarning: Stochastic Optimizer: Maximum iterations (200) reached and the optimization hasn't converged yet.\n",
      "  warnings.warn(\n"
     ]
    },
    {
     "name": "stdout",
     "output_type": "stream",
     "text": [
      "[CV]  activation=relu, hidden_layer_sizes=(10, 10, 10), solver=adam, total=   3.9s\n",
      "[CV] activation=relu, hidden_layer_sizes=(10, 10, 10), solver=adam ...\n"
     ]
    },
    {
     "name": "stderr",
     "output_type": "stream",
     "text": [
      "C:\\Users\\Ben\\anaconda3\\lib\\site-packages\\sklearn\\neural_network\\_multilayer_perceptron.py:582: ConvergenceWarning: Stochastic Optimizer: Maximum iterations (200) reached and the optimization hasn't converged yet.\n",
      "  warnings.warn(\n"
     ]
    },
    {
     "name": "stdout",
     "output_type": "stream",
     "text": [
      "[CV]  activation=relu, hidden_layer_sizes=(10, 10, 10), solver=adam, total=   3.9s\n",
      "[CV] activation=relu, hidden_layer_sizes=(10, 10, 10), solver=adam ...\n"
     ]
    },
    {
     "name": "stderr",
     "output_type": "stream",
     "text": [
      "C:\\Users\\Ben\\anaconda3\\lib\\site-packages\\sklearn\\neural_network\\_multilayer_perceptron.py:582: ConvergenceWarning: Stochastic Optimizer: Maximum iterations (200) reached and the optimization hasn't converged yet.\n",
      "  warnings.warn(\n"
     ]
    },
    {
     "name": "stdout",
     "output_type": "stream",
     "text": [
      "[CV]  activation=relu, hidden_layer_sizes=(10, 10, 10), solver=adam, total=   4.0s\n",
      "[CV] activation=relu, hidden_layer_sizes=(10, 10, 10), solver=adam ...\n",
      "[CV]  activation=relu, hidden_layer_sizes=(10, 10, 10), solver=adam, total=   2.0s\n",
      "[CV] activation=relu, hidden_layer_sizes=(10, 10, 10), solver=sgd ....\n"
     ]
    },
    {
     "name": "stderr",
     "output_type": "stream",
     "text": [
      "C:\\Users\\Ben\\anaconda3\\lib\\site-packages\\sklearn\\neural_network\\_multilayer_perceptron.py:582: ConvergenceWarning: Stochastic Optimizer: Maximum iterations (200) reached and the optimization hasn't converged yet.\n",
      "  warnings.warn(\n"
     ]
    },
    {
     "name": "stdout",
     "output_type": "stream",
     "text": [
      "[CV]  activation=relu, hidden_layer_sizes=(10, 10, 10), solver=sgd, total=   3.9s\n",
      "[CV] activation=relu, hidden_layer_sizes=(10, 10, 10), solver=sgd ....\n"
     ]
    },
    {
     "name": "stderr",
     "output_type": "stream",
     "text": [
      "C:\\Users\\Ben\\anaconda3\\lib\\site-packages\\sklearn\\neural_network\\_multilayer_perceptron.py:582: ConvergenceWarning: Stochastic Optimizer: Maximum iterations (200) reached and the optimization hasn't converged yet.\n",
      "  warnings.warn(\n"
     ]
    },
    {
     "name": "stdout",
     "output_type": "stream",
     "text": [
      "[CV]  activation=relu, hidden_layer_sizes=(10, 10, 10), solver=sgd, total=   3.9s\n",
      "[CV] activation=relu, hidden_layer_sizes=(10, 10, 10), solver=sgd ....\n"
     ]
    },
    {
     "name": "stderr",
     "output_type": "stream",
     "text": [
      "C:\\Users\\Ben\\anaconda3\\lib\\site-packages\\sklearn\\neural_network\\_multilayer_perceptron.py:582: ConvergenceWarning: Stochastic Optimizer: Maximum iterations (200) reached and the optimization hasn't converged yet.\n",
      "  warnings.warn(\n"
     ]
    },
    {
     "name": "stdout",
     "output_type": "stream",
     "text": [
      "[CV]  activation=relu, hidden_layer_sizes=(10, 10, 10), solver=sgd, total=   3.8s\n",
      "[CV] activation=relu, hidden_layer_sizes=(10, 10, 10), solver=sgd ....\n"
     ]
    },
    {
     "name": "stderr",
     "output_type": "stream",
     "text": [
      "C:\\Users\\Ben\\anaconda3\\lib\\site-packages\\sklearn\\neural_network\\_multilayer_perceptron.py:582: ConvergenceWarning: Stochastic Optimizer: Maximum iterations (200) reached and the optimization hasn't converged yet.\n",
      "  warnings.warn(\n"
     ]
    },
    {
     "name": "stdout",
     "output_type": "stream",
     "text": [
      "[CV]  activation=relu, hidden_layer_sizes=(10, 10, 10), solver=sgd, total=   3.9s\n",
      "[CV] activation=relu, hidden_layer_sizes=(10, 10, 10), solver=sgd ....\n"
     ]
    },
    {
     "name": "stderr",
     "output_type": "stream",
     "text": [
      "C:\\Users\\Ben\\anaconda3\\lib\\site-packages\\sklearn\\neural_network\\_multilayer_perceptron.py:582: ConvergenceWarning: Stochastic Optimizer: Maximum iterations (200) reached and the optimization hasn't converged yet.\n",
      "  warnings.warn(\n"
     ]
    },
    {
     "name": "stdout",
     "output_type": "stream",
     "text": [
      "[CV]  activation=relu, hidden_layer_sizes=(10, 10, 10), solver=sgd, total=   3.8s\n",
      "[CV] activation=identity, hidden_layer_sizes=(30, 50), solver=adam ...\n",
      "[CV]  activation=identity, hidden_layer_sizes=(30, 50), solver=adam, total=   4.1s\n",
      "[CV] activation=identity, hidden_layer_sizes=(30, 50), solver=adam ...\n"
     ]
    },
    {
     "name": "stderr",
     "output_type": "stream",
     "text": [
      "C:\\Users\\Ben\\anaconda3\\lib\\site-packages\\sklearn\\neural_network\\_multilayer_perceptron.py:582: ConvergenceWarning: Stochastic Optimizer: Maximum iterations (200) reached and the optimization hasn't converged yet.\n",
      "  warnings.warn(\n"
     ]
    },
    {
     "name": "stdout",
     "output_type": "stream",
     "text": [
      "[CV]  activation=identity, hidden_layer_sizes=(30, 50), solver=adam, total=   4.4s\n",
      "[CV] activation=identity, hidden_layer_sizes=(30, 50), solver=adam ...\n"
     ]
    },
    {
     "name": "stderr",
     "output_type": "stream",
     "text": [
      "C:\\Users\\Ben\\anaconda3\\lib\\site-packages\\sklearn\\neural_network\\_multilayer_perceptron.py:582: ConvergenceWarning: Stochastic Optimizer: Maximum iterations (200) reached and the optimization hasn't converged yet.\n",
      "  warnings.warn(\n"
     ]
    },
    {
     "name": "stdout",
     "output_type": "stream",
     "text": [
      "[CV]  activation=identity, hidden_layer_sizes=(30, 50), solver=adam, total=   4.4s\n",
      "[CV] activation=identity, hidden_layer_sizes=(30, 50), solver=adam ...\n",
      "[CV]  activation=identity, hidden_layer_sizes=(30, 50), solver=adam, total=   4.3s\n",
      "[CV] activation=identity, hidden_layer_sizes=(30, 50), solver=adam ...\n"
     ]
    },
    {
     "name": "stderr",
     "output_type": "stream",
     "text": [
      "C:\\Users\\Ben\\anaconda3\\lib\\site-packages\\sklearn\\neural_network\\_multilayer_perceptron.py:582: ConvergenceWarning: Stochastic Optimizer: Maximum iterations (200) reached and the optimization hasn't converged yet.\n",
      "  warnings.warn(\n"
     ]
    },
    {
     "name": "stdout",
     "output_type": "stream",
     "text": [
      "[CV]  activation=identity, hidden_layer_sizes=(30, 50), solver=adam, total=   4.5s\n",
      "[CV] activation=identity, hidden_layer_sizes=(30, 50), solver=sgd ....\n"
     ]
    },
    {
     "name": "stderr",
     "output_type": "stream",
     "text": [
      "C:\\Users\\Ben\\anaconda3\\lib\\site-packages\\sklearn\\neural_network\\_multilayer_perceptron.py:582: ConvergenceWarning: Stochastic Optimizer: Maximum iterations (200) reached and the optimization hasn't converged yet.\n",
      "  warnings.warn(\n"
     ]
    },
    {
     "name": "stdout",
     "output_type": "stream",
     "text": [
      "[CV]  activation=identity, hidden_layer_sizes=(30, 50), solver=sgd, total=   4.3s\n",
      "[CV] activation=identity, hidden_layer_sizes=(30, 50), solver=sgd ....\n"
     ]
    },
    {
     "name": "stderr",
     "output_type": "stream",
     "text": [
      "C:\\Users\\Ben\\anaconda3\\lib\\site-packages\\sklearn\\neural_network\\_multilayer_perceptron.py:582: ConvergenceWarning: Stochastic Optimizer: Maximum iterations (200) reached and the optimization hasn't converged yet.\n",
      "  warnings.warn(\n"
     ]
    },
    {
     "name": "stdout",
     "output_type": "stream",
     "text": [
      "[CV]  activation=identity, hidden_layer_sizes=(30, 50), solver=sgd, total=   4.3s\n",
      "[CV] activation=identity, hidden_layer_sizes=(30, 50), solver=sgd ....\n"
     ]
    },
    {
     "name": "stderr",
     "output_type": "stream",
     "text": [
      "C:\\Users\\Ben\\anaconda3\\lib\\site-packages\\sklearn\\neural_network\\_multilayer_perceptron.py:582: ConvergenceWarning: Stochastic Optimizer: Maximum iterations (200) reached and the optimization hasn't converged yet.\n",
      "  warnings.warn(\n"
     ]
    },
    {
     "name": "stdout",
     "output_type": "stream",
     "text": [
      "[CV]  activation=identity, hidden_layer_sizes=(30, 50), solver=sgd, total=   4.3s\n",
      "[CV] activation=identity, hidden_layer_sizes=(30, 50), solver=sgd ....\n"
     ]
    },
    {
     "name": "stderr",
     "output_type": "stream",
     "text": [
      "C:\\Users\\Ben\\anaconda3\\lib\\site-packages\\sklearn\\neural_network\\_multilayer_perceptron.py:582: ConvergenceWarning: Stochastic Optimizer: Maximum iterations (200) reached and the optimization hasn't converged yet.\n",
      "  warnings.warn(\n"
     ]
    },
    {
     "name": "stdout",
     "output_type": "stream",
     "text": [
      "[CV]  activation=identity, hidden_layer_sizes=(30, 50), solver=sgd, total=   4.3s\n",
      "[CV] activation=identity, hidden_layer_sizes=(30, 50), solver=sgd ....\n"
     ]
    },
    {
     "name": "stderr",
     "output_type": "stream",
     "text": [
      "C:\\Users\\Ben\\anaconda3\\lib\\site-packages\\sklearn\\neural_network\\_multilayer_perceptron.py:582: ConvergenceWarning: Stochastic Optimizer: Maximum iterations (200) reached and the optimization hasn't converged yet.\n",
      "  warnings.warn(\n"
     ]
    },
    {
     "name": "stdout",
     "output_type": "stream",
     "text": [
      "[CV]  activation=identity, hidden_layer_sizes=(30, 50), solver=sgd, total=   4.3s\n",
      "[CV] activation=identity, hidden_layer_sizes=(10, 10, 10), solver=adam \n"
     ]
    },
    {
     "name": "stderr",
     "output_type": "stream",
     "text": [
      "C:\\Users\\Ben\\anaconda3\\lib\\site-packages\\sklearn\\neural_network\\_multilayer_perceptron.py:582: ConvergenceWarning: Stochastic Optimizer: Maximum iterations (200) reached and the optimization hasn't converged yet.\n",
      "  warnings.warn(\n"
     ]
    },
    {
     "name": "stdout",
     "output_type": "stream",
     "text": [
      "[CV]  activation=identity, hidden_layer_sizes=(10, 10, 10), solver=adam, total=   3.8s\n",
      "[CV] activation=identity, hidden_layer_sizes=(10, 10, 10), solver=adam \n"
     ]
    },
    {
     "name": "stderr",
     "output_type": "stream",
     "text": [
      "C:\\Users\\Ben\\anaconda3\\lib\\site-packages\\sklearn\\neural_network\\_multilayer_perceptron.py:582: ConvergenceWarning: Stochastic Optimizer: Maximum iterations (200) reached and the optimization hasn't converged yet.\n",
      "  warnings.warn(\n"
     ]
    },
    {
     "name": "stdout",
     "output_type": "stream",
     "text": [
      "[CV]  activation=identity, hidden_layer_sizes=(10, 10, 10), solver=adam, total=   3.7s\n",
      "[CV] activation=identity, hidden_layer_sizes=(10, 10, 10), solver=adam \n"
     ]
    },
    {
     "name": "stderr",
     "output_type": "stream",
     "text": [
      "C:\\Users\\Ben\\anaconda3\\lib\\site-packages\\sklearn\\neural_network\\_multilayer_perceptron.py:582: ConvergenceWarning: Stochastic Optimizer: Maximum iterations (200) reached and the optimization hasn't converged yet.\n",
      "  warnings.warn(\n"
     ]
    },
    {
     "name": "stdout",
     "output_type": "stream",
     "text": [
      "[CV]  activation=identity, hidden_layer_sizes=(10, 10, 10), solver=adam, total=   3.7s\n",
      "[CV] activation=identity, hidden_layer_sizes=(10, 10, 10), solver=adam \n"
     ]
    },
    {
     "name": "stderr",
     "output_type": "stream",
     "text": [
      "C:\\Users\\Ben\\anaconda3\\lib\\site-packages\\sklearn\\neural_network\\_multilayer_perceptron.py:582: ConvergenceWarning: Stochastic Optimizer: Maximum iterations (200) reached and the optimization hasn't converged yet.\n",
      "  warnings.warn(\n"
     ]
    },
    {
     "name": "stdout",
     "output_type": "stream",
     "text": [
      "[CV]  activation=identity, hidden_layer_sizes=(10, 10, 10), solver=adam, total=   3.8s\n",
      "[CV] activation=identity, hidden_layer_sizes=(10, 10, 10), solver=adam \n"
     ]
    },
    {
     "name": "stderr",
     "output_type": "stream",
     "text": [
      "C:\\Users\\Ben\\anaconda3\\lib\\site-packages\\sklearn\\neural_network\\_multilayer_perceptron.py:582: ConvergenceWarning: Stochastic Optimizer: Maximum iterations (200) reached and the optimization hasn't converged yet.\n",
      "  warnings.warn(\n"
     ]
    },
    {
     "name": "stdout",
     "output_type": "stream",
     "text": [
      "[CV]  activation=identity, hidden_layer_sizes=(10, 10, 10), solver=adam, total=   3.7s\n",
      "[CV] activation=identity, hidden_layer_sizes=(10, 10, 10), solver=sgd \n"
     ]
    },
    {
     "name": "stderr",
     "output_type": "stream",
     "text": [
      "C:\\Users\\Ben\\anaconda3\\lib\\site-packages\\sklearn\\neural_network\\_multilayer_perceptron.py:582: ConvergenceWarning: Stochastic Optimizer: Maximum iterations (200) reached and the optimization hasn't converged yet.\n",
      "  warnings.warn(\n"
     ]
    },
    {
     "name": "stdout",
     "output_type": "stream",
     "text": [
      "[CV]  activation=identity, hidden_layer_sizes=(10, 10, 10), solver=sgd, total=   3.6s\n",
      "[CV] activation=identity, hidden_layer_sizes=(10, 10, 10), solver=sgd \n"
     ]
    },
    {
     "name": "stderr",
     "output_type": "stream",
     "text": [
      "C:\\Users\\Ben\\anaconda3\\lib\\site-packages\\sklearn\\neural_network\\_multilayer_perceptron.py:582: ConvergenceWarning: Stochastic Optimizer: Maximum iterations (200) reached and the optimization hasn't converged yet.\n",
      "  warnings.warn(\n"
     ]
    },
    {
     "name": "stdout",
     "output_type": "stream",
     "text": [
      "[CV]  activation=identity, hidden_layer_sizes=(10, 10, 10), solver=sgd, total=   3.6s\n",
      "[CV] activation=identity, hidden_layer_sizes=(10, 10, 10), solver=sgd \n"
     ]
    },
    {
     "name": "stderr",
     "output_type": "stream",
     "text": [
      "C:\\Users\\Ben\\anaconda3\\lib\\site-packages\\sklearn\\neural_network\\_multilayer_perceptron.py:582: ConvergenceWarning: Stochastic Optimizer: Maximum iterations (200) reached and the optimization hasn't converged yet.\n",
      "  warnings.warn(\n"
     ]
    },
    {
     "name": "stdout",
     "output_type": "stream",
     "text": [
      "[CV]  activation=identity, hidden_layer_sizes=(10, 10, 10), solver=sgd, total=   3.6s\n",
      "[CV] activation=identity, hidden_layer_sizes=(10, 10, 10), solver=sgd \n"
     ]
    },
    {
     "name": "stderr",
     "output_type": "stream",
     "text": [
      "C:\\Users\\Ben\\anaconda3\\lib\\site-packages\\sklearn\\neural_network\\_multilayer_perceptron.py:582: ConvergenceWarning: Stochastic Optimizer: Maximum iterations (200) reached and the optimization hasn't converged yet.\n",
      "  warnings.warn(\n"
     ]
    },
    {
     "name": "stdout",
     "output_type": "stream",
     "text": [
      "[CV]  activation=identity, hidden_layer_sizes=(10, 10, 10), solver=sgd, total=   3.7s\n",
      "[CV] activation=identity, hidden_layer_sizes=(10, 10, 10), solver=sgd \n"
     ]
    },
    {
     "name": "stderr",
     "output_type": "stream",
     "text": [
      "C:\\Users\\Ben\\anaconda3\\lib\\site-packages\\sklearn\\neural_network\\_multilayer_perceptron.py:582: ConvergenceWarning: Stochastic Optimizer: Maximum iterations (200) reached and the optimization hasn't converged yet.\n",
      "  warnings.warn(\n",
      "[Parallel(n_jobs=1)]: Done  80 out of  80 | elapsed:  5.3min finished\n"
     ]
    },
    {
     "name": "stdout",
     "output_type": "stream",
     "text": [
      "[CV]  activation=identity, hidden_layer_sizes=(10, 10, 10), solver=sgd, total=   3.8s\n"
     ]
    },
    {
     "name": "stderr",
     "output_type": "stream",
     "text": [
      "C:\\Users\\Ben\\anaconda3\\lib\\site-packages\\sklearn\\neural_network\\_multilayer_perceptron.py:582: ConvergenceWarning: Stochastic Optimizer: Maximum iterations (200) reached and the optimization hasn't converged yet.\n",
      "  warnings.warn(\n"
     ]
    }
   ],
   "source": [
    "mlp = MLPClassifier() #Choose your classifier\n",
    "clf = GridSearchCV(mlp, parameter_space, verbose=2).fit(training_features, training_targets)"
   ]
  },
  {
   "cell_type": "code",
   "execution_count": 34,
   "metadata": {},
   "outputs": [
    {
     "name": "stdout",
     "output_type": "stream",
     "text": [
      "Best parameters found:\n",
      " {'activation': 'identity', 'hidden_layer_sizes': (30, 50), 'solver': 'adam'}\n"
     ]
    }
   ],
   "source": [
    "predicted_best_MLP = clf.predict(testing_features)\n",
    "print('Best parameters found:\\n', clf.best_params_)"
   ]
  },
  {
   "cell_type": "markdown",
   "metadata": {},
   "source": [
    "## (b) a plot the confusion matrix"
   ]
  },
  {
   "cell_type": "code",
   "execution_count": 39,
   "metadata": {},
   "outputs": [
    {
     "name": "stdout",
     "output_type": "stream",
     "text": [
      "[[2 0 0 0 0 0 0 0 0 0 0 0 1 0 0 0 0 1 0 0 0 0 0 0 0 0]\n",
      " [0 2 0 0 0 0 0 0 0 0 0 0 0 0 0 0 0 0 0 0 0 0 0 0 0 0]\n",
      " [0 0 4 0 0 0 0 0 0 0 0 0 0 0 0 0 0 0 0 0 0 0 0 0 0 0]\n",
      " [0 0 0 3 0 0 0 0 0 0 0 0 0 0 0 0 0 0 0 0 0 0 0 0 0 0]\n",
      " [0 0 0 0 2 0 0 0 0 0 0 0 0 0 0 0 0 0 0 0 0 0 0 0 0 0]\n",
      " [0 0 0 0 0 1 0 0 0 0 0 0 0 0 0 1 0 0 0 0 0 0 0 0 0 0]\n",
      " [0 0 0 0 0 0 4 0 0 0 0 0 0 0 0 0 0 0 0 0 0 0 0 0 0 0]\n",
      " [0 0 0 0 0 0 0 2 0 0 0 0 0 0 0 0 0 0 0 0 0 0 0 1 0 0]\n",
      " [0 0 0 0 0 0 0 0 3 0 0 0 0 0 0 0 0 0 0 0 0 0 0 0 0 0]\n",
      " [0 0 0 0 0 0 0 0 0 3 0 0 0 0 0 0 0 0 0 1 0 0 0 0 0 0]\n",
      " [0 0 0 0 0 0 0 1 0 0 2 0 0 0 0 0 0 0 0 0 0 0 0 0 0 0]\n",
      " [0 0 0 0 0 0 0 0 0 0 0 4 0 0 0 0 0 0 0 0 0 0 0 0 0 0]\n",
      " [0 0 0 0 0 0 0 0 0 0 0 0 3 0 0 0 0 0 0 0 0 0 0 0 0 0]\n",
      " [0 0 0 0 0 0 0 0 0 0 0 0 0 3 0 0 0 0 1 0 0 0 0 0 0 0]\n",
      " [0 0 0 0 0 0 0 0 0 0 0 0 0 0 3 0 0 0 0 0 0 0 0 0 0 0]\n",
      " [0 0 0 0 0 0 0 0 0 0 0 0 0 0 0 3 0 0 0 0 0 0 0 0 0 0]\n",
      " [0 0 0 0 0 0 0 0 0 0 0 0 0 0 0 0 3 0 0 0 0 0 0 0 0 0]\n",
      " [0 0 0 0 0 0 0 0 0 0 1 0 0 0 0 0 0 3 0 0 0 0 0 0 0 0]\n",
      " [0 0 0 0 0 0 1 0 0 0 0 0 0 0 0 0 0 0 2 0 0 0 0 0 0 0]\n",
      " [0 0 0 0 0 0 0 0 0 0 0 0 0 0 0 0 0 0 0 2 0 0 0 0 0 0]\n",
      " [0 0 0 0 0 0 0 0 0 0 0 0 0 0 0 0 0 0 0 0 3 0 0 0 0 0]\n",
      " [0 0 0 0 0 0 0 0 0 0 0 0 0 0 0 0 0 0 0 0 0 3 0 0 0 0]\n",
      " [0 0 0 0 0 0 0 0 0 0 0 0 0 0 0 0 0 0 0 0 0 0 3 0 0 0]\n",
      " [0 0 0 0 0 0 0 0 0 0 0 0 0 0 0 0 0 0 0 0 0 0 0 2 0 0]\n",
      " [0 0 0 0 0 0 0 0 0 0 0 0 0 0 0 0 0 0 0 0 0 0 0 0 3 0]\n",
      " [1 0 0 0 0 0 0 0 0 0 0 0 1 0 0 0 0 0 0 0 0 0 0 0 0 1]]\n"
     ]
    }
   ],
   "source": [
    "best_MLP_confusion_matrix = confusion_matrix(testing_targets, predicted_best_MLP)\n",
    "print(best_MLP_confusion_matrix)"
   ]
  },
  {
   "cell_type": "markdown",
   "metadata": {},
   "source": [
    "## (c)(d) the precision, recall, and f1-measure for each class "
   ]
  },
  {
   "cell_type": "code",
   "execution_count": 40,
   "metadata": {
    "scrolled": true
   },
   "outputs": [
    {
     "name": "stdout",
     "output_type": "stream",
     "text": [
      "              precision    recall  f1-score   support\n",
      "\n",
      "           0       0.67      0.50      0.57         4\n",
      "           1       1.00      1.00      1.00         2\n",
      "           2       1.00      1.00      1.00         4\n",
      "           3       1.00      1.00      1.00         3\n",
      "           4       1.00      1.00      1.00         2\n",
      "           5       1.00      0.50      0.67         2\n",
      "           6       0.80      1.00      0.89         4\n",
      "           7       0.67      0.67      0.67         3\n",
      "           8       1.00      1.00      1.00         3\n",
      "           9       1.00      0.75      0.86         4\n",
      "          10       0.67      0.67      0.67         3\n",
      "          11       1.00      1.00      1.00         4\n",
      "          12       0.60      1.00      0.75         3\n",
      "          13       1.00      0.75      0.86         4\n",
      "          14       1.00      1.00      1.00         3\n",
      "          15       0.75      1.00      0.86         3\n",
      "          16       1.00      1.00      1.00         3\n",
      "          17       0.75      0.75      0.75         4\n",
      "          18       0.67      0.67      0.67         3\n",
      "          19       0.67      1.00      0.80         2\n",
      "          20       1.00      1.00      1.00         3\n",
      "          21       1.00      1.00      1.00         3\n",
      "          22       1.00      1.00      1.00         3\n",
      "          23       0.67      1.00      0.80         2\n",
      "          24       1.00      1.00      1.00         3\n",
      "          25       1.00      0.33      0.50         3\n",
      "\n",
      "    accuracy                           0.86        80\n",
      "   macro avg       0.88      0.87      0.86        80\n",
      "weighted avg       0.88      0.86      0.86        80\n",
      "\n"
     ]
    }
   ],
   "source": [
    "best_MLP_classification_report = classification_report(testing_targets, predicted_best_MLP)\n",
    "print(classification_report(testing_targets, predicted_best_MLP))"
   ]
  },
  {
   "cell_type": "markdown",
   "metadata": {},
   "source": [
    "# e) Writing to .csv\n"
   ]
  },
  {
   "cell_type": "code",
   "execution_count": 57,
   "metadata": {},
   "outputs": [],
   "source": [
    "filename = './outputs/Best-MLP-DS1.csv'\n",
    "\n",
    "MLP_DS1 = pd.DataFrame(predicted_best_MLP)\n",
    "MLP_DS1.index = MLP_DS1.index + 1 #To follow assignment example\n",
    "MLP_DS1.to_csv(filename, header=False)\n",
    "\n",
    "writer = open(filename, 'a')\n",
    "\n",
    "writer.write(\"\\nConfusion Matrix:\\n\\n\")\n",
    "writer.write(str(best_MLP_confusion_matrix))\n",
    "writer.write(\"\\n\\n\\n\")\n",
    "writer.write(\"\\nClassification Report:\\n\\n\")\n",
    "writer.write(str(best_MLP_classification_report))\n",
    "\n",
    "writer.close()"
   ]
  },
  {
   "cell_type": "markdown",
   "metadata": {},
   "source": [
    "# 2.Dataset 2\n"
   ]
  },
  {
   "cell_type": "code",
   "execution_count": 43,
   "metadata": {},
   "outputs": [],
   "source": [
    "training_ds2 = pd.read_csv(\"Assig1-Dataset/train_2.csv\", sep=\",\", header=None)\n",
    "testing_ds2 = pd.read_csv(\"Assig1-Dataset/test_with_label_2.csv\", sep=\",\",header=None)"
   ]
  },
  {
   "cell_type": "code",
   "execution_count": 44,
   "metadata": {},
   "outputs": [],
   "source": [
    "training_features2 = training_ds2.drop(training_ds2.columns[-1],axis=1)\n",
    "training_targets2 = training_ds2[training_ds2.columns[-1]]\n",
    "\n",
    "testing_features2 = testing_ds2.drop(training_ds2.columns[-1],axis=1)\n",
    "testing_targets2 = testing_ds2[training_ds2.columns[-1]]"
   ]
  },
  {
   "cell_type": "code",
   "execution_count": 45,
   "metadata": {},
   "outputs": [
    {
     "name": "stdout",
     "output_type": "stream",
     "text": [
      "Fitting 5 folds for each of 16 candidates, totalling 80 fits\n",
      "[CV] activation=logistic, hidden_layer_sizes=(30, 50), solver=adam ...\n"
     ]
    },
    {
     "name": "stderr",
     "output_type": "stream",
     "text": [
      "[Parallel(n_jobs=1)]: Using backend SequentialBackend with 1 concurrent workers.\n",
      "C:\\Users\\Ben\\anaconda3\\lib\\site-packages\\sklearn\\neural_network\\_multilayer_perceptron.py:582: ConvergenceWarning: Stochastic Optimizer: Maximum iterations (200) reached and the optimization hasn't converged yet.\n",
      "  warnings.warn(\n",
      "[Parallel(n_jobs=1)]: Done   1 out of   1 | elapsed:   34.3s remaining:    0.0s\n"
     ]
    },
    {
     "name": "stdout",
     "output_type": "stream",
     "text": [
      "[CV]  activation=logistic, hidden_layer_sizes=(30, 50), solver=adam, total=  34.4s\n",
      "[CV] activation=logistic, hidden_layer_sizes=(30, 50), solver=adam ...\n"
     ]
    },
    {
     "name": "stderr",
     "output_type": "stream",
     "text": [
      "C:\\Users\\Ben\\anaconda3\\lib\\site-packages\\sklearn\\neural_network\\_multilayer_perceptron.py:582: ConvergenceWarning: Stochastic Optimizer: Maximum iterations (200) reached and the optimization hasn't converged yet.\n",
      "  warnings.warn(\n"
     ]
    },
    {
     "name": "stdout",
     "output_type": "stream",
     "text": [
      "[CV]  activation=logistic, hidden_layer_sizes=(30, 50), solver=adam, total=  34.7s\n",
      "[CV] activation=logistic, hidden_layer_sizes=(30, 50), solver=adam ...\n"
     ]
    },
    {
     "name": "stderr",
     "output_type": "stream",
     "text": [
      "C:\\Users\\Ben\\anaconda3\\lib\\site-packages\\sklearn\\neural_network\\_multilayer_perceptron.py:582: ConvergenceWarning: Stochastic Optimizer: Maximum iterations (200) reached and the optimization hasn't converged yet.\n",
      "  warnings.warn(\n"
     ]
    },
    {
     "name": "stdout",
     "output_type": "stream",
     "text": [
      "[CV]  activation=logistic, hidden_layer_sizes=(30, 50), solver=adam, total=  35.0s\n",
      "[CV] activation=logistic, hidden_layer_sizes=(30, 50), solver=adam ...\n"
     ]
    },
    {
     "name": "stderr",
     "output_type": "stream",
     "text": [
      "C:\\Users\\Ben\\anaconda3\\lib\\site-packages\\sklearn\\neural_network\\_multilayer_perceptron.py:582: ConvergenceWarning: Stochastic Optimizer: Maximum iterations (200) reached and the optimization hasn't converged yet.\n",
      "  warnings.warn(\n"
     ]
    },
    {
     "name": "stdout",
     "output_type": "stream",
     "text": [
      "[CV]  activation=logistic, hidden_layer_sizes=(30, 50), solver=adam, total=  35.3s\n",
      "[CV] activation=logistic, hidden_layer_sizes=(30, 50), solver=adam ...\n"
     ]
    },
    {
     "name": "stderr",
     "output_type": "stream",
     "text": [
      "C:\\Users\\Ben\\anaconda3\\lib\\site-packages\\sklearn\\neural_network\\_multilayer_perceptron.py:582: ConvergenceWarning: Stochastic Optimizer: Maximum iterations (200) reached and the optimization hasn't converged yet.\n",
      "  warnings.warn(\n"
     ]
    },
    {
     "name": "stdout",
     "output_type": "stream",
     "text": [
      "[CV]  activation=logistic, hidden_layer_sizes=(30, 50), solver=adam, total=  35.2s\n",
      "[CV] activation=logistic, hidden_layer_sizes=(30, 50), solver=sgd ....\n"
     ]
    },
    {
     "name": "stderr",
     "output_type": "stream",
     "text": [
      "C:\\Users\\Ben\\anaconda3\\lib\\site-packages\\sklearn\\neural_network\\_multilayer_perceptron.py:582: ConvergenceWarning: Stochastic Optimizer: Maximum iterations (200) reached and the optimization hasn't converged yet.\n",
      "  warnings.warn(\n"
     ]
    },
    {
     "name": "stdout",
     "output_type": "stream",
     "text": [
      "[CV]  activation=logistic, hidden_layer_sizes=(30, 50), solver=sgd, total=  34.8s\n",
      "[CV] activation=logistic, hidden_layer_sizes=(30, 50), solver=sgd ....\n"
     ]
    },
    {
     "name": "stderr",
     "output_type": "stream",
     "text": [
      "C:\\Users\\Ben\\anaconda3\\lib\\site-packages\\sklearn\\neural_network\\_multilayer_perceptron.py:582: ConvergenceWarning: Stochastic Optimizer: Maximum iterations (200) reached and the optimization hasn't converged yet.\n",
      "  warnings.warn(\n"
     ]
    },
    {
     "name": "stdout",
     "output_type": "stream",
     "text": [
      "[CV]  activation=logistic, hidden_layer_sizes=(30, 50), solver=sgd, total=  34.6s\n",
      "[CV] activation=logistic, hidden_layer_sizes=(30, 50), solver=sgd ....\n"
     ]
    },
    {
     "name": "stderr",
     "output_type": "stream",
     "text": [
      "C:\\Users\\Ben\\anaconda3\\lib\\site-packages\\sklearn\\neural_network\\_multilayer_perceptron.py:582: ConvergenceWarning: Stochastic Optimizer: Maximum iterations (200) reached and the optimization hasn't converged yet.\n",
      "  warnings.warn(\n"
     ]
    },
    {
     "name": "stdout",
     "output_type": "stream",
     "text": [
      "[CV]  activation=logistic, hidden_layer_sizes=(30, 50), solver=sgd, total=  34.2s\n",
      "[CV] activation=logistic, hidden_layer_sizes=(30, 50), solver=sgd ....\n"
     ]
    },
    {
     "name": "stderr",
     "output_type": "stream",
     "text": [
      "C:\\Users\\Ben\\anaconda3\\lib\\site-packages\\sklearn\\neural_network\\_multilayer_perceptron.py:582: ConvergenceWarning: Stochastic Optimizer: Maximum iterations (200) reached and the optimization hasn't converged yet.\n",
      "  warnings.warn(\n"
     ]
    },
    {
     "name": "stdout",
     "output_type": "stream",
     "text": [
      "[CV]  activation=logistic, hidden_layer_sizes=(30, 50), solver=sgd, total=  34.6s\n",
      "[CV] activation=logistic, hidden_layer_sizes=(30, 50), solver=sgd ....\n"
     ]
    },
    {
     "name": "stderr",
     "output_type": "stream",
     "text": [
      "C:\\Users\\Ben\\anaconda3\\lib\\site-packages\\sklearn\\neural_network\\_multilayer_perceptron.py:582: ConvergenceWarning: Stochastic Optimizer: Maximum iterations (200) reached and the optimization hasn't converged yet.\n",
      "  warnings.warn(\n"
     ]
    },
    {
     "name": "stdout",
     "output_type": "stream",
     "text": [
      "[CV]  activation=logistic, hidden_layer_sizes=(30, 50), solver=sgd, total=  34.6s\n",
      "[CV] activation=logistic, hidden_layer_sizes=(10, 10, 10), solver=adam \n"
     ]
    },
    {
     "name": "stderr",
     "output_type": "stream",
     "text": [
      "C:\\Users\\Ben\\anaconda3\\lib\\site-packages\\sklearn\\neural_network\\_multilayer_perceptron.py:582: ConvergenceWarning: Stochastic Optimizer: Maximum iterations (200) reached and the optimization hasn't converged yet.\n",
      "  warnings.warn(\n"
     ]
    },
    {
     "name": "stdout",
     "output_type": "stream",
     "text": [
      "[CV]  activation=logistic, hidden_layer_sizes=(10, 10, 10), solver=adam, total=  31.5s\n",
      "[CV] activation=logistic, hidden_layer_sizes=(10, 10, 10), solver=adam \n"
     ]
    },
    {
     "name": "stderr",
     "output_type": "stream",
     "text": [
      "C:\\Users\\Ben\\anaconda3\\lib\\site-packages\\sklearn\\neural_network\\_multilayer_perceptron.py:582: ConvergenceWarning: Stochastic Optimizer: Maximum iterations (200) reached and the optimization hasn't converged yet.\n",
      "  warnings.warn(\n"
     ]
    },
    {
     "name": "stdout",
     "output_type": "stream",
     "text": [
      "[CV]  activation=logistic, hidden_layer_sizes=(10, 10, 10), solver=adam, total=  31.5s\n",
      "[CV] activation=logistic, hidden_layer_sizes=(10, 10, 10), solver=adam \n"
     ]
    },
    {
     "name": "stderr",
     "output_type": "stream",
     "text": [
      "C:\\Users\\Ben\\anaconda3\\lib\\site-packages\\sklearn\\neural_network\\_multilayer_perceptron.py:582: ConvergenceWarning: Stochastic Optimizer: Maximum iterations (200) reached and the optimization hasn't converged yet.\n",
      "  warnings.warn(\n"
     ]
    },
    {
     "name": "stdout",
     "output_type": "stream",
     "text": [
      "[CV]  activation=logistic, hidden_layer_sizes=(10, 10, 10), solver=adam, total=  31.6s\n",
      "[CV] activation=logistic, hidden_layer_sizes=(10, 10, 10), solver=adam \n"
     ]
    },
    {
     "name": "stderr",
     "output_type": "stream",
     "text": [
      "C:\\Users\\Ben\\anaconda3\\lib\\site-packages\\sklearn\\neural_network\\_multilayer_perceptron.py:582: ConvergenceWarning: Stochastic Optimizer: Maximum iterations (200) reached and the optimization hasn't converged yet.\n",
      "  warnings.warn(\n"
     ]
    },
    {
     "name": "stdout",
     "output_type": "stream",
     "text": [
      "[CV]  activation=logistic, hidden_layer_sizes=(10, 10, 10), solver=adam, total=  31.2s\n",
      "[CV] activation=logistic, hidden_layer_sizes=(10, 10, 10), solver=adam \n"
     ]
    },
    {
     "name": "stderr",
     "output_type": "stream",
     "text": [
      "C:\\Users\\Ben\\anaconda3\\lib\\site-packages\\sklearn\\neural_network\\_multilayer_perceptron.py:582: ConvergenceWarning: Stochastic Optimizer: Maximum iterations (200) reached and the optimization hasn't converged yet.\n",
      "  warnings.warn(\n"
     ]
    },
    {
     "name": "stdout",
     "output_type": "stream",
     "text": [
      "[CV]  activation=logistic, hidden_layer_sizes=(10, 10, 10), solver=adam, total=  31.3s\n",
      "[CV] activation=logistic, hidden_layer_sizes=(10, 10, 10), solver=sgd \n",
      "[CV]  activation=logistic, hidden_layer_sizes=(10, 10, 10), solver=sgd, total=   9.1s\n",
      "[CV] activation=logistic, hidden_layer_sizes=(10, 10, 10), solver=sgd \n",
      "[CV]  activation=logistic, hidden_layer_sizes=(10, 10, 10), solver=sgd, total=   7.6s\n",
      "[CV] activation=logistic, hidden_layer_sizes=(10, 10, 10), solver=sgd \n",
      "[CV]  activation=logistic, hidden_layer_sizes=(10, 10, 10), solver=sgd, total=   8.8s\n",
      "[CV] activation=logistic, hidden_layer_sizes=(10, 10, 10), solver=sgd \n",
      "[CV]  activation=logistic, hidden_layer_sizes=(10, 10, 10), solver=sgd, total=   8.1s\n",
      "[CV] activation=logistic, hidden_layer_sizes=(10, 10, 10), solver=sgd \n",
      "[CV]  activation=logistic, hidden_layer_sizes=(10, 10, 10), solver=sgd, total=   8.8s\n",
      "[CV] activation=tanh, hidden_layer_sizes=(30, 50), solver=adam .......\n",
      "[CV]  activation=tanh, hidden_layer_sizes=(30, 50), solver=adam, total=  29.3s\n",
      "[CV] activation=tanh, hidden_layer_sizes=(30, 50), solver=adam .......\n",
      "[CV]  activation=tanh, hidden_layer_sizes=(30, 50), solver=adam, total=  28.0s\n",
      "[CV] activation=tanh, hidden_layer_sizes=(30, 50), solver=adam .......\n"
     ]
    },
    {
     "name": "stderr",
     "output_type": "stream",
     "text": [
      "C:\\Users\\Ben\\anaconda3\\lib\\site-packages\\sklearn\\neural_network\\_multilayer_perceptron.py:582: ConvergenceWarning: Stochastic Optimizer: Maximum iterations (200) reached and the optimization hasn't converged yet.\n",
      "  warnings.warn(\n"
     ]
    },
    {
     "name": "stdout",
     "output_type": "stream",
     "text": [
      "[CV]  activation=tanh, hidden_layer_sizes=(30, 50), solver=adam, total=  36.7s\n",
      "[CV] activation=tanh, hidden_layer_sizes=(30, 50), solver=adam .......\n"
     ]
    },
    {
     "name": "stderr",
     "output_type": "stream",
     "text": [
      "C:\\Users\\Ben\\anaconda3\\lib\\site-packages\\sklearn\\neural_network\\_multilayer_perceptron.py:582: ConvergenceWarning: Stochastic Optimizer: Maximum iterations (200) reached and the optimization hasn't converged yet.\n",
      "  warnings.warn(\n"
     ]
    },
    {
     "name": "stdout",
     "output_type": "stream",
     "text": [
      "[CV]  activation=tanh, hidden_layer_sizes=(30, 50), solver=adam, total=  36.6s\n",
      "[CV] activation=tanh, hidden_layer_sizes=(30, 50), solver=adam .......\n"
     ]
    },
    {
     "name": "stderr",
     "output_type": "stream",
     "text": [
      "C:\\Users\\Ben\\anaconda3\\lib\\site-packages\\sklearn\\neural_network\\_multilayer_perceptron.py:582: ConvergenceWarning: Stochastic Optimizer: Maximum iterations (200) reached and the optimization hasn't converged yet.\n",
      "  warnings.warn(\n"
     ]
    },
    {
     "name": "stdout",
     "output_type": "stream",
     "text": [
      "[CV]  activation=tanh, hidden_layer_sizes=(30, 50), solver=adam, total=  36.3s\n",
      "[CV] activation=tanh, hidden_layer_sizes=(30, 50), solver=sgd ........\n"
     ]
    },
    {
     "name": "stderr",
     "output_type": "stream",
     "text": [
      "C:\\Users\\Ben\\anaconda3\\lib\\site-packages\\sklearn\\neural_network\\_multilayer_perceptron.py:582: ConvergenceWarning: Stochastic Optimizer: Maximum iterations (200) reached and the optimization hasn't converged yet.\n",
      "  warnings.warn(\n"
     ]
    },
    {
     "name": "stdout",
     "output_type": "stream",
     "text": [
      "[CV]  activation=tanh, hidden_layer_sizes=(30, 50), solver=sgd, total=  35.4s\n",
      "[CV] activation=tanh, hidden_layer_sizes=(30, 50), solver=sgd ........\n"
     ]
    },
    {
     "name": "stderr",
     "output_type": "stream",
     "text": [
      "C:\\Users\\Ben\\anaconda3\\lib\\site-packages\\sklearn\\neural_network\\_multilayer_perceptron.py:582: ConvergenceWarning: Stochastic Optimizer: Maximum iterations (200) reached and the optimization hasn't converged yet.\n",
      "  warnings.warn(\n"
     ]
    },
    {
     "name": "stdout",
     "output_type": "stream",
     "text": [
      "[CV]  activation=tanh, hidden_layer_sizes=(30, 50), solver=sgd, total=  35.4s\n",
      "[CV] activation=tanh, hidden_layer_sizes=(30, 50), solver=sgd ........\n"
     ]
    },
    {
     "name": "stderr",
     "output_type": "stream",
     "text": [
      "C:\\Users\\Ben\\anaconda3\\lib\\site-packages\\sklearn\\neural_network\\_multilayer_perceptron.py:582: ConvergenceWarning: Stochastic Optimizer: Maximum iterations (200) reached and the optimization hasn't converged yet.\n",
      "  warnings.warn(\n"
     ]
    },
    {
     "name": "stdout",
     "output_type": "stream",
     "text": [
      "[CV]  activation=tanh, hidden_layer_sizes=(30, 50), solver=sgd, total=  35.3s\n",
      "[CV] activation=tanh, hidden_layer_sizes=(30, 50), solver=sgd ........\n"
     ]
    },
    {
     "name": "stderr",
     "output_type": "stream",
     "text": [
      "C:\\Users\\Ben\\anaconda3\\lib\\site-packages\\sklearn\\neural_network\\_multilayer_perceptron.py:582: ConvergenceWarning: Stochastic Optimizer: Maximum iterations (200) reached and the optimization hasn't converged yet.\n",
      "  warnings.warn(\n"
     ]
    },
    {
     "name": "stdout",
     "output_type": "stream",
     "text": [
      "[CV]  activation=tanh, hidden_layer_sizes=(30, 50), solver=sgd, total=  35.0s\n",
      "[CV] activation=tanh, hidden_layer_sizes=(30, 50), solver=sgd ........\n"
     ]
    },
    {
     "name": "stderr",
     "output_type": "stream",
     "text": [
      "C:\\Users\\Ben\\anaconda3\\lib\\site-packages\\sklearn\\neural_network\\_multilayer_perceptron.py:582: ConvergenceWarning: Stochastic Optimizer: Maximum iterations (200) reached and the optimization hasn't converged yet.\n",
      "  warnings.warn(\n"
     ]
    },
    {
     "name": "stdout",
     "output_type": "stream",
     "text": [
      "[CV]  activation=tanh, hidden_layer_sizes=(30, 50), solver=sgd, total=  35.1s\n",
      "[CV] activation=tanh, hidden_layer_sizes=(10, 10, 10), solver=adam ...\n"
     ]
    },
    {
     "name": "stderr",
     "output_type": "stream",
     "text": [
      "C:\\Users\\Ben\\anaconda3\\lib\\site-packages\\sklearn\\neural_network\\_multilayer_perceptron.py:582: ConvergenceWarning: Stochastic Optimizer: Maximum iterations (200) reached and the optimization hasn't converged yet.\n",
      "  warnings.warn(\n"
     ]
    },
    {
     "name": "stdout",
     "output_type": "stream",
     "text": [
      "[CV]  activation=tanh, hidden_layer_sizes=(10, 10, 10), solver=adam, total=  32.5s\n",
      "[CV] activation=tanh, hidden_layer_sizes=(10, 10, 10), solver=adam ...\n",
      "[CV]  activation=tanh, hidden_layer_sizes=(10, 10, 10), solver=adam, total=  25.9s\n",
      "[CV] activation=tanh, hidden_layer_sizes=(10, 10, 10), solver=adam ...\n",
      "[CV]  activation=tanh, hidden_layer_sizes=(10, 10, 10), solver=adam, total=  27.4s\n",
      "[CV] activation=tanh, hidden_layer_sizes=(10, 10, 10), solver=adam ...\n",
      "[CV]  activation=tanh, hidden_layer_sizes=(10, 10, 10), solver=adam, total=  30.6s\n",
      "[CV] activation=tanh, hidden_layer_sizes=(10, 10, 10), solver=adam ...\n"
     ]
    },
    {
     "name": "stderr",
     "output_type": "stream",
     "text": [
      "C:\\Users\\Ben\\anaconda3\\lib\\site-packages\\sklearn\\neural_network\\_multilayer_perceptron.py:582: ConvergenceWarning: Stochastic Optimizer: Maximum iterations (200) reached and the optimization hasn't converged yet.\n",
      "  warnings.warn(\n"
     ]
    },
    {
     "name": "stdout",
     "output_type": "stream",
     "text": [
      "[CV]  activation=tanh, hidden_layer_sizes=(10, 10, 10), solver=adam, total=  32.4s\n",
      "[CV] activation=tanh, hidden_layer_sizes=(10, 10, 10), solver=sgd ....\n"
     ]
    },
    {
     "name": "stderr",
     "output_type": "stream",
     "text": [
      "C:\\Users\\Ben\\anaconda3\\lib\\site-packages\\sklearn\\neural_network\\_multilayer_perceptron.py:582: ConvergenceWarning: Stochastic Optimizer: Maximum iterations (200) reached and the optimization hasn't converged yet.\n",
      "  warnings.warn(\n"
     ]
    },
    {
     "name": "stdout",
     "output_type": "stream",
     "text": [
      "[CV]  activation=tanh, hidden_layer_sizes=(10, 10, 10), solver=sgd, total=  33.3s\n",
      "[CV] activation=tanh, hidden_layer_sizes=(10, 10, 10), solver=sgd ....\n"
     ]
    },
    {
     "name": "stderr",
     "output_type": "stream",
     "text": [
      "C:\\Users\\Ben\\anaconda3\\lib\\site-packages\\sklearn\\neural_network\\_multilayer_perceptron.py:582: ConvergenceWarning: Stochastic Optimizer: Maximum iterations (200) reached and the optimization hasn't converged yet.\n",
      "  warnings.warn(\n"
     ]
    },
    {
     "name": "stdout",
     "output_type": "stream",
     "text": [
      "[CV]  activation=tanh, hidden_layer_sizes=(10, 10, 10), solver=sgd, total=  33.2s\n",
      "[CV] activation=tanh, hidden_layer_sizes=(10, 10, 10), solver=sgd ....\n"
     ]
    },
    {
     "name": "stderr",
     "output_type": "stream",
     "text": [
      "C:\\Users\\Ben\\anaconda3\\lib\\site-packages\\sklearn\\neural_network\\_multilayer_perceptron.py:582: ConvergenceWarning: Stochastic Optimizer: Maximum iterations (200) reached and the optimization hasn't converged yet.\n",
      "  warnings.warn(\n"
     ]
    },
    {
     "name": "stdout",
     "output_type": "stream",
     "text": [
      "[CV]  activation=tanh, hidden_layer_sizes=(10, 10, 10), solver=sgd, total=  33.2s\n",
      "[CV] activation=tanh, hidden_layer_sizes=(10, 10, 10), solver=sgd ....\n"
     ]
    },
    {
     "name": "stderr",
     "output_type": "stream",
     "text": [
      "C:\\Users\\Ben\\anaconda3\\lib\\site-packages\\sklearn\\neural_network\\_multilayer_perceptron.py:582: ConvergenceWarning: Stochastic Optimizer: Maximum iterations (200) reached and the optimization hasn't converged yet.\n",
      "  warnings.warn(\n"
     ]
    },
    {
     "name": "stdout",
     "output_type": "stream",
     "text": [
      "[CV]  activation=tanh, hidden_layer_sizes=(10, 10, 10), solver=sgd, total=  32.0s\n",
      "[CV] activation=tanh, hidden_layer_sizes=(10, 10, 10), solver=sgd ....\n"
     ]
    },
    {
     "name": "stderr",
     "output_type": "stream",
     "text": [
      "C:\\Users\\Ben\\anaconda3\\lib\\site-packages\\sklearn\\neural_network\\_multilayer_perceptron.py:582: ConvergenceWarning: Stochastic Optimizer: Maximum iterations (200) reached and the optimization hasn't converged yet.\n",
      "  warnings.warn(\n"
     ]
    },
    {
     "name": "stdout",
     "output_type": "stream",
     "text": [
      "[CV]  activation=tanh, hidden_layer_sizes=(10, 10, 10), solver=sgd, total=  31.2s\n",
      "[CV] activation=relu, hidden_layer_sizes=(30, 50), solver=adam .......\n"
     ]
    },
    {
     "name": "stderr",
     "output_type": "stream",
     "text": [
      "C:\\Users\\Ben\\anaconda3\\lib\\site-packages\\sklearn\\neural_network\\_multilayer_perceptron.py:582: ConvergenceWarning: Stochastic Optimizer: Maximum iterations (200) reached and the optimization hasn't converged yet.\n",
      "  warnings.warn(\n"
     ]
    },
    {
     "name": "stdout",
     "output_type": "stream",
     "text": [
      "[CV]  activation=relu, hidden_layer_sizes=(30, 50), solver=adam, total=  36.1s\n",
      "[CV] activation=relu, hidden_layer_sizes=(30, 50), solver=adam .......\n"
     ]
    },
    {
     "name": "stderr",
     "output_type": "stream",
     "text": [
      "C:\\Users\\Ben\\anaconda3\\lib\\site-packages\\sklearn\\neural_network\\_multilayer_perceptron.py:582: ConvergenceWarning: Stochastic Optimizer: Maximum iterations (200) reached and the optimization hasn't converged yet.\n",
      "  warnings.warn(\n"
     ]
    },
    {
     "name": "stdout",
     "output_type": "stream",
     "text": [
      "[CV]  activation=relu, hidden_layer_sizes=(30, 50), solver=adam, total=  37.5s\n",
      "[CV] activation=relu, hidden_layer_sizes=(30, 50), solver=adam .......\n"
     ]
    },
    {
     "name": "stderr",
     "output_type": "stream",
     "text": [
      "C:\\Users\\Ben\\anaconda3\\lib\\site-packages\\sklearn\\neural_network\\_multilayer_perceptron.py:582: ConvergenceWarning: Stochastic Optimizer: Maximum iterations (200) reached and the optimization hasn't converged yet.\n",
      "  warnings.warn(\n"
     ]
    },
    {
     "name": "stdout",
     "output_type": "stream",
     "text": [
      "[CV]  activation=relu, hidden_layer_sizes=(30, 50), solver=adam, total=  37.5s\n",
      "[CV] activation=relu, hidden_layer_sizes=(30, 50), solver=adam .......\n"
     ]
    },
    {
     "name": "stderr",
     "output_type": "stream",
     "text": [
      "C:\\Users\\Ben\\anaconda3\\lib\\site-packages\\sklearn\\neural_network\\_multilayer_perceptron.py:582: ConvergenceWarning: Stochastic Optimizer: Maximum iterations (200) reached and the optimization hasn't converged yet.\n",
      "  warnings.warn(\n"
     ]
    },
    {
     "name": "stdout",
     "output_type": "stream",
     "text": [
      "[CV]  activation=relu, hidden_layer_sizes=(30, 50), solver=adam, total=  37.2s\n",
      "[CV] activation=relu, hidden_layer_sizes=(30, 50), solver=adam .......\n"
     ]
    },
    {
     "name": "stderr",
     "output_type": "stream",
     "text": [
      "C:\\Users\\Ben\\anaconda3\\lib\\site-packages\\sklearn\\neural_network\\_multilayer_perceptron.py:582: ConvergenceWarning: Stochastic Optimizer: Maximum iterations (200) reached and the optimization hasn't converged yet.\n",
      "  warnings.warn(\n"
     ]
    },
    {
     "name": "stdout",
     "output_type": "stream",
     "text": [
      "[CV]  activation=relu, hidden_layer_sizes=(30, 50), solver=adam, total=  36.9s\n",
      "[CV] activation=relu, hidden_layer_sizes=(30, 50), solver=sgd ........\n"
     ]
    },
    {
     "name": "stderr",
     "output_type": "stream",
     "text": [
      "C:\\Users\\Ben\\anaconda3\\lib\\site-packages\\sklearn\\neural_network\\_multilayer_perceptron.py:582: ConvergenceWarning: Stochastic Optimizer: Maximum iterations (200) reached and the optimization hasn't converged yet.\n",
      "  warnings.warn(\n"
     ]
    },
    {
     "name": "stdout",
     "output_type": "stream",
     "text": [
      "[CV]  activation=relu, hidden_layer_sizes=(30, 50), solver=sgd, total=  36.0s\n",
      "[CV] activation=relu, hidden_layer_sizes=(30, 50), solver=sgd ........\n"
     ]
    },
    {
     "name": "stderr",
     "output_type": "stream",
     "text": [
      "C:\\Users\\Ben\\anaconda3\\lib\\site-packages\\sklearn\\neural_network\\_multilayer_perceptron.py:582: ConvergenceWarning: Stochastic Optimizer: Maximum iterations (200) reached and the optimization hasn't converged yet.\n",
      "  warnings.warn(\n"
     ]
    },
    {
     "name": "stdout",
     "output_type": "stream",
     "text": [
      "[CV]  activation=relu, hidden_layer_sizes=(30, 50), solver=sgd, total=  38.0s\n",
      "[CV] activation=relu, hidden_layer_sizes=(30, 50), solver=sgd ........\n"
     ]
    },
    {
     "name": "stderr",
     "output_type": "stream",
     "text": [
      "C:\\Users\\Ben\\anaconda3\\lib\\site-packages\\sklearn\\neural_network\\_multilayer_perceptron.py:582: ConvergenceWarning: Stochastic Optimizer: Maximum iterations (200) reached and the optimization hasn't converged yet.\n",
      "  warnings.warn(\n"
     ]
    },
    {
     "name": "stdout",
     "output_type": "stream",
     "text": [
      "[CV]  activation=relu, hidden_layer_sizes=(30, 50), solver=sgd, total=  36.5s\n",
      "[CV] activation=relu, hidden_layer_sizes=(30, 50), solver=sgd ........\n"
     ]
    },
    {
     "name": "stderr",
     "output_type": "stream",
     "text": [
      "C:\\Users\\Ben\\anaconda3\\lib\\site-packages\\sklearn\\neural_network\\_multilayer_perceptron.py:582: ConvergenceWarning: Stochastic Optimizer: Maximum iterations (200) reached and the optimization hasn't converged yet.\n",
      "  warnings.warn(\n"
     ]
    },
    {
     "name": "stdout",
     "output_type": "stream",
     "text": [
      "[CV]  activation=relu, hidden_layer_sizes=(30, 50), solver=sgd, total=  35.9s\n",
      "[CV] activation=relu, hidden_layer_sizes=(30, 50), solver=sgd ........\n"
     ]
    },
    {
     "name": "stderr",
     "output_type": "stream",
     "text": [
      "C:\\Users\\Ben\\anaconda3\\lib\\site-packages\\sklearn\\neural_network\\_multilayer_perceptron.py:582: ConvergenceWarning: Stochastic Optimizer: Maximum iterations (200) reached and the optimization hasn't converged yet.\n",
      "  warnings.warn(\n"
     ]
    },
    {
     "name": "stdout",
     "output_type": "stream",
     "text": [
      "[CV]  activation=relu, hidden_layer_sizes=(30, 50), solver=sgd, total=  37.0s\n",
      "[CV] activation=relu, hidden_layer_sizes=(10, 10, 10), solver=adam ...\n"
     ]
    },
    {
     "name": "stderr",
     "output_type": "stream",
     "text": [
      "C:\\Users\\Ben\\anaconda3\\lib\\site-packages\\sklearn\\neural_network\\_multilayer_perceptron.py:582: ConvergenceWarning: Stochastic Optimizer: Maximum iterations (200) reached and the optimization hasn't converged yet.\n",
      "  warnings.warn(\n"
     ]
    },
    {
     "name": "stdout",
     "output_type": "stream",
     "text": [
      "[CV]  activation=relu, hidden_layer_sizes=(10, 10, 10), solver=adam, total=  32.4s\n",
      "[CV] activation=relu, hidden_layer_sizes=(10, 10, 10), solver=adam ...\n"
     ]
    },
    {
     "name": "stderr",
     "output_type": "stream",
     "text": [
      "C:\\Users\\Ben\\anaconda3\\lib\\site-packages\\sklearn\\neural_network\\_multilayer_perceptron.py:582: ConvergenceWarning: Stochastic Optimizer: Maximum iterations (200) reached and the optimization hasn't converged yet.\n",
      "  warnings.warn(\n"
     ]
    },
    {
     "name": "stdout",
     "output_type": "stream",
     "text": [
      "[CV]  activation=relu, hidden_layer_sizes=(10, 10, 10), solver=adam, total=  33.2s\n",
      "[CV] activation=relu, hidden_layer_sizes=(10, 10, 10), solver=adam ...\n"
     ]
    },
    {
     "name": "stderr",
     "output_type": "stream",
     "text": [
      "C:\\Users\\Ben\\anaconda3\\lib\\site-packages\\sklearn\\neural_network\\_multilayer_perceptron.py:582: ConvergenceWarning: Stochastic Optimizer: Maximum iterations (200) reached and the optimization hasn't converged yet.\n",
      "  warnings.warn(\n"
     ]
    },
    {
     "name": "stdout",
     "output_type": "stream",
     "text": [
      "[CV]  activation=relu, hidden_layer_sizes=(10, 10, 10), solver=adam, total=  32.0s\n",
      "[CV] activation=relu, hidden_layer_sizes=(10, 10, 10), solver=adam ...\n",
      "[CV]  activation=relu, hidden_layer_sizes=(10, 10, 10), solver=adam, total=  30.6s\n",
      "[CV] activation=relu, hidden_layer_sizes=(10, 10, 10), solver=adam ...\n"
     ]
    },
    {
     "name": "stderr",
     "output_type": "stream",
     "text": [
      "C:\\Users\\Ben\\anaconda3\\lib\\site-packages\\sklearn\\neural_network\\_multilayer_perceptron.py:582: ConvergenceWarning: Stochastic Optimizer: Maximum iterations (200) reached and the optimization hasn't converged yet.\n",
      "  warnings.warn(\n"
     ]
    },
    {
     "name": "stdout",
     "output_type": "stream",
     "text": [
      "[CV]  activation=relu, hidden_layer_sizes=(10, 10, 10), solver=adam, total=  33.1s\n",
      "[CV] activation=relu, hidden_layer_sizes=(10, 10, 10), solver=sgd ....\n"
     ]
    },
    {
     "name": "stderr",
     "output_type": "stream",
     "text": [
      "C:\\Users\\Ben\\anaconda3\\lib\\site-packages\\sklearn\\neural_network\\_multilayer_perceptron.py:582: ConvergenceWarning: Stochastic Optimizer: Maximum iterations (200) reached and the optimization hasn't converged yet.\n",
      "  warnings.warn(\n"
     ]
    },
    {
     "name": "stdout",
     "output_type": "stream",
     "text": [
      "[CV]  activation=relu, hidden_layer_sizes=(10, 10, 10), solver=sgd, total=  33.2s\n",
      "[CV] activation=relu, hidden_layer_sizes=(10, 10, 10), solver=sgd ....\n"
     ]
    },
    {
     "name": "stderr",
     "output_type": "stream",
     "text": [
      "C:\\Users\\Ben\\anaconda3\\lib\\site-packages\\sklearn\\neural_network\\_multilayer_perceptron.py:582: ConvergenceWarning: Stochastic Optimizer: Maximum iterations (200) reached and the optimization hasn't converged yet.\n",
      "  warnings.warn(\n"
     ]
    },
    {
     "name": "stdout",
     "output_type": "stream",
     "text": [
      "[CV]  activation=relu, hidden_layer_sizes=(10, 10, 10), solver=sgd, total=  32.6s\n",
      "[CV] activation=relu, hidden_layer_sizes=(10, 10, 10), solver=sgd ....\n"
     ]
    },
    {
     "name": "stderr",
     "output_type": "stream",
     "text": [
      "C:\\Users\\Ben\\anaconda3\\lib\\site-packages\\sklearn\\neural_network\\_multilayer_perceptron.py:582: ConvergenceWarning: Stochastic Optimizer: Maximum iterations (200) reached and the optimization hasn't converged yet.\n",
      "  warnings.warn(\n"
     ]
    },
    {
     "name": "stdout",
     "output_type": "stream",
     "text": [
      "[CV]  activation=relu, hidden_layer_sizes=(10, 10, 10), solver=sgd, total=  32.2s\n",
      "[CV] activation=relu, hidden_layer_sizes=(10, 10, 10), solver=sgd ....\n"
     ]
    },
    {
     "name": "stderr",
     "output_type": "stream",
     "text": [
      "C:\\Users\\Ben\\anaconda3\\lib\\site-packages\\sklearn\\neural_network\\_multilayer_perceptron.py:582: ConvergenceWarning: Stochastic Optimizer: Maximum iterations (200) reached and the optimization hasn't converged yet.\n",
      "  warnings.warn(\n"
     ]
    },
    {
     "name": "stdout",
     "output_type": "stream",
     "text": [
      "[CV]  activation=relu, hidden_layer_sizes=(10, 10, 10), solver=sgd, total=  32.6s\n",
      "[CV] activation=relu, hidden_layer_sizes=(10, 10, 10), solver=sgd ....\n"
     ]
    },
    {
     "name": "stderr",
     "output_type": "stream",
     "text": [
      "C:\\Users\\Ben\\anaconda3\\lib\\site-packages\\sklearn\\neural_network\\_multilayer_perceptron.py:582: ConvergenceWarning: Stochastic Optimizer: Maximum iterations (200) reached and the optimization hasn't converged yet.\n",
      "  warnings.warn(\n"
     ]
    },
    {
     "name": "stdout",
     "output_type": "stream",
     "text": [
      "[CV]  activation=relu, hidden_layer_sizes=(10, 10, 10), solver=sgd, total=  32.0s\n",
      "[CV] activation=identity, hidden_layer_sizes=(30, 50), solver=adam ...\n",
      "[CV]  activation=identity, hidden_layer_sizes=(30, 50), solver=adam, total=  16.4s\n",
      "[CV] activation=identity, hidden_layer_sizes=(30, 50), solver=adam ...\n",
      "[CV]  activation=identity, hidden_layer_sizes=(30, 50), solver=adam, total=  18.5s\n",
      "[CV] activation=identity, hidden_layer_sizes=(30, 50), solver=adam ...\n",
      "[CV]  activation=identity, hidden_layer_sizes=(30, 50), solver=adam, total=  19.7s\n",
      "[CV] activation=identity, hidden_layer_sizes=(30, 50), solver=adam ...\n",
      "[CV]  activation=identity, hidden_layer_sizes=(30, 50), solver=adam, total=  23.9s\n",
      "[CV] activation=identity, hidden_layer_sizes=(30, 50), solver=adam ...\n",
      "[CV]  activation=identity, hidden_layer_sizes=(30, 50), solver=adam, total=  22.5s\n",
      "[CV] activation=identity, hidden_layer_sizes=(30, 50), solver=sgd ....\n"
     ]
    },
    {
     "name": "stderr",
     "output_type": "stream",
     "text": [
      "C:\\Users\\Ben\\anaconda3\\lib\\site-packages\\sklearn\\neural_network\\_multilayer_perceptron.py:582: ConvergenceWarning: Stochastic Optimizer: Maximum iterations (200) reached and the optimization hasn't converged yet.\n",
      "  warnings.warn(\n"
     ]
    },
    {
     "name": "stdout",
     "output_type": "stream",
     "text": [
      "[CV]  activation=identity, hidden_layer_sizes=(30, 50), solver=sgd, total=  33.1s\n",
      "[CV] activation=identity, hidden_layer_sizes=(30, 50), solver=sgd ....\n"
     ]
    },
    {
     "name": "stderr",
     "output_type": "stream",
     "text": [
      "C:\\Users\\Ben\\anaconda3\\lib\\site-packages\\sklearn\\neural_network\\_multilayer_perceptron.py:582: ConvergenceWarning: Stochastic Optimizer: Maximum iterations (200) reached and the optimization hasn't converged yet.\n",
      "  warnings.warn(\n"
     ]
    },
    {
     "name": "stdout",
     "output_type": "stream",
     "text": [
      "[CV]  activation=identity, hidden_layer_sizes=(30, 50), solver=sgd, total=  33.3s\n",
      "[CV] activation=identity, hidden_layer_sizes=(30, 50), solver=sgd ....\n"
     ]
    },
    {
     "name": "stderr",
     "output_type": "stream",
     "text": [
      "C:\\Users\\Ben\\anaconda3\\lib\\site-packages\\sklearn\\neural_network\\_multilayer_perceptron.py:582: ConvergenceWarning: Stochastic Optimizer: Maximum iterations (200) reached and the optimization hasn't converged yet.\n",
      "  warnings.warn(\n"
     ]
    },
    {
     "name": "stdout",
     "output_type": "stream",
     "text": [
      "[CV]  activation=identity, hidden_layer_sizes=(30, 50), solver=sgd, total=  33.7s\n",
      "[CV] activation=identity, hidden_layer_sizes=(30, 50), solver=sgd ....\n"
     ]
    },
    {
     "name": "stderr",
     "output_type": "stream",
     "text": [
      "C:\\Users\\Ben\\anaconda3\\lib\\site-packages\\sklearn\\neural_network\\_multilayer_perceptron.py:582: ConvergenceWarning: Stochastic Optimizer: Maximum iterations (200) reached and the optimization hasn't converged yet.\n",
      "  warnings.warn(\n"
     ]
    },
    {
     "name": "stdout",
     "output_type": "stream",
     "text": [
      "[CV]  activation=identity, hidden_layer_sizes=(30, 50), solver=sgd, total=  32.9s\n",
      "[CV] activation=identity, hidden_layer_sizes=(30, 50), solver=sgd ....\n"
     ]
    },
    {
     "name": "stderr",
     "output_type": "stream",
     "text": [
      "C:\\Users\\Ben\\anaconda3\\lib\\site-packages\\sklearn\\neural_network\\_multilayer_perceptron.py:582: ConvergenceWarning: Stochastic Optimizer: Maximum iterations (200) reached and the optimization hasn't converged yet.\n",
      "  warnings.warn(\n"
     ]
    },
    {
     "name": "stdout",
     "output_type": "stream",
     "text": [
      "[CV]  activation=identity, hidden_layer_sizes=(30, 50), solver=sgd, total=  33.8s\n",
      "[CV] activation=identity, hidden_layer_sizes=(10, 10, 10), solver=adam \n"
     ]
    },
    {
     "name": "stderr",
     "output_type": "stream",
     "text": [
      "C:\\Users\\Ben\\anaconda3\\lib\\site-packages\\sklearn\\neural_network\\_multilayer_perceptron.py:582: ConvergenceWarning: Stochastic Optimizer: Maximum iterations (200) reached and the optimization hasn't converged yet.\n",
      "  warnings.warn(\n"
     ]
    },
    {
     "name": "stdout",
     "output_type": "stream",
     "text": [
      "[CV]  activation=identity, hidden_layer_sizes=(10, 10, 10), solver=adam, total=  31.4s\n",
      "[CV] activation=identity, hidden_layer_sizes=(10, 10, 10), solver=adam \n",
      "[CV]  activation=identity, hidden_layer_sizes=(10, 10, 10), solver=adam, total=  29.3s\n",
      "[CV] activation=identity, hidden_layer_sizes=(10, 10, 10), solver=adam \n"
     ]
    },
    {
     "name": "stderr",
     "output_type": "stream",
     "text": [
      "C:\\Users\\Ben\\anaconda3\\lib\\site-packages\\sklearn\\neural_network\\_multilayer_perceptron.py:582: ConvergenceWarning: Stochastic Optimizer: Maximum iterations (200) reached and the optimization hasn't converged yet.\n",
      "  warnings.warn(\n"
     ]
    },
    {
     "name": "stdout",
     "output_type": "stream",
     "text": [
      "[CV]  activation=identity, hidden_layer_sizes=(10, 10, 10), solver=adam, total=  32.2s\n",
      "[CV] activation=identity, hidden_layer_sizes=(10, 10, 10), solver=adam \n",
      "[CV]  activation=identity, hidden_layer_sizes=(10, 10, 10), solver=adam, total=  24.2s\n",
      "[CV] activation=identity, hidden_layer_sizes=(10, 10, 10), solver=adam \n",
      "[CV]  activation=identity, hidden_layer_sizes=(10, 10, 10), solver=adam, total=  31.4s\n",
      "[CV] activation=identity, hidden_layer_sizes=(10, 10, 10), solver=sgd \n"
     ]
    },
    {
     "name": "stderr",
     "output_type": "stream",
     "text": [
      "C:\\Users\\Ben\\anaconda3\\lib\\site-packages\\sklearn\\neural_network\\_multilayer_perceptron.py:582: ConvergenceWarning: Stochastic Optimizer: Maximum iterations (200) reached and the optimization hasn't converged yet.\n",
      "  warnings.warn(\n"
     ]
    },
    {
     "name": "stdout",
     "output_type": "stream",
     "text": [
      "[CV]  activation=identity, hidden_layer_sizes=(10, 10, 10), solver=sgd, total=  32.4s\n",
      "[CV] activation=identity, hidden_layer_sizes=(10, 10, 10), solver=sgd \n"
     ]
    },
    {
     "name": "stderr",
     "output_type": "stream",
     "text": [
      "C:\\Users\\Ben\\anaconda3\\lib\\site-packages\\sklearn\\neural_network\\_multilayer_perceptron.py:582: ConvergenceWarning: Stochastic Optimizer: Maximum iterations (200) reached and the optimization hasn't converged yet.\n",
      "  warnings.warn(\n"
     ]
    },
    {
     "name": "stdout",
     "output_type": "stream",
     "text": [
      "[CV]  activation=identity, hidden_layer_sizes=(10, 10, 10), solver=sgd, total=  32.7s\n",
      "[CV] activation=identity, hidden_layer_sizes=(10, 10, 10), solver=sgd \n"
     ]
    },
    {
     "name": "stderr",
     "output_type": "stream",
     "text": [
      "C:\\Users\\Ben\\anaconda3\\lib\\site-packages\\sklearn\\neural_network\\_multilayer_perceptron.py:582: ConvergenceWarning: Stochastic Optimizer: Maximum iterations (200) reached and the optimization hasn't converged yet.\n",
      "  warnings.warn(\n"
     ]
    },
    {
     "name": "stdout",
     "output_type": "stream",
     "text": [
      "[CV]  activation=identity, hidden_layer_sizes=(10, 10, 10), solver=sgd, total=  30.9s\n",
      "[CV] activation=identity, hidden_layer_sizes=(10, 10, 10), solver=sgd \n"
     ]
    },
    {
     "name": "stderr",
     "output_type": "stream",
     "text": [
      "C:\\Users\\Ben\\anaconda3\\lib\\site-packages\\sklearn\\neural_network\\_multilayer_perceptron.py:582: ConvergenceWarning: Stochastic Optimizer: Maximum iterations (200) reached and the optimization hasn't converged yet.\n",
      "  warnings.warn(\n"
     ]
    },
    {
     "name": "stdout",
     "output_type": "stream",
     "text": [
      "[CV]  activation=identity, hidden_layer_sizes=(10, 10, 10), solver=sgd, total=  29.9s\n",
      "[CV] activation=identity, hidden_layer_sizes=(10, 10, 10), solver=sgd \n"
     ]
    },
    {
     "name": "stderr",
     "output_type": "stream",
     "text": [
      "C:\\Users\\Ben\\anaconda3\\lib\\site-packages\\sklearn\\neural_network\\_multilayer_perceptron.py:582: ConvergenceWarning: Stochastic Optimizer: Maximum iterations (200) reached and the optimization hasn't converged yet.\n",
      "  warnings.warn(\n",
      "[Parallel(n_jobs=1)]: Done  80 out of  80 | elapsed: 41.1min finished\n"
     ]
    },
    {
     "name": "stdout",
     "output_type": "stream",
     "text": [
      "[CV]  activation=identity, hidden_layer_sizes=(10, 10, 10), solver=sgd, total=  30.6s\n"
     ]
    },
    {
     "name": "stderr",
     "output_type": "stream",
     "text": [
      "C:\\Users\\Ben\\anaconda3\\lib\\site-packages\\sklearn\\neural_network\\_multilayer_perceptron.py:582: ConvergenceWarning: Stochastic Optimizer: Maximum iterations (200) reached and the optimization hasn't converged yet.\n",
      "  warnings.warn(\n"
     ]
    }
   ],
   "source": [
    "clf2 = GridSearchCV(mlp, parameter_space, verbose=2).fit(training_features2, training_targets2)"
   ]
  },
  {
   "cell_type": "code",
   "execution_count": 47,
   "metadata": {},
   "outputs": [
    {
     "name": "stdout",
     "output_type": "stream",
     "text": [
      "Best parameters found:\n",
      " {'activation': 'tanh', 'hidden_layer_sizes': (30, 50), 'solver': 'sgd'}\n"
     ]
    }
   ],
   "source": [
    "predicted_best_MLP2 = clf2.predict(testing_features2)\n",
    "print('Best parameters found:\\n', clf2.best_params_)"
   ]
  },
  {
   "cell_type": "markdown",
   "metadata": {},
   "source": [
    "## (b) a plot the confusion matrix"
   ]
  },
  {
   "cell_type": "code",
   "execution_count": 48,
   "metadata": {
    "scrolled": true
   },
   "outputs": [
    {
     "name": "stdout",
     "output_type": "stream",
     "text": [
      "[[ 47   0   0   1   3   1   0   0   2   1]\n",
      " [  1 120   0   2   0   0   0   0   2   0]\n",
      " [  0   0   8   0   1   1   0   0   5   0]\n",
      " [  1   0   0  14   0   0   0   0   0   0]\n",
      " [  3   1   0   1  36   1   0   0   1   7]\n",
      " [  0   0   1   0   1  51   0   0   0   2]\n",
      " [  0   4   1   0   0   0   7   0   1   2]\n",
      " [  0   0   0   0   0   0   0  15   0   0]\n",
      " [  1   1   0   0   0   1   0   1  46   0]\n",
      " [  1   0   2   0   8   6   0   0   4 104]]\n"
     ]
    }
   ],
   "source": [
    "best_MLP_confusion_matrix2 = confusion_matrix(testing_targets2, predicted_best_MLP2)\n",
    "print(best_MLP_confusion_matrix2)"
   ]
  },
  {
   "cell_type": "markdown",
   "metadata": {},
   "source": [
    "## (c)(d) the precision, recall, and f1-measure for each class "
   ]
  },
  {
   "cell_type": "code",
   "execution_count": 49,
   "metadata": {},
   "outputs": [
    {
     "name": "stdout",
     "output_type": "stream",
     "text": [
      "              precision    recall  f1-score   support\n",
      "\n",
      "           0       0.87      0.85      0.86        55\n",
      "           1       0.95      0.96      0.96       125\n",
      "           2       0.67      0.53      0.59        15\n",
      "           3       0.78      0.93      0.85        15\n",
      "           4       0.73      0.72      0.73        50\n",
      "           5       0.84      0.93      0.88        55\n",
      "           6       1.00      0.47      0.64        15\n",
      "           7       0.94      1.00      0.97        15\n",
      "           8       0.75      0.92      0.83        50\n",
      "           9       0.90      0.83      0.86       125\n",
      "\n",
      "    accuracy                           0.86       520\n",
      "   macro avg       0.84      0.81      0.82       520\n",
      "weighted avg       0.87      0.86      0.86       520\n",
      "\n"
     ]
    }
   ],
   "source": [
    "best_MLP_classification_report2 = classification_report(testing_targets2, predicted_best_MLP2)\n",
    "print(classification_report(testing_targets2, predicted_best_MLP2))"
   ]
  },
  {
   "cell_type": "markdown",
   "metadata": {},
   "source": [
    "# e) Writing to .csv"
   ]
  },
  {
   "cell_type": "code",
   "execution_count": 56,
   "metadata": {},
   "outputs": [],
   "source": [
    "filename2 = './outputs/Best-MLP-DS2.csv'\n",
    "\n",
    "MLP_DS2 = pd.DataFrame(predicted_best_MLP2)\n",
    "MLP_DS2.index = MLP_DS2.index + 1 #To follow assignment example\n",
    "MLP_DS2.to_csv(filename2, header=False)\n",
    "\n",
    "writer = open(filename2, 'a')\n",
    "\n",
    "writer.write(\"\\nConfusion Matrix:\\n\\n\")\n",
    "writer.write(str(best_MLP_confusion_matrix2))\n",
    "writer.write(\"\\n\\n\\n\")\n",
    "writer.write(\"\\nClassification Report:\\n\\n\")\n",
    "writer.write(str(best_MLP_classification_report2))\n",
    "\n",
    "writer.close()"
   ]
  },
  {
   "cell_type": "code",
   "execution_count": null,
   "metadata": {},
   "outputs": [],
   "source": []
  },
  {
   "cell_type": "code",
   "execution_count": null,
   "metadata": {},
   "outputs": [],
   "source": []
  }
 ],
 "metadata": {
  "kernelspec": {
   "display_name": "Python 3",
   "language": "python",
   "name": "python3"
  },
  "language_info": {
   "codemirror_mode": {
    "name": "ipython",
    "version": 3
   },
   "file_extension": ".py",
   "mimetype": "text/x-python",
   "name": "python",
   "nbconvert_exporter": "python",
   "pygments_lexer": "ipython3",
   "version": "3.8.3"
  }
 },
 "nbformat": 4,
 "nbformat_minor": 4
}
